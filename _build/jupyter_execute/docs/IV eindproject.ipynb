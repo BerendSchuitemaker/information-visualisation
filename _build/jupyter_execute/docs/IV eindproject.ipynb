{
 "cells": [
  {
   "cell_type": "markdown",
   "id": "4860e68b",
   "metadata": {},
   "source": [
    "<div style=\"text-align:center; font-size:70px; font-family:'Comic Sans MS'; font-weight:bold; margin:50px 0;\">\n",
    "<span style=\"color:#FFB4EE\">g</span><span style=\"color:#FF6B00\">e</span><span style=\"color:#FFA433\">l</span><span style=\"color:#FFD525\">u</span><span style=\"color:#B3BD3B\">k</span><span style=\"color:#A0CAC9\">z</span><span style=\"color:#FFB4EE\">a</span><span style=\"color:#FF6B00\">l</span><span style=\"color:#FFA433\">i</span><span style=\"color:#FFD525\">g</span><span style=\"color:#B3BD3B\">h</span><span style=\"color:#A0CAC9\">e</span><span style=\"color:#FFB4EE\">i</span><span style=\"color:#FF6B00\">d</span>\n",
    "</div>\n",
    "\n"
   ]
  },
  {
   "cell_type": "code",
   "execution_count": 1,
   "id": "12638856",
   "metadata": {},
   "outputs": [
    {
     "ename": "FileNotFoundError",
     "evalue": "[Errno 2] No such file or directory: 'C:\\\\Users\\\\tatum\\\\InformatievisualsatieEindproject\\\\regenboog GIF.gif'",
     "output_type": "error",
     "traceback": [
      "\u001b[1;31m---------------------------------------------------------------------------\u001b[0m",
      "\u001b[1;31mFileNotFoundError\u001b[0m                         Traceback (most recent call last)",
      "Cell \u001b[1;32mIn[1], line 5\u001b[0m\n\u001b[0;32m      1\u001b[0m \u001b[38;5;28;01mfrom\u001b[39;00m \u001b[38;5;21;01mIPython\u001b[39;00m\u001b[38;5;21;01m.\u001b[39;00m\u001b[38;5;21;01mdisplay\u001b[39;00m \u001b[38;5;28;01mimport\u001b[39;00m Image\n\u001b[0;32m      3\u001b[0m gif_path \u001b[38;5;241m=\u001b[39m \u001b[38;5;124mr\u001b[39m\u001b[38;5;124m\"\u001b[39m\u001b[38;5;124mC:\u001b[39m\u001b[38;5;124m\\\u001b[39m\u001b[38;5;124mUsers\u001b[39m\u001b[38;5;124m\\\u001b[39m\u001b[38;5;124mtatum\u001b[39m\u001b[38;5;124m\\\u001b[39m\u001b[38;5;124mInformatievisualsatieEindproject\u001b[39m\u001b[38;5;124m\\\u001b[39m\u001b[38;5;124mregenboog GIF.gif\u001b[39m\u001b[38;5;124m\"\u001b[39m\n\u001b[1;32m----> 5\u001b[0m \u001b[43mImage\u001b[49m\u001b[43m(\u001b[49m\u001b[43mfilename\u001b[49m\u001b[38;5;241;43m=\u001b[39;49m\u001b[43mgif_path\u001b[49m\u001b[43m)\u001b[49m\n",
      "File \u001b[1;32m~\\anaconda3\\envs\\jupyterbook\\lib\\site-packages\\IPython\\core\\display.py:970\u001b[0m, in \u001b[0;36mImage.__init__\u001b[1;34m(self, data, url, filename, format, embed, width, height, retina, unconfined, metadata, alt)\u001b[0m\n\u001b[0;32m    968\u001b[0m \u001b[38;5;28mself\u001b[39m\u001b[38;5;241m.\u001b[39munconfined \u001b[38;5;241m=\u001b[39m unconfined\n\u001b[0;32m    969\u001b[0m \u001b[38;5;28mself\u001b[39m\u001b[38;5;241m.\u001b[39malt \u001b[38;5;241m=\u001b[39m alt\n\u001b[1;32m--> 970\u001b[0m \u001b[38;5;28;43msuper\u001b[39;49m\u001b[43m(\u001b[49m\u001b[43mImage\u001b[49m\u001b[43m,\u001b[49m\u001b[43m \u001b[49m\u001b[38;5;28;43mself\u001b[39;49m\u001b[43m)\u001b[49m\u001b[38;5;241;43m.\u001b[39;49m\u001b[38;5;21;43m__init__\u001b[39;49m\u001b[43m(\u001b[49m\u001b[43mdata\u001b[49m\u001b[38;5;241;43m=\u001b[39;49m\u001b[43mdata\u001b[49m\u001b[43m,\u001b[49m\u001b[43m \u001b[49m\u001b[43murl\u001b[49m\u001b[38;5;241;43m=\u001b[39;49m\u001b[43murl\u001b[49m\u001b[43m,\u001b[49m\u001b[43m \u001b[49m\u001b[43mfilename\u001b[49m\u001b[38;5;241;43m=\u001b[39;49m\u001b[43mfilename\u001b[49m\u001b[43m,\u001b[49m\n\u001b[0;32m    971\u001b[0m \u001b[43m        \u001b[49m\u001b[43mmetadata\u001b[49m\u001b[38;5;241;43m=\u001b[39;49m\u001b[43mmetadata\u001b[49m\u001b[43m)\u001b[49m\n\u001b[0;32m    973\u001b[0m \u001b[38;5;28;01mif\u001b[39;00m \u001b[38;5;28mself\u001b[39m\u001b[38;5;241m.\u001b[39mwidth \u001b[38;5;129;01mis\u001b[39;00m \u001b[38;5;28;01mNone\u001b[39;00m \u001b[38;5;129;01mand\u001b[39;00m \u001b[38;5;28mself\u001b[39m\u001b[38;5;241m.\u001b[39mmetadata\u001b[38;5;241m.\u001b[39mget(\u001b[38;5;124m'\u001b[39m\u001b[38;5;124mwidth\u001b[39m\u001b[38;5;124m'\u001b[39m, {}):\n\u001b[0;32m    974\u001b[0m     \u001b[38;5;28mself\u001b[39m\u001b[38;5;241m.\u001b[39mwidth \u001b[38;5;241m=\u001b[39m metadata[\u001b[38;5;124m'\u001b[39m\u001b[38;5;124mwidth\u001b[39m\u001b[38;5;124m'\u001b[39m]\n",
      "File \u001b[1;32m~\\anaconda3\\envs\\jupyterbook\\lib\\site-packages\\IPython\\core\\display.py:327\u001b[0m, in \u001b[0;36mDisplayObject.__init__\u001b[1;34m(self, data, url, filename, metadata)\u001b[0m\n\u001b[0;32m    324\u001b[0m \u001b[38;5;28;01melif\u001b[39;00m \u001b[38;5;28mself\u001b[39m\u001b[38;5;241m.\u001b[39mmetadata \u001b[38;5;129;01mis\u001b[39;00m \u001b[38;5;28;01mNone\u001b[39;00m:\n\u001b[0;32m    325\u001b[0m     \u001b[38;5;28mself\u001b[39m\u001b[38;5;241m.\u001b[39mmetadata \u001b[38;5;241m=\u001b[39m {}\n\u001b[1;32m--> 327\u001b[0m \u001b[38;5;28;43mself\u001b[39;49m\u001b[38;5;241;43m.\u001b[39;49m\u001b[43mreload\u001b[49m\u001b[43m(\u001b[49m\u001b[43m)\u001b[49m\n\u001b[0;32m    328\u001b[0m \u001b[38;5;28mself\u001b[39m\u001b[38;5;241m.\u001b[39m_check_data()\n",
      "File \u001b[1;32m~\\anaconda3\\envs\\jupyterbook\\lib\\site-packages\\IPython\\core\\display.py:1005\u001b[0m, in \u001b[0;36mImage.reload\u001b[1;34m(self)\u001b[0m\n\u001b[0;32m   1003\u001b[0m \u001b[38;5;250m\u001b[39m\u001b[38;5;124;03m\"\"\"Reload the raw data from file or URL.\"\"\"\u001b[39;00m\n\u001b[0;32m   1004\u001b[0m \u001b[38;5;28;01mif\u001b[39;00m \u001b[38;5;28mself\u001b[39m\u001b[38;5;241m.\u001b[39membed:\n\u001b[1;32m-> 1005\u001b[0m     \u001b[38;5;28;43msuper\u001b[39;49m\u001b[43m(\u001b[49m\u001b[43mImage\u001b[49m\u001b[43m,\u001b[49m\u001b[38;5;28;43mself\u001b[39;49m\u001b[43m)\u001b[49m\u001b[38;5;241;43m.\u001b[39;49m\u001b[43mreload\u001b[49m\u001b[43m(\u001b[49m\u001b[43m)\u001b[49m\n\u001b[0;32m   1006\u001b[0m     \u001b[38;5;28;01mif\u001b[39;00m \u001b[38;5;28mself\u001b[39m\u001b[38;5;241m.\u001b[39mretina:\n\u001b[0;32m   1007\u001b[0m         \u001b[38;5;28mself\u001b[39m\u001b[38;5;241m.\u001b[39m_retina_shape()\n",
      "File \u001b[1;32m~\\anaconda3\\envs\\jupyterbook\\lib\\site-packages\\IPython\\core\\display.py:353\u001b[0m, in \u001b[0;36mDisplayObject.reload\u001b[1;34m(self)\u001b[0m\n\u001b[0;32m    351\u001b[0m \u001b[38;5;28;01mif\u001b[39;00m \u001b[38;5;28mself\u001b[39m\u001b[38;5;241m.\u001b[39mfilename \u001b[38;5;129;01mis\u001b[39;00m \u001b[38;5;129;01mnot\u001b[39;00m \u001b[38;5;28;01mNone\u001b[39;00m:\n\u001b[0;32m    352\u001b[0m     encoding \u001b[38;5;241m=\u001b[39m \u001b[38;5;28;01mNone\u001b[39;00m \u001b[38;5;28;01mif\u001b[39;00m \u001b[38;5;124m\"\u001b[39m\u001b[38;5;124mb\u001b[39m\u001b[38;5;124m\"\u001b[39m \u001b[38;5;129;01min\u001b[39;00m \u001b[38;5;28mself\u001b[39m\u001b[38;5;241m.\u001b[39m_read_flags \u001b[38;5;28;01melse\u001b[39;00m \u001b[38;5;124m\"\u001b[39m\u001b[38;5;124mutf-8\u001b[39m\u001b[38;5;124m\"\u001b[39m\n\u001b[1;32m--> 353\u001b[0m     \u001b[38;5;28;01mwith\u001b[39;00m \u001b[38;5;28;43mopen\u001b[39;49m\u001b[43m(\u001b[49m\u001b[38;5;28;43mself\u001b[39;49m\u001b[38;5;241;43m.\u001b[39;49m\u001b[43mfilename\u001b[49m\u001b[43m,\u001b[49m\u001b[43m \u001b[49m\u001b[38;5;28;43mself\u001b[39;49m\u001b[38;5;241;43m.\u001b[39;49m\u001b[43m_read_flags\u001b[49m\u001b[43m,\u001b[49m\u001b[43m \u001b[49m\u001b[43mencoding\u001b[49m\u001b[38;5;241;43m=\u001b[39;49m\u001b[43mencoding\u001b[49m\u001b[43m)\u001b[49m \u001b[38;5;28;01mas\u001b[39;00m f:\n\u001b[0;32m    354\u001b[0m         \u001b[38;5;28mself\u001b[39m\u001b[38;5;241m.\u001b[39mdata \u001b[38;5;241m=\u001b[39m f\u001b[38;5;241m.\u001b[39mread()\n\u001b[0;32m    355\u001b[0m \u001b[38;5;28;01melif\u001b[39;00m \u001b[38;5;28mself\u001b[39m\u001b[38;5;241m.\u001b[39murl \u001b[38;5;129;01mis\u001b[39;00m \u001b[38;5;129;01mnot\u001b[39;00m \u001b[38;5;28;01mNone\u001b[39;00m:\n\u001b[0;32m    356\u001b[0m     \u001b[38;5;66;03m# Deferred import\u001b[39;00m\n",
      "\u001b[1;31mFileNotFoundError\u001b[0m: [Errno 2] No such file or directory: 'C:\\\\Users\\\\tatum\\\\InformatievisualsatieEindproject\\\\regenboog GIF.gif'"
     ]
    }
   ],
   "source": [
    "from IPython.display import Image\n",
    "\n",
    "gif_path = r\"C:\\Users\\tatum\\InformatievisualsatieEindproject\\regenboog GIF.gif\"\n",
    "\n",
    "Image(filename=gif_path)\n"
   ]
  },
  {
   "cell_type": "markdown",
   "id": "57b0a482",
   "metadata": {},
   "source": [
    "<div style=\"text-align:center; font-size:30px; font-family:'Comic Sans MS'; font-weight:bold; margin:50px 0;\">\n",
    "<span style=\"color:#FFB4EE\">i</span><span style=\"color:#FF6B00\">n</span><span style=\"color:#FFA433\">t</span><span style=\"color:#FFD525\">r</span><span style=\"color:#B3BD3B\">o</span><span style=\"color:#A0CAC9\">d</span><span style=\"color:#FFB4EE\">u</span><span style=\"color:#FF6B00\">c</span><span style=\"color:#FFA433\">t</span><span style=\"color:#FFD525\">i</span><span style=\"color:#B3BD3B\">e</span>\n",
    "</div>\n",
    "\n",
    "\n",
    "\n",
    "<div style=\"text-align:center; font-weight:bold; color: black; margin:50px 0; -webkit-text-stroke: 2px blue;\">\n",
    "Geluk speelt een rol in ieders leven (Grafiek 1). In een wereld waar vrijheid en geluk twee fundamentele pijlers van welzijn zijn, onderzoeken we diepgaand de boeiende interactie tussen beide. Door de lens van data-analyse richten we onze blik op de impact van de vrijheid die een land zijn volk biedt, evenals de invloed van het weer op het geluk van zijn bevolking.\n",
    "</div>\n"
   ]
  },
  {
   "cell_type": "code",
   "execution_count": 22,
   "id": "49c7a4f2",
   "metadata": {},
   "outputs": [
    {
     "name": "stderr",
     "output_type": "stream",
     "text": [
      "C:\\Users\\tatum\\AppData\\Local\\Temp\\ipykernel_19876\\2162191878.py:10: FutureWarning:\n",
      "\n",
      "The geopandas.dataset module is deprecated and will be removed in GeoPandas 1.0. You can get the original 'naturalearth_lowres' data from https://www.naturalearthdata.com/downloads/110m-cultural-vectors/.\n",
      "\n"
     ]
    },
    {
     "data": {
      "image/png": "[encoded data removed]",
      "text/plain": [
       "<Figure size 3000x1000 with 2 Axes>"
      ]
     },
     "metadata": {},
     "output_type": "display_data"
    }
   ],
   "source": [
    "import pandas as pd\n",
    "import geopandas as gpd\n",
    "import matplotlib.pyplot as plt\n",
    "import matplotlib.colors as mcolors\n",
    "\n",
    "# Read the dataset into a DataFrame\n",
    "df = pd.read_csv(r\"C:\\Users\\tatum\\Downloads\\merged_df_happy_2019.csv\")\n",
    "\n",
    "# Read the shapefile containing the world map\n",
    "world = gpd.read_file(gpd.datasets.get_path('naturalearth_lowres'))\n",
    "\n",
    "# Create a dictionary that maps the country names in your dataset to the corresponding country names in the world GeoDataFrame\n",
    "name_map = {\n",
    "    'United States': 'United States of America',\n",
    "}\n",
    "\n",
    "# Replace the country names in your DataFrame using the name_map dictionary\n",
    "df['Country or region'] = df['Country or region'].replace(name_map)\n",
    "\n",
    "# Merge the two DataFrames on the country name\n",
    "merged = world.merge(df, left_on='name', right_on='Country or region', how='left')\n",
    "\n",
    "# Create a custom color map\n",
    "cmap = mcolors.LinearSegmentedColormap.from_list(\"mycmap\", [[0, '#0000ff'], [0.25, '#9400d3'], [0.5, '#ff69b4'], [0.75, '#ffa500'], [1, '#ffff00']])\n",
    "\n",
    "# Plot the world map with the happiness score as the color\n",
    "fig, ax = plt.subplots(1, 1, figsize=(30, 10))\n",
    "merged.plot(column='happiness_score', ax=ax, legend=True, cmap=cmap, missing_kwds={'color': 'lightgrey'})\n",
    "\n",
    "# Remove x and y axis tick labels\n",
    "ax.set_xticklabels([])\n",
    "ax.set_yticklabels([])\n",
    "\n",
    "# Add a title to the plot\n",
    "ax.set_title('Het gevoel van gelukzaligheid op de aarde')\n",
    "\n",
    "plt.show()\n"
   ]
  },
  {
   "cell_type": "markdown",
   "id": "13a1cf97",
   "metadata": {},
   "source": [
    "Grafiek 1: Deze grafiek toont de verdeling van het geluksgevoel wereldwijd. De geluksscores zijn gebaseerd op zelfrapportage, waarbij hogere scores wijzen op een groter gevoel van geluk, terwijl lagere scores duiden op een lager geluksniveau. De grijze gebieden op de grafiek bevatten geen beschikbare gegevens en zijn niet meegenomen in de berekeningen."
   ]
  },
  {
   "cell_type": "markdown",
   "id": "6c6e8996",
   "metadata": {},
   "source": [
    "<div style=\"text-align:center; font-size:30px; font-family:'Comic Sans MS'; font-weight:bold; margin:50px 0;\">\n",
    "<span style=\"color:#FFB4EE\">S</span><span style=\"color:#FF6B00\">t</span><span style=\"color:#FFA433\">e</span><span style=\"color:#FFD525\">l</span><span style=\"color:#B3BD3B\">l</span><span style=\"color:#A0CAC9\">i</span><span style=\"color:#FFB4EE\">n</span><span style=\"color:#FF6B00\">g</span><span style=\"color:#FFA433\">:</span>\n",
    "</div>\n",
    "\n",
    "\n",
    "\n",
    "<div style=\"text-align:center; font-weight:bold; color: black; margin:50px 0; -webkit-text-stroke: 2px blue;\">\n",
    "Vrijheid die een overheid kan bieden aan haar volk, heeft een positieve invloed op de gelukzaligheid van haar burgers.\n",
    "</div>"
   ]
  },
  {
   "cell_type": "code",
   "execution_count": 33,
   "id": "8d11fe15",
   "metadata": {},
   "outputs": [
    {
     "data": {
      "application/vnd.plotly.v1+json": {
       "config": {
        "plotlyServerURL": "https://plot.ly"
       },
       "data": [
        {
         "hoverlabel": {
          "bgcolor": "white",
          "font": {
           "color": "#ffc900",
           "size": 16
          }
         },
         "hovertemplate": "<b>%{hovertext}</b>",
         "hovertext": [
          "Denmark"
         ],
         "mode": "text",
         "text": [
          "Den"
         ],
         "textfont": {
          "color": "#ffc900",
          "family": "Arial Black",
          "size": 14
         },
         "textposition": "bottom center",
         "type": "scatter",
         "x": [
          0.3082807894736842
         ],
         "xaxis": "x",
         "y": [
          0.2002594736842105
         ],
         "yaxis": "y"
        },
        {
         "hoverlabel": {
          "bgcolor": "white",
          "font": {
           "color": "#ffc800",
           "size": 16
          }
         },
         "hovertemplate": "<b>%{hovertext}</b>",
         "hovertext": [
          "Switzerland"
         ],
         "mode": "text",
         "text": [
          "Swi"
         ],
         "textfont": {
          "color": "#ffc800",
          "family": "Arial Black",
          "size": 14
         },
         "textposition": "bottom center",
         "type": "scatter",
         "x": [
          0.27578078947368423
         ],
         "xaxis": "x",
         "y": [
          0.20641947368421054
         ],
         "yaxis": "y"
        },
        {
         "hoverlabel": {
          "bgcolor": "white",
          "font": {
           "color": "#ffc800",
           "size": 16
          }
         },
         "hovertemplate": "<b>%{hovertext}</b>",
         "hovertext": [
          "Iceland"
         ],
         "mode": "text",
         "text": [
          "Ice"
         ],
         "textfont": {
          "color": "#ffc800",
          "family": "Arial Black",
          "size": 14
         },
         "textposition": "bottom center",
         "type": "scatter",
         "x": [
          0.013500789473684188
         ],
         "xaxis": "x",
         "y": [
          0.18708947368421047
         ],
         "yaxis": "y"
        },
        {
         "hoverlabel": {
          "bgcolor": "white",
          "font": {
           "color": "#ffc800",
           "size": 16
          }
         },
         "hovertemplate": "<b>%{hovertext}</b>",
         "hovertext": [
          "Norway"
         ],
         "mode": "text",
         "text": [
          "Nor"
         ],
         "textfont": {
          "color": "#ffc800",
          "family": "Arial Black",
          "size": 14
         },
         "textposition": "bottom center",
         "type": "scatter",
         "x": [
          0.22151078947368422
         ],
         "xaxis": "x",
         "y": [
          0.21693947368421052
         ],
         "yaxis": "y"
        },
        {
         "hoverlabel": {
          "bgcolor": "white",
          "font": {
           "color": "#ffc200",
           "size": 16
          }
         },
         "hovertemplate": "<b>%{hovertext}</b>",
         "hovertext": [
          "Finland"
         ],
         "mode": "text",
         "text": [
          "Fin"
         ],
         "textfont": {
          "color": "#ffc200",
          "family": "Arial Black",
          "size": 14
         },
         "textposition": "bottom center",
         "type": "scatter",
         "x": [
          0.2737907894736842
         ],
         "xaxis": "x",
         "y": [
          0.1918894736842105
         ],
         "yaxis": "y"
        },
        {
         "hoverlabel": {
          "bgcolor": "white",
          "font": {
           "color": "#ffc200",
           "size": 16
          }
         },
         "hovertemplate": "<b>%{hovertext}</b>",
         "hovertext": [
          "Canada"
         ],
         "mode": "text",
         "text": [
          "Can"
         ],
         "textfont": {
          "color": "#ffc200",
          "family": "Arial Black",
          "size": 14
         },
         "textposition": "bottom center",
         "type": "scatter",
         "x": [
          0.1770407894736842
         ],
         "xaxis": "x",
         "y": [
          0.1945494736842105
         ],
         "yaxis": "y"
        },
        {
         "hoverlabel": {
          "bgcolor": "white",
          "font": {
           "color": "#ffbf00",
           "size": 16
          }
         },
         "hovertemplate": "<b>%{hovertext}</b>",
         "hovertext": [
          "Netherlands"
         ],
         "mode": "text",
         "text": [
          "Net"
         ],
         "textfont": {
          "color": "#ffbf00",
          "family": "Arial Black",
          "size": 14
         },
         "textposition": "bottom center",
         "type": "scatter",
         "x": [
          0.16302078947368417
         ],
         "xaxis": "x",
         "y": [
          0.1729594736842105
         ],
         "yaxis": "y"
        },
        {
         "hoverlabel": {
          "bgcolor": "white",
          "font": {
           "color": "#ffbe00",
           "size": 16
          }
         },
         "hovertemplate": "<b>%{hovertext}</b>",
         "hovertext": [
          "New Zealand"
         ],
         "mode": "text",
         "text": [
          "New"
         ],
         "textfont": {
          "color": "#ffbe00",
          "family": "Arial Black",
          "size": 14
         },
         "textposition": "bottom center",
         "type": "scatter",
         "x": [
          0.2827907894736842
         ],
         "xaxis": "x",
         "y": [
          0.20231947368421055
         ],
         "yaxis": "y"
        },
        {
         "hoverlabel": {
          "bgcolor": "white",
          "font": {
           "color": "#ffbd00",
           "size": 16
          }
         },
         "hovertemplate": "<b>%{hovertext}</b>",
         "hovertext": [
          "Sweden"
         ],
         "mode": "text",
         "text": [
          "Swe"
         ],
         "textfont": {
          "color": "#ffbd00",
          "family": "Arial Black",
          "size": 14
         },
         "textposition": "bottom center",
         "type": "scatter",
         "x": [
          0.2724207894736842
         ],
         "xaxis": "x",
         "y": [
          0.20302947368421054
         ],
         "yaxis": "y"
        },
        {
         "hoverlabel": {
          "bgcolor": "white",
          "font": {
           "color": "#ffbb00",
           "size": 16
          }
         },
         "hovertemplate": "<b>%{hovertext}</b>",
         "hovertext": [
          "Israel"
         ],
         "mode": "text",
         "text": [
          "Isr"
         ],
         "textfont": {
          "color": "#ffbb00",
          "family": "Arial Black",
          "size": 14
         },
         "textposition": "bottom center",
         "type": "scatter",
         "x": [
          -0.04896921052631581
         ],
         "xaxis": "x",
         "y": [
          -0.014830526315789516
         ],
         "yaxis": "y"
        },
        {
         "hoverlabel": {
          "bgcolor": "white",
          "font": {
           "color": "#ffb300",
           "size": 16
          }
         },
         "hovertemplate": "<b>%{hovertext}</b>",
         "hovertext": [
          "Austria"
         ],
         "mode": "text",
         "text": [
          "Aus"
         ],
         "textfont": {
          "color": "#ffb300",
          "family": "Arial Black",
          "size": 14
         },
         "textposition": "bottom center",
         "type": "scatter",
         "x": [
          0.0772307894736842
         ],
         "xaxis": "x",
         "y": [
          0.16439947368421048
         ],
         "yaxis": "y"
        },
        {
         "hoverlabel": {
          "bgcolor": "white",
          "font": {
           "color": "#ffb100",
           "size": 16
          }
         },
         "hovertemplate": "<b>%{hovertext}</b>",
         "hovertext": [
          "Costa Rica"
         ],
         "mode": "text",
         "text": [
          "Cos"
         ],
         "textfont": {
          "color": "#ffb100",
          "family": "Arial Black",
          "size": 14
         },
         "textposition": "bottom center",
         "type": "scatter",
         "x": [
          -0.03077921052631581
         ],
         "xaxis": "x",
         "y": [
          0.17309947368421053
         ],
         "yaxis": "y"
        },
        {
         "hoverlabel": {
          "bgcolor": "white",
          "font": {
           "color": "#ffac00",
           "size": 16
          }
         },
         "hovertemplate": "<b>%{hovertext}</b>",
         "hovertext": [
          "Germany"
         ],
         "mode": "text",
         "text": [
          "Ger"
         ],
         "textfont": {
          "color": "#ffac00",
          "family": "Arial Black",
          "size": 14
         },
         "textposition": "bottom center",
         "type": "scatter",
         "x": [
          0.14926078947368418
         ],
         "xaxis": "x",
         "y": [
          0.15550947368421053
         ],
         "yaxis": "y"
        },
        {
         "hoverlabel": {
          "bgcolor": "white",
          "font": {
           "color": "#ffaa00",
           "size": 16
          }
         },
         "hovertemplate": "<b>%{hovertext}</b>",
         "hovertext": [
          "Brazil"
         ],
         "mode": "text",
         "text": [
          "Bra"
         ],
         "textfont": {
          "color": "#ffaa00",
          "family": "Arial Black",
          "size": 14
         },
         "textposition": "bottom center",
         "type": "scatter",
         "x": [
          0.005410789473684202
         ],
         "xaxis": "x",
         "y": [
          0.025099473684210505
         ],
         "yaxis": "y"
        },
        {
         "hoverlabel": {
          "bgcolor": "white",
          "font": {
           "color": "#ffa900",
           "size": 16
          }
         },
         "hovertemplate": "<b>%{hovertext}</b>",
         "hovertext": [
          "Belgium"
         ],
         "mode": "text",
         "text": [
          "Bel"
         ],
         "textfont": {
          "color": "#ffa900",
          "family": "Arial Black",
          "size": 14
         },
         "textposition": "bottom center",
         "type": "scatter",
         "x": [
          0.12623078947368419
         ],
         "xaxis": "x",
         "y": [
          0.1343894736842105
         ],
         "yaxis": "y"
        },
        {
         "hoverlabel": {
          "bgcolor": "white",
          "font": {
           "color": "#ffa700",
           "size": 16
          }
         },
         "hovertemplate": "<b>%{hovertext}</b>",
         "hovertext": [
          "Ireland"
         ],
         "mode": "text",
         "text": [
          "Ire"
         ],
         "textfont": {
          "color": "#ffa700",
          "family": "Arial Black",
          "size": 14
         },
         "textposition": "bottom center",
         "type": "scatter",
         "x": [
          0.16129078947368422
         ],
         "xaxis": "x",
         "y": [
          0.1609294736842105
         ],
         "yaxis": "y"
        },
        {
         "hoverlabel": {
          "bgcolor": "white",
          "font": {
           "color": "#ffa600",
           "size": 16
          }
         },
         "hovertemplate": "<b>%{hovertext}</b>",
         "hovertext": [
          "Luxembourg"
         ],
         "mode": "text",
         "text": [
          "Lux"
         ],
         "textfont": {
          "color": "#ffa600",
          "family": "Arial Black",
          "size": 14
         },
         "textposition": "bottom center",
         "type": "scatter",
         "x": [
          0.2170407894736842
         ],
         "xaxis": "x",
         "y": [
          0.16954947368421047
         ],
         "yaxis": "y"
        },
        {
         "hoverlabel": {
          "bgcolor": "white",
          "font": {
           "color": "#ffa209",
           "size": 16
          }
         },
         "hovertemplate": "<b>%{hovertext}</b>",
         "hovertext": [
          "Mexico"
         ],
         "mode": "text",
         "text": [
          "Mex"
         ],
         "textfont": {
          "color": "#ffa209",
          "family": "Arial Black",
          "size": 14
         },
         "textposition": "bottom center",
         "type": "scatter",
         "x": [
          0.047300789473684185
         ],
         "xaxis": "x",
         "y": [
          -0.0020605263157895126
         ],
         "yaxis": "y"
        },
        {
         "hoverlabel": {
          "bgcolor": "white",
          "font": {
           "color": "#ffa00f",
           "size": 16
          }
         },
         "hovertemplate": "<b>%{hovertext}</b>",
         "hovertext": [
          "Singapore"
         ],
         "mode": "text",
         "text": [
          "Sin"
         ],
         "textfont": {
          "color": "#ffa00f",
          "family": "Arial Black",
          "size": 14
         },
         "textposition": "bottom center",
         "type": "scatter",
         "x": [
          0.33362078947368423
         ],
         "xaxis": "x",
         "y": [
          0.10854947368421053
         ],
         "yaxis": "y"
        },
        {
         "hoverlabel": {
          "bgcolor": "white",
          "font": {
           "color": "#ff9f12",
           "size": 16
          }
         },
         "hovertemplate": "<b>%{hovertext}</b>",
         "hovertext": [
          "Chile"
         ],
         "mode": "text",
         "text": [
          "Chi"
         ],
         "textfont": {
          "color": "#ff9f12",
          "family": "Arial Black",
          "size": 14
         },
         "textposition": "bottom center",
         "type": "scatter",
         "x": [
          -0.021739210526315805
         ],
         "xaxis": "x",
         "y": [
          -0.0012605263157894897
         ],
         "yaxis": "y"
        },
        {
         "hoverlabel": {
          "bgcolor": "white",
          "font": {
           "color": "#ff9f12",
           "size": 16
          }
         },
         "hovertemplate": "<b>%{hovertext}</b>",
         "hovertext": [
          "Panama"
         ],
         "mode": "text",
         "text": [
          "Pan"
         ],
         "textfont": {
          "color": "#ff9f12",
          "family": "Arial Black",
          "size": 14
         },
         "textposition": "bottom center",
         "type": "scatter",
         "x": [
          -0.05201921052631581
         ],
         "xaxis": "x",
         "y": [
          0.11011947368421049
         ],
         "yaxis": "y"
        },
        {
         "hoverlabel": {
          "bgcolor": "white",
          "font": {
           "color": "#ff9d17",
           "size": 16
          }
         },
         "hovertemplate": "<b>%{hovertext}</b>",
         "hovertext": [
          "Argentina"
         ],
         "mode": "text",
         "text": [
          "Arg"
         ],
         "textfont": {
          "color": "#ff9d17",
          "family": "Arial Black",
          "size": 14
         },
         "textposition": "bottom center",
         "type": "scatter",
         "x": [
          -0.06328921052631581
         ],
         "xaxis": "x",
         "y": [
          0.0436894736842105
         ],
         "yaxis": "y"
        },
        {
         "hoverlabel": {
          "bgcolor": "white",
          "font": {
           "color": "#ff9a20",
           "size": 16
          }
         },
         "hovertemplate": "<b>%{hovertext}</b>",
         "hovertext": [
          "United Arab Emirates"
         ],
         "mode": "text",
         "text": [
          "Uni"
         ],
         "textfont": {
          "color": "#ff9a20",
          "family": "Arial Black",
          "size": 14
         },
         "textposition": "bottom center",
         "type": "scatter",
         "x": [
          0.21936078947368418
         ],
         "xaxis": "x",
         "y": [
          0.18299947368421055
         ],
         "yaxis": "y"
        },
        {
         "hoverlabel": {
          "bgcolor": "white",
          "font": {
           "color": "#ff9923",
           "size": 16
          }
         },
         "hovertemplate": "<b>%{hovertext}</b>",
         "hovertext": [
          "Uruguay"
         ],
         "mode": "text",
         "text": [
          "Uru"
         ],
         "textfont": {
          "color": "#ff9923",
          "family": "Arial Black",
          "size": 14
         },
         "textposition": "bottom center",
         "type": "scatter",
         "x": [
          0.07769078947368419
         ],
         "xaxis": "x",
         "y": [
          0.16472947368421054
         ],
         "yaxis": "y"
        },
        {
         "hoverlabel": {
          "bgcolor": "white",
          "font": {
           "color": "#ff9828",
           "size": 16
          }
         },
         "hovertemplate": "<b>%{hovertext}</b>",
         "hovertext": [
          "Malta"
         ],
         "mode": "text",
         "text": [
          "Mal"
         ],
         "textfont": {
          "color": "#ff9828",
          "family": "Arial Black",
          "size": 14
         },
         "textposition": "bottom center",
         "type": "scatter",
         "x": [
          0.039290789473684196
         ],
         "xaxis": "x",
         "y": [
          0.1707894736842105
         ],
         "yaxis": "y"
        },
        {
         "hoverlabel": {
          "bgcolor": "white",
          "font": {
           "color": "#ff972b",
           "size": 16
          }
         },
         "hovertemplate": "<b>%{hovertext}</b>",
         "hovertext": [
          "Colombia"
         ],
         "mode": "text",
         "text": [
          "Col"
         ],
         "textfont": {
          "color": "#ff972b",
          "family": "Arial Black",
          "size": 14
         },
         "textposition": "bottom center",
         "type": "scatter",
         "x": [
          -0.0822592105263158
         ],
         "xaxis": "x",
         "y": [
          0.06819947368421053
         ],
         "yaxis": "y"
        },
        {
         "hoverlabel": {
          "bgcolor": "white",
          "font": {
           "color": "#ff972b",
           "size": 16
          }
         },
         "hovertemplate": "<b>%{hovertext}</b>",
         "hovertext": [
          "France"
         ],
         "mode": "text",
         "text": [
          "Fra"
         ],
         "textfont": {
          "color": "#ff972b",
          "family": "Arial Black",
          "size": 14
         },
         "textposition": "bottom center",
         "type": "scatter",
         "x": [
          0.04183078947368418
         ],
         "xaxis": "x",
         "y": [
          0.08646947368421048
         ],
         "yaxis": "y"
        },
        {
         "hoverlabel": {
          "bgcolor": "white",
          "font": {
           "color": "#ff972b",
           "size": 16
          }
         },
         "hovertemplate": "<b>%{hovertext}</b>",
         "hovertext": [
          "Thailand"
         ],
         "mode": "text",
         "text": [
          "Tha"
         ],
         "textfont": {
          "color": "#ff972b",
          "family": "Arial Black",
          "size": 14
         },
         "textposition": "bottom center",
         "type": "scatter",
         "x": [
          -0.10791921052631581
         ],
         "xaxis": "x",
         "y": [
          0.11637947368421053
         ],
         "yaxis": "y"
        },
        {
         "hoverlabel": {
          "bgcolor": "white",
          "font": {
           "color": "#ff9336",
           "size": 16
          }
         },
         "hovertemplate": "<b>%{hovertext}</b>",
         "hovertext": [
          "Saudi Arabia"
         ],
         "mode": "text",
         "text": [
          "Sau"
         ],
         "textfont": {
          "color": "#ff9336",
          "family": "Arial Black",
          "size": 14
         },
         "textposition": "bottom center",
         "type": "scatter",
         "x": [
          0.1638307894736842
         ],
         "xaxis": "x",
         "y": [
          -0.00011052631578950534
         ],
         "yaxis": "y"
        },
        {
         "hoverlabel": {
          "bgcolor": "white",
          "font": {
           "color": "#ff9336",
           "size": 16
          }
         },
         "hovertemplate": "<b>%{hovertext}</b>",
         "hovertext": [
          "Spain"
         ],
         "mode": "text",
         "text": [
          "Spa"
         ],
         "textfont": {
          "color": "#ff9336",
          "family": "Arial Black",
          "size": 14
         },
         "textposition": "bottom center",
         "type": "scatter",
         "x": [
          -0.0748792105263158
         ],
         "xaxis": "x",
         "y": [
          -0.0037005263157894874
         ],
         "yaxis": "y"
        },
        {
         "hoverlabel": {
          "bgcolor": "white",
          "font": {
           "color": "#ff913c",
           "size": 16
          }
         },
         "hovertemplate": "<b>%{hovertext}</b>",
         "hovertext": [
          "Guatemala"
         ],
         "mode": "text",
         "text": [
          "Gua"
         ],
         "textfont": {
          "color": "#ff913c",
          "family": "Arial Black",
          "size": 14
         },
         "textposition": "bottom center",
         "type": "scatter",
         "x": [
          -0.0492392105263158
         ],
         "xaxis": "x",
         "y": [
          0.12463947368421047
         ],
         "yaxis": "y"
        },
        {
         "hoverlabel": {
          "bgcolor": "white",
          "font": {
           "color": "#ff8e44",
           "size": 16
          }
         },
         "hovertemplate": "<b>%{hovertext}</b>",
         "hovertext": [
          "Kuwait"
         ],
         "mode": "text",
         "text": [
          "Kuw"
         ],
         "textfont": {
          "color": "#ff8e44",
          "family": "Arial Black",
          "size": 14
         },
         "textposition": "bottom center",
         "type": "scatter",
         "x": [
          0.1004407894736842
         ],
         "xaxis": "x",
         "y": [
          0.052509473684210495
         ],
         "yaxis": "y"
        },
        {
         "hoverlabel": {
          "bgcolor": "white",
          "font": {
           "color": "#ff8d47",
           "size": 16
          }
         },
         "hovertemplate": "<b>%{hovertext}</b>",
         "hovertext": [
          "Bahrain"
         ],
         "mode": "text",
         "text": [
          "Bah"
         ],
         "textfont": {
          "color": "#ff8d47",
          "family": "Arial Black",
          "size": 14
         },
         "textposition": "bottom center",
         "type": "scatter",
         "x": [
          0.1214707894736842
         ],
         "xaxis": "x",
         "y": [
          0.09459947368421051
         ],
         "yaxis": "y"
        },
        {
         "hoverlabel": {
          "bgcolor": "white",
          "font": {
           "color": "#ff8955",
           "size": 16
          }
         },
         "hovertemplate": "<b>%{hovertext}</b>",
         "hovertext": [
          "Slovakia"
         ],
         "mode": "text",
         "text": [
          "Slo"
         ],
         "textfont": {
          "color": "#ff8955",
          "family": "Arial Black",
          "size": 14
         },
         "textposition": "bottom center",
         "type": "scatter",
         "x": [
          -0.10677921052631581
         ],
         "xaxis": "x",
         "y": [
          -0.1452405263157895
         ],
         "yaxis": "y"
        },
        {
         "hoverlabel": {
          "bgcolor": "white",
          "font": {
           "color": "#ff8858",
           "size": 16
          }
         },
         "hovertemplate": "<b>%{hovertext}</b>",
         "hovertext": [
          "El Salvador"
         ],
         "mode": "text",
         "text": [
          "El "
         ],
         "textfont": {
          "color": "#ff8858",
          "family": "Arial Black",
          "size": 14
         },
         "textposition": "bottom center",
         "type": "scatter",
         "x": [
          -0.030119210526315804
         ],
         "xaxis": "x",
         "y": [
          -0.006460526315789472
         ],
         "yaxis": "y"
        },
        {
         "hoverlabel": {
          "bgcolor": "white",
          "font": {
           "color": "#ff865e",
           "size": 16
          }
         },
         "hovertemplate": "<b>%{hovertext}</b>",
         "hovertext": [
          "Malaysia"
         ],
         "mode": "text",
         "text": [
          "Mal"
         ],
         "textfont": {
          "color": "#ff865e",
          "family": "Arial Black",
          "size": 14
         },
         "textposition": "bottom center",
         "type": "scatter",
         "x": [
          -0.045439210526315804
         ],
         "xaxis": "x",
         "y": [
          0.011159473684210497
         ],
         "yaxis": "y"
        },
        {
         "hoverlabel": {
          "bgcolor": "white",
          "font": {
           "color": "#ff865e",
           "size": 16
          }
         },
         "hovertemplate": "<b>%{hovertext}</b>",
         "hovertext": [
          "Nicaragua"
         ],
         "mode": "text",
         "text": [
          "Nic"
         ],
         "textfont": {
          "color": "#ff865e",
          "family": "Arial Black",
          "size": 14
         },
         "textposition": "bottom center",
         "type": "scatter",
         "x": [
          0.026670789473684203
         ],
         "xaxis": "x",
         "y": [
          0.08666947368421052
         ],
         "yaxis": "y"
        },
        {
         "hoverlabel": {
          "bgcolor": "white",
          "font": {
           "color": "#ff8561",
           "size": 16
          }
         },
         "hovertemplate": "<b>%{hovertext}</b>",
         "hovertext": [
          "Uzbekistan"
         ],
         "mode": "text",
         "text": [
          "Uzb"
         ],
         "textfont": {
          "color": "#ff8561",
          "family": "Arial Black",
          "size": 14
         },
         "textposition": "bottom center",
         "type": "scatter",
         "x": [
          0.14708078947368422
         ],
         "xaxis": "x",
         "y": [
          0.22932947368421053
         ],
         "yaxis": "y"
        },
        {
         "hoverlabel": {
          "bgcolor": "white",
          "font": {
           "color": "#ff8561",
           "size": 16
          }
         },
         "hovertemplate": "<b>%{hovertext}</b>",
         "hovertext": [
          "Italy"
         ],
         "mode": "text",
         "text": [
          "Ita"
         ],
         "textfont": {
          "color": "#ff8561",
          "family": "Arial Black",
          "size": 14
         },
         "textposition": "bottom center",
         "type": "scatter",
         "x": [
          -0.1106892105263158
         ],
         "xaxis": "x",
         "y": [
          -0.1908805263157895
         ],
         "yaxis": "y"
        },
        {
         "hoverlabel": {
          "bgcolor": "white",
          "font": {
           "color": "#ff8561",
           "size": 16
          }
         },
         "hovertemplate": "<b>%{hovertext}</b>",
         "hovertext": [
          "Ecuador"
         ],
         "mode": "text",
         "text": [
          "Ecu"
         ],
         "textfont": {
          "color": "#ff8561",
          "family": "Arial Black",
          "size": 14
         },
         "textposition": "bottom center",
         "type": "scatter",
         "x": [
          0.0441207894736842
         ],
         "xaxis": "x",
         "y": [
          0.02354947368421051
         ],
         "yaxis": "y"
        },
        {
         "hoverlabel": {
          "bgcolor": "white",
          "font": {
           "color": "#ff8366",
           "size": 16
          }
         },
         "hovertemplate": "<b>%{hovertext}</b>",
         "hovertext": [
          "Japan"
         ],
         "mode": "text",
         "text": [
          "Jap"
         ],
         "textfont": {
          "color": "#ff8366",
          "family": "Arial Black",
          "size": 14
         },
         "textposition": "bottom center",
         "type": "scatter",
         "x": [
          0.053600789473684185
         ],
         "xaxis": "x",
         "y": [
          0.08845947368421053
         ],
         "yaxis": "y"
        },
        {
         "hoverlabel": {
          "bgcolor": "white",
          "font": {
           "color": "#ff8366",
           "size": 16
          }
         },
         "hovertemplate": "<b>%{hovertext}</b>",
         "hovertext": [
          "Kazakhstan"
         ],
         "mode": "text",
         "text": [
          "Kaz"
         ],
         "textfont": {
          "color": "#ff8366",
          "family": "Arial Black",
          "size": 14
         },
         "textposition": "bottom center",
         "type": "scatter",
         "x": [
          -0.024929210526315804
         ],
         "xaxis": "x",
         "y": [
          0.02604947368421051
         ],
         "yaxis": "y"
        },
        {
         "hoverlabel": {
          "bgcolor": "white",
          "font": {
           "color": "#ff7f72",
           "size": 16
          }
         },
         "hovertemplate": "<b>%{hovertext}</b>",
         "hovertext": [
          "Poland"
         ],
         "mode": "text",
         "text": [
          "Pol"
         ],
         "textfont": {
          "color": "#ff7f72",
          "family": "Arial Black",
          "size": 14
         },
         "textposition": "bottom center",
         "type": "scatter",
         "x": [
          -0.08124921052631581
         ],
         "xaxis": "x",
         "y": [
          0.07274947368421053
         ],
         "yaxis": "y"
        },
        {
         "hoverlabel": {
          "bgcolor": "white",
          "font": {
           "color": "#ff7f72",
           "size": 16
          }
         },
         "hovertemplate": "<b>%{hovertext}</b>",
         "hovertext": [
          "Lithuania"
         ],
         "mode": "text",
         "text": [
          "Lit"
         ],
         "textfont": {
          "color": "#ff7f72",
          "family": "Arial Black",
          "size": 14
         },
         "textposition": "bottom center",
         "type": "scatter",
         "x": [
          -0.11804921052631581
         ],
         "xaxis": "x",
         "y": [
          -0.18986052631578948
         ],
         "yaxis": "y"
        },
        {
         "hoverlabel": {
          "bgcolor": "white",
          "font": {
           "color": "#ff7e74",
           "size": 16
          }
         },
         "hovertemplate": "<b>%{hovertext}</b>",
         "hovertext": [
          "Belarus"
         ],
         "mode": "text",
         "text": [
          "Bel"
         ],
         "textfont": {
          "color": "#ff7e74",
          "family": "Arial Black",
          "size": 14
         },
         "textposition": "bottom center",
         "type": "scatter",
         "x": [
          0.0383207894736842
         ],
         "xaxis": "x",
         "y": [
          -0.08824052631578949
         ],
         "yaxis": "y"
        },
        {
         "hoverlabel": {
          "bgcolor": "white",
          "font": {
           "color": "#ff7d77",
           "size": 16
          }
         },
         "hovertemplate": "<b>%{hovertext}</b>",
         "hovertext": [
          "Slovenia"
         ],
         "mode": "text",
         "text": [
          "Slo"
         ],
         "textfont": {
          "color": "#ff7d77",
          "family": "Arial Black",
          "size": 14
         },
         "textposition": "bottom center",
         "type": "scatter",
         "x": [
          -0.09989921052631581
         ],
         "xaxis": "x",
         "y": [
          0.1524894736842105
         ],
         "yaxis": "y"
        },
        {
         "hoverlabel": {
          "bgcolor": "white",
          "font": {
           "color": "#ff7c7a",
           "size": 16
          }
         },
         "hovertemplate": "<b>%{hovertext}</b>",
         "hovertext": [
          "Peru"
         ],
         "mode": "text",
         "text": [
          "Per"
         ],
         "textfont": {
          "color": "#ff7c7a",
          "family": "Arial Black",
          "size": 14
         },
         "textposition": "bottom center",
         "type": "scatter",
         "x": [
          -0.08332921052631581
         ],
         "xaxis": "x",
         "y": [
          -0.004130526315789473
         ],
         "yaxis": "y"
        },
        {
         "hoverlabel": {
          "bgcolor": "white",
          "font": {
           "color": "#ff7888",
           "size": 16
          }
         },
         "hovertemplate": "<b>%{hovertext}</b>",
         "hovertext": [
          "Libya"
         ],
         "mode": "text",
         "text": [
          "Lib"
         ],
         "textfont": {
          "color": "#ff7888",
          "family": "Arial Black",
          "size": 14
         },
         "textposition": "bottom center",
         "type": "scatter",
         "x": [
          -0.03285921052631581
         ],
         "xaxis": "x",
         "y": [
          0.027569473684210533
         ],
         "yaxis": "y"
        },
        {
         "hoverlabel": {
          "bgcolor": "white",
          "font": {
           "color": "#ff768e",
           "size": 16
          }
         },
         "hovertemplate": "<b>%{hovertext}</b>",
         "hovertext": [
          "Latvia"
         ],
         "mode": "text",
         "text": [
          "Lat"
         ],
         "textfont": {
          "color": "#ff768e",
          "family": "Arial Black",
          "size": 14
         },
         "textposition": "bottom center",
         "type": "scatter",
         "x": [
          -0.0473492105263158
         ],
         "xaxis": "x",
         "y": [
          -0.0991905263157895
         ],
         "yaxis": "y"
        },
        {
         "hoverlabel": {
          "bgcolor": "white",
          "font": {
           "color": "#ff7591",
           "size": 16
          }
         },
         "hovertemplate": "<b>%{hovertext}</b>",
         "hovertext": [
          "Cyprus"
         ],
         "mode": "text",
         "text": [
          "Cyp"
         ],
         "textfont": {
          "color": "#ff7591",
          "family": "Arial Black",
          "size": 14
         },
         "textposition": "bottom center",
         "type": "scatter",
         "x": [
          -0.08396921052631581
         ],
         "xaxis": "x",
         "y": [
          -0.0840805263157895
         ],
         "yaxis": "y"
        },
        {
         "hoverlabel": {
          "bgcolor": "white",
          "font": {
           "color": "#ff7591",
           "size": 16
          }
         },
         "hovertemplate": "<b>%{hovertext}</b>",
         "hovertext": [
          "Paraguay"
         ],
         "mode": "text",
         "text": [
          "Par"
         ],
         "textfont": {
          "color": "#ff7591",
          "family": "Arial Black",
          "size": 14
         },
         "textposition": "bottom center",
         "type": "scatter",
         "x": [
          -0.06228921052631581
         ],
         "xaxis": "x",
         "y": [
          0.08319947368421049
         ],
         "yaxis": "y"
        },
        {
         "hoverlabel": {
          "bgcolor": "white",
          "font": {
           "color": "#ff7591",
           "size": 16
          }
         },
         "hovertemplate": "<b>%{hovertext}</b>",
         "hovertext": [
          "Romania"
         ],
         "mode": "text",
         "text": [
          "Rom"
         ],
         "textfont": {
          "color": "#ff7591",
          "family": "Arial Black",
          "size": 14
         },
         "textposition": "bottom center",
         "type": "scatter",
         "x": [
          -0.12945921052631582
         ],
         "xaxis": "x",
         "y": [
          -0.012030526315789491
         ],
         "yaxis": "y"
        },
        {
         "hoverlabel": {
          "bgcolor": "white",
          "font": {
           "color": "#ff7494",
           "size": 16
          }
         },
         "hovertemplate": "<b>%{hovertext}</b>",
         "hovertext": [
          "Estonia"
         ],
         "mode": "text",
         "text": [
          "Est"
         ],
         "textfont": {
          "color": "#ff7494",
          "family": "Arial Black",
          "size": 14
         },
         "textposition": "bottom center",
         "type": "scatter",
         "x": [
          0.04894078947368419
         ],
         "xaxis": "x",
         "y": [
          0.035959473684210486
         ],
         "yaxis": "y"
        },
        {
         "hoverlabel": {
          "bgcolor": "white",
          "font": {
           "color": "#ff7494",
           "size": 16
          }
         },
         "hovertemplate": "<b>%{hovertext}</b>",
         "hovertext": [
          "Jamaica"
         ],
         "mode": "text",
         "text": [
          "Jam"
         ],
         "textfont": {
          "color": "#ff7494",
          "family": "Arial Black",
          "size": 14
         },
         "textposition": "bottom center",
         "type": "scatter",
         "x": [
          -0.0933092105263158
         ],
         "xaxis": "x",
         "y": [
          0.05681947368421053
         ],
         "yaxis": "y"
        },
        {
         "hoverlabel": {
          "bgcolor": "white",
          "font": {
           "color": "#ff7396",
           "size": 16
          }
         },
         "hovertemplate": "<b>%{hovertext}</b>",
         "hovertext": [
          "Croatia"
         ],
         "mode": "text",
         "text": [
          "Cro"
         ],
         "textfont": {
          "color": "#ff7396",
          "family": "Arial Black",
          "size": 14
         },
         "textposition": "bottom center",
         "type": "scatter",
         "x": [
          -0.0962292105263158
         ],
         "xaxis": "x",
         "y": [
          -0.1400805263157895
         ],
         "yaxis": "y"
        },
        {
         "hoverlabel": {
          "bgcolor": "white",
          "font": {
           "color": "#ff6caa",
           "size": 16
          }
         },
         "hovertemplate": "<b>%{hovertext}</b>",
         "hovertext": [
          "Indonesia"
         ],
         "mode": "text",
         "text": [
          "Ind"
         ],
         "textfont": {
          "color": "#ff6caa",
          "family": "Arial Black",
          "size": 14
         },
         "textposition": "bottom center",
         "type": "scatter",
         "x": [
          -0.1330292105263158
         ],
         "xaxis": "x",
         "y": [
          0.013219473684210503
         ],
         "yaxis": "y"
        },
        {
         "hoverlabel": {
          "bgcolor": "white",
          "font": {
           "color": "#ff6caa",
           "size": 16
          }
         },
         "hovertemplate": "<b>%{hovertext}</b>",
         "hovertext": [
          "Jordan"
         ],
         "mode": "text",
         "text": [
          "Jor"
         ],
         "textfont": {
          "color": "#ff6caa",
          "family": "Arial Black",
          "size": 14
         },
         "textposition": "bottom center",
         "type": "scatter",
         "x": [
          -0.003279210526315801
         ],
         "xaxis": "x",
         "y": [
          -0.0189205263157895
         ],
         "yaxis": "y"
        },
        {
         "hoverlabel": {
          "bgcolor": "white",
          "font": {
           "color": "#ff6bad",
           "size": 16
          }
         },
         "hovertemplate": "<b>%{hovertext}</b>",
         "hovertext": [
          "Azerbaijan"
         ],
         "mode": "text",
         "text": [
          "Aze"
         ],
         "textfont": {
          "color": "#ff6bad",
          "family": "Arial Black",
          "size": 14
         },
         "textposition": "bottom center",
         "type": "scatter",
         "x": [
          0.04289078947368419
         ],
         "xaxis": "x",
         "y": [
          -0.02588052631578952
         ],
         "yaxis": "y"
        },
        {
         "hoverlabel": {
          "bgcolor": "white",
          "font": {
           "color": "#ff6bad",
           "size": 16
          }
         },
         "hovertemplate": "<b>%{hovertext}</b>",
         "hovertext": [
          "Philippines"
         ],
         "mode": "text",
         "text": [
          "Phi"
         ],
         "textfont": {
          "color": "#ff6bad",
          "family": "Arial Black",
          "size": 14
         },
         "textposition": "bottom center",
         "type": "scatter",
         "x": [
          -0.018679210526315812
         ],
         "xaxis": "x",
         "y": [
          0.16938947368421053
         ],
         "yaxis": "y"
        },
        {
         "hoverlabel": {
          "bgcolor": "white",
          "font": {
           "color": "#ff6ab0",
           "size": 16
          }
         },
         "hovertemplate": "<b>%{hovertext}</b>",
         "hovertext": [
          "China"
         ],
         "mode": "text",
         "text": [
          "Chi"
         ],
         "textfont": {
          "color": "#ff6ab0",
          "family": "Arial Black",
          "size": 14
         },
         "textposition": "bottom center",
         "type": "scatter",
         "x": [
          -0.1087992105263158
         ],
         "xaxis": "x",
         "y": [
          0.06096947368421052
         ],
         "yaxis": "y"
        },
        {
         "hoverlabel": {
          "bgcolor": "white",
          "font": {
           "color": "#fc67b5",
           "size": 16
          }
         },
         "hovertemplate": "<b>%{hovertext}</b>",
         "hovertext": [
          "Kyrgyzstan"
         ],
         "mode": "text",
         "text": [
          "Kyr"
         ],
         "textfont": {
          "color": "#fc67b5",
          "family": "Arial Black",
          "size": 14
         },
         "textposition": "bottom center",
         "type": "scatter",
         "x": [
          -0.08862921052631581
         ],
         "xaxis": "x",
         "y": [
          0.022969473684210484
         ],
         "yaxis": "y"
        },
        {
         "hoverlabel": {
          "bgcolor": "white",
          "font": {
           "color": "#fc67b5",
           "size": 16
          }
         },
         "hovertemplate": "<b>%{hovertext}</b>",
         "hovertext": [
          "Serbia"
         ],
         "mode": "text",
         "text": [
          "Ser"
         ],
         "textfont": {
          "color": "#fc67b5",
          "family": "Arial Black",
          "size": 14
         },
         "textposition": "bottom center",
         "type": "scatter",
         "x": [
          -0.09285921052631581
         ],
         "xaxis": "x",
         "y": [
          -0.2219705263157895
         ],
         "yaxis": "y"
        },
        {
         "hoverlabel": {
          "bgcolor": "white",
          "font": {
           "color": "#fb65b5",
           "size": 16
          }
         },
         "hovertemplate": "<b>%{hovertext}</b>",
         "hovertext": [
          "Bosnia and Herzegovina"
         ],
         "mode": "text",
         "text": [
          "Bos"
         ],
         "textfont": {
          "color": "#fb65b5",
          "family": "Arial Black",
          "size": 14
         },
         "textposition": "bottom center",
         "type": "scatter",
         "x": [
          -0.1362492105263158
         ],
         "xaxis": "x",
         "y": [
          -0.28404052631578947
         ],
         "yaxis": "y"
        },
        {
         "hoverlabel": {
          "bgcolor": "white",
          "font": {
           "color": "#fb65b5",
           "size": 16
          }
         },
         "hovertemplate": "<b>%{hovertext}</b>",
         "hovertext": [
          "Montenegro"
         ],
         "mode": "text",
         "text": [
          "Mon"
         ],
         "textfont": {
          "color": "#fb65b5",
          "family": "Arial Black",
          "size": 14
         },
         "textposition": "bottom center",
         "type": "scatter",
         "x": [
          -0.009039210526315816
         ],
         "xaxis": "x",
         "y": [
          -0.2280405263157895
         ],
         "yaxis": "y"
        },
        {
         "hoverlabel": {
          "bgcolor": "white",
          "font": {
           "color": "#fb65b5",
           "size": 16
          }
         },
         "hovertemplate": "<b>%{hovertext}</b>",
         "hovertext": [
          "Dominican Republic"
         ],
         "mode": "text",
         "text": [
          "Dom"
         ],
         "textfont": {
          "color": "#fb65b5",
          "family": "Arial Black",
          "size": 14
         },
         "textposition": "bottom center",
         "type": "scatter",
         "x": [
          -0.01252921052631581
         ],
         "xaxis": "x",
         "y": [
          0.1434394736842105
         ],
         "yaxis": "y"
        },
        {
         "hoverlabel": {
          "bgcolor": "white",
          "font": {
           "color": "#fb65b5",
           "size": 16
          }
         },
         "hovertemplate": "<b>%{hovertext}</b>",
         "hovertext": [
          "Morocco"
         ],
         "mode": "text",
         "text": [
          "Mor"
         ],
         "textfont": {
          "color": "#fb65b5",
          "family": "Arial Black",
          "size": 14
         },
         "textposition": "bottom center",
         "type": "scatter",
         "x": [
          -0.0522092105263158
         ],
         "xaxis": "x",
         "y": [
          -0.12269052631578947
         ],
         "yaxis": "y"
        },
        {
         "hoverlabel": {
          "bgcolor": "white",
          "font": {
           "color": "#fb65b5",
           "size": 16
          }
         },
         "hovertemplate": "<b>%{hovertext}</b>",
         "hovertext": [
          "Hungary"
         ],
         "mode": "text",
         "text": [
          "Hun"
         ],
         "textfont": {
          "color": "#fb65b5",
          "family": "Arial Black",
          "size": 14
         },
         "textposition": "bottom center",
         "type": "scatter",
         "x": [
          -0.0915292105263158
         ],
         "xaxis": "x",
         "y": [
          -0.1814505263157895
         ],
         "yaxis": "y"
        },
        {
         "hoverlabel": {
          "bgcolor": "white",
          "font": {
           "color": "#f963b6",
           "size": 16
          }
         },
         "hovertemplate": "<b>%{hovertext}</b>",
         "hovertext": [
          "Pakistan"
         ],
         "mode": "text",
         "text": [
          "Pak"
         ],
         "textfont": {
          "color": "#f963b6",
          "family": "Arial Black",
          "size": 14
         },
         "textposition": "bottom center",
         "type": "scatter",
         "x": [
          0.0025507894736842007
         ],
         "xaxis": "x",
         "y": [
          -0.2329305263157895
         ],
         "yaxis": "y"
        },
        {
         "hoverlabel": {
          "bgcolor": "white",
          "font": {
           "color": "#f963b6",
           "size": 16
          }
         },
         "hovertemplate": "<b>%{hovertext}</b>",
         "hovertext": [
          "Lebanon"
         ],
         "mode": "text",
         "text": [
          "Leb"
         ],
         "textfont": {
          "color": "#f963b6",
          "family": "Arial Black",
          "size": 14
         },
         "textposition": "bottom center",
         "type": "scatter",
         "x": [
          -0.10563921052631581
         ],
         "xaxis": "x",
         "y": [
          -0.11687052631578948
         ],
         "yaxis": "y"
        },
        {
         "hoverlabel": {
          "bgcolor": "white",
          "font": {
           "color": "#f963b6",
           "size": 16
          }
         },
         "hovertemplate": "<b>%{hovertext}</b>",
         "hovertext": [
          "Portugal"
         ],
         "mode": "text",
         "text": [
          "Por"
         ],
         "textfont": {
          "color": "#f963b6",
          "family": "Arial Black",
          "size": 14
         },
         "textposition": "bottom center",
         "type": "scatter",
         "x": [
          -0.1210392105263158
         ],
         "xaxis": "x",
         "y": [
          0.06811947368421051
         ],
         "yaxis": "y"
        },
        {
         "hoverlabel": {
          "bgcolor": "white",
          "font": {
           "color": "#f660b7",
           "size": 16
          }
         },
         "hovertemplate": "<b>%{hovertext}</b>",
         "hovertext": [
          "Vietnam"
         ],
         "mode": "text",
         "text": [
          "Vie"
         ],
         "textfont": {
          "color": "#f660b7",
          "family": "Arial Black",
          "size": 14
         },
         "textposition": "bottom center",
         "type": "scatter",
         "x": [
          -0.02068921052631581
         ],
         "xaxis": "x",
         "y": [
          0.18038947368421054
         ],
         "yaxis": "y"
        },
        {
         "hoverlabel": {
          "bgcolor": "white",
          "font": {
           "color": "#f45eb7",
           "size": 16
          }
         },
         "hovertemplate": "<b>%{hovertext}</b>",
         "hovertext": [
          "Tunisia"
         ],
         "mode": "text",
         "text": [
          "Tun"
         ],
         "textfont": {
          "color": "#f45eb7",
          "family": "Arial Black",
          "size": 14
         },
         "textposition": "bottom center",
         "type": "scatter",
         "x": [
          -0.05454921052631581
         ],
         "xaxis": "x",
         "y": [
          -0.1436205263157895
         ],
         "yaxis": "y"
        },
        {
         "hoverlabel": {
          "bgcolor": "white",
          "font": {
           "color": "#f25db8",
           "size": 16
          }
         },
         "hovertemplate": "<b>%{hovertext}</b>",
         "hovertext": [
          "Greece"
         ],
         "mode": "text",
         "text": [
          "Gre"
         ],
         "textfont": {
          "color": "#f25db8",
          "family": "Arial Black",
          "size": 14
         },
         "textposition": "bottom center",
         "type": "scatter",
         "x": [
          -0.0949792105263158
         ],
         "xaxis": "x",
         "y": [
          -0.3209305263157895
         ],
         "yaxis": "y"
        },
        {
         "hoverlabel": {
          "bgcolor": "white",
          "font": {
           "color": "#ec56ba",
           "size": 16
          }
         },
         "hovertemplate": "<b>%{hovertext}</b>",
         "hovertext": [
          "Mongolia"
         ],
         "mode": "text",
         "text": [
          "Mon"
         ],
         "textfont": {
          "color": "#ec56ba",
          "family": "Arial Black",
          "size": 14
         },
         "textposition": "bottom center",
         "type": "scatter",
         "x": [
          -0.10339921052631582
         ],
         "xaxis": "x",
         "y": [
          -0.01943052631578951
         ],
         "yaxis": "y"
        },
        {
         "hoverlabel": {
          "bgcolor": "white",
          "font": {
           "color": "#e853bb",
           "size": 16
          }
         },
         "hovertemplate": "<b>%{hovertext}</b>",
         "hovertext": [
          "Nigeria"
         ],
         "mode": "text",
         "text": [
          "Nig"
         ],
         "textfont": {
          "color": "#e853bb",
          "family": "Arial Black",
          "size": 14
         },
         "textposition": "bottom center",
         "type": "scatter",
         "x": [
          -0.1057492105263158
         ],
         "xaxis": "x",
         "y": [
          -0.10061052631578948
         ],
         "yaxis": "y"
        },
        {
         "hoverlabel": {
          "bgcolor": "white",
          "font": {
           "color": "#e853bb",
           "size": 16
          }
         },
         "hovertemplate": "<b>%{hovertext}</b>",
         "hovertext": [
          "Honduras"
         ],
         "mode": "text",
         "text": [
          "Hon"
         ],
         "textfont": {
          "color": "#e853bb",
          "family": "Arial Black",
          "size": 14
         },
         "textposition": "bottom center",
         "type": "scatter",
         "x": [
          -0.06718921052631581
         ],
         "xaxis": "x",
         "y": [
          -0.11160052631578948
         ],
         "yaxis": "y"
        },
        {
         "hoverlabel": {
          "bgcolor": "white",
          "font": {
           "color": "#e34ebc",
           "size": 16
          }
         },
         "hovertemplate": "<b>%{hovertext}</b>",
         "hovertext": [
          "Zambia"
         ],
         "mode": "text",
         "text": [
          "Zam"
         ],
         "textfont": {
          "color": "#e34ebc",
          "family": "Arial Black",
          "size": 14
         },
         "textposition": "bottom center",
         "type": "scatter",
         "x": [
          -0.021459210526315803
         ],
         "xaxis": "x",
         "y": [
          0.047469473684210506
         ],
         "yaxis": "y"
        },
        {
         "hoverlabel": {
          "bgcolor": "white",
          "font": {
           "color": "#e34ebc",
           "size": 16
          }
         },
         "hovertemplate": "<b>%{hovertext}</b>",
         "hovertext": [
          "Nepal"
         ],
         "mode": "text",
         "text": [
          "Nep"
         ],
         "textfont": {
          "color": "#e34ebc",
          "family": "Arial Black",
          "size": 14
         },
         "textposition": "bottom center",
         "type": "scatter",
         "x": [
          -0.0661692105263158
         ],
         "xaxis": "x",
         "y": [
          -0.009030526315789489
         ],
         "yaxis": "y"
        },
        {
         "hoverlabel": {
          "bgcolor": "white",
          "font": {
           "color": "#db46be",
           "size": 16
          }
         },
         "hovertemplate": "<b>%{hovertext}</b>",
         "hovertext": [
          "Albania"
         ],
         "mode": "text",
         "text": [
          "Alb"
         ],
         "textfont": {
          "color": "#db46be",
          "family": "Arial Black",
          "size": 14
         },
         "textposition": "bottom center",
         "type": "scatter",
         "x": [
          -0.0832392105263158
         ],
         "xaxis": "x",
         "y": [
          -0.060490526315789495
         ],
         "yaxis": "y"
        },
        {
         "hoverlabel": {
          "bgcolor": "white",
          "font": {
           "color": "#d944bf",
           "size": 16
          }
         },
         "hovertemplate": "<b>%{hovertext}</b>",
         "hovertext": [
          "Bangladesh"
         ],
         "mode": "text",
         "text": [
          "Ban"
         ],
         "textfont": {
          "color": "#d944bf",
          "family": "Arial Black",
          "size": 14
         },
         "textposition": "bottom center",
         "type": "scatter",
         "x": [
          -0.010419210526315809
         ],
         "xaxis": "x",
         "y": [
          0.01862947368421053
         ],
         "yaxis": "y"
        },
        {
         "hoverlabel": {
          "bgcolor": "white",
          "font": {
           "color": "#d944bf",
           "size": 16
          }
         },
         "hovertemplate": "<b>%{hovertext}</b>",
         "hovertext": [
          "Sierra Leone"
         ],
         "mode": "text",
         "text": [
          "Sie"
         ],
         "textfont": {
          "color": "#d944bf",
          "family": "Arial Black",
          "size": 14
         },
         "textposition": "bottom center",
         "type": "scatter",
         "x": [
          -0.0542892105263158
         ],
         "xaxis": "x",
         "y": [
          -0.07230052631578948
         ],
         "yaxis": "y"
        },
        {
         "hoverlabel": {
          "bgcolor": "white",
          "font": {
           "color": "#d641c0",
           "size": 16
          }
         },
         "hovertemplate": "<b>%{hovertext}</b>",
         "hovertext": [
          "Iraq"
         ],
         "mode": "text",
         "text": [
          "Ira"
         ],
         "textfont": {
          "color": "#d641c0",
          "family": "Arial Black",
          "size": 14
         },
         "textposition": "bottom center",
         "type": "scatter",
         "x": [
          0.000110789473684203
         ],
         "xaxis": "x",
         "y": [
          -0.1305905263157895
         ],
         "yaxis": "y"
        },
        {
         "hoverlabel": {
          "bgcolor": "white",
          "font": {
           "color": "#d13cc1",
           "size": 16
          }
         },
         "hovertemplate": "<b>%{hovertext}</b>",
         "hovertext": [
          "Cameroon"
         ],
         "mode": "text",
         "text": [
          "Cam"
         ],
         "textfont": {
          "color": "#d13cc1",
          "family": "Arial Black",
          "size": 14
         },
         "textposition": "bottom center",
         "type": "scatter",
         "x": [
          -0.0749892105263158
         ],
         "xaxis": "x",
         "y": [
          0.048209473684210524
         ],
         "yaxis": "y"
        },
        {
         "hoverlabel": {
          "bgcolor": "white",
          "font": {
           "color": "#d13cc1",
           "size": 16
          }
         },
         "hovertemplate": "<b>%{hovertext}</b>",
         "hovertext": [
          "Ethiopia"
         ],
         "mode": "text",
         "text": [
          "Eth"
         ],
         "textfont": {
          "color": "#d13cc1",
          "family": "Arial Black",
          "size": 14
         },
         "textposition": "bottom center",
         "type": "scatter",
         "x": [
          0.035450789473684186
         ],
         "xaxis": "x",
         "y": [
          -0.01212052631578947
         ],
         "yaxis": "y"
        },
        {
         "hoverlabel": {
          "bgcolor": "white",
          "font": {
           "color": "#cd38c2",
           "size": 16
          }
         },
         "hovertemplate": "<b>%{hovertext}</b>",
         "hovertext": [
          "South Africa"
         ],
         "mode": "text",
         "text": [
          "Sou"
         ],
         "textfont": {
          "color": "#cd38c2",
          "family": "Arial Black",
          "size": 14
         },
         "textposition": "bottom center",
         "type": "scatter",
         "x": [
          -0.0520992105263158
         ],
         "xaxis": "x",
         "y": [
          0.04567947368421049
         ],
         "yaxis": "y"
        },
        {
         "hoverlabel": {
          "bgcolor": "white",
          "font": {
           "color": "#cc37c3",
           "size": 16
          }
         },
         "hovertemplate": "<b>%{hovertext}</b>",
         "hovertext": [
          "Sri Lanka"
         ],
         "mode": "text",
         "text": [
          "Sri"
         ],
         "textfont": {
          "color": "#cc37c3",
          "family": "Arial Black",
          "size": 14
         },
         "textposition": "bottom center",
         "type": "scatter",
         "x": [
          -0.056609210526315804
         ],
         "xaxis": "x",
         "y": [
          0.12901947368421052
         ],
         "yaxis": "y"
        },
        {
         "hoverlabel": {
          "bgcolor": "white",
          "font": {
           "color": "#ca35c3",
           "size": 16
          }
         },
         "hovertemplate": "<b>%{hovertext}</b>",
         "hovertext": [
          "India"
         ],
         "mode": "text",
         "text": [
          "Ind"
         ],
         "textfont": {
          "color": "#ca35c3",
          "family": "Arial Black",
          "size": 14
         },
         "textposition": "bottom center",
         "type": "scatter",
         "x": [
          -0.0490292105263158
         ],
         "xaxis": "x",
         "y": [
          0.023699473684210492
         ],
         "yaxis": "y"
        },
        {
         "hoverlabel": {
          "bgcolor": "white",
          "font": {
           "color": "#c732c4",
           "size": 16
          }
         },
         "hovertemplate": "<b>%{hovertext}</b>",
         "hovertext": [
          "Egypt"
         ],
         "mode": "text",
         "text": [
          "Egy"
         ],
         "textfont": {
          "color": "#c732c4",
          "family": "Arial Black",
          "size": 14
         },
         "textposition": "bottom center",
         "type": "scatter",
         "x": [
          -0.03231921052631581
         ],
         "xaxis": "x",
         "y": [
          -0.1906805263157895
         ],
         "yaxis": "y"
        },
        {
         "hoverlabel": {
          "bgcolor": "white",
          "font": {
           "color": "#c732c4",
           "size": 16
          }
         },
         "hovertemplate": "<b>%{hovertext}</b>",
         "hovertext": [
          "Armenia"
         ],
         "mode": "text",
         "text": [
          "Arm"
         ],
         "textfont": {
          "color": "#c732c4",
          "family": "Arial Black",
          "size": 14
         },
         "textposition": "bottom center",
         "type": "scatter",
         "x": [
          -0.10008921052631581
         ],
         "xaxis": "x",
         "y": [
          -0.2387805263157895
         ],
         "yaxis": "y"
        },
        {
         "hoverlabel": {
          "bgcolor": "white",
          "font": {
           "color": "#c732c4",
           "size": 16
          }
         },
         "hovertemplate": "<b>%{hovertext}</b>",
         "hovertext": [
          "Kenya"
         ],
         "mode": "text",
         "text": [
          "Ken"
         ],
         "textfont": {
          "color": "#c732c4",
          "family": "Arial Black",
          "size": 14
         },
         "textposition": "bottom center",
         "type": "scatter",
         "x": [
          -0.0693892105263158
         ],
         "xaxis": "x",
         "y": [
          0.026609473684210516
         ],
         "yaxis": "y"
        },
        {
         "hoverlabel": {
          "bgcolor": "white",
          "font": {
           "color": "#c530c5",
           "size": 16
          }
         },
         "hovertemplate": "<b>%{hovertext}</b>",
         "hovertext": [
          "Ukraine"
         ],
         "mode": "text",
         "text": [
          "Ukr"
         ],
         "textfont": {
          "color": "#c530c5",
          "family": "Arial Black",
          "size": 14
         },
         "textposition": "bottom center",
         "type": "scatter",
         "x": [
          -0.1179592105263158
         ],
         "xaxis": "x",
         "y": [
          -0.2505605263157895
         ],
         "yaxis": "y"
        },
        {
         "hoverlabel": {
          "bgcolor": "white",
          "font": {
           "color": "#c22dc6",
           "size": 16
          }
         },
         "hovertemplate": "<b>%{hovertext}</b>",
         "hovertext": [
          "Ghana"
         ],
         "mode": "text",
         "text": [
          "Gha"
         ],
         "textfont": {
          "color": "#c22dc6",
          "family": "Arial Black",
          "size": 14
         },
         "textposition": "bottom center",
         "type": "scatter",
         "x": [
          -0.10364921052631582
         ],
         "xaxis": "x",
         "y": [
          0.03057947368421049
         ],
         "yaxis": "y"
        },
        {
         "hoverlabel": {
          "bgcolor": "white",
          "font": {
           "color": "#c02bc6",
           "size": 16
          }
         },
         "hovertemplate": "<b>%{hovertext}</b>",
         "hovertext": [
          "Georgia"
         ],
         "mode": "text",
         "text": [
          "Geo"
         ],
         "textfont": {
          "color": "#c02bc6",
          "family": "Arial Black",
          "size": 14
         },
         "textposition": "bottom center",
         "type": "scatter",
         "x": [
          0.18255078947368417
         ],
         "xaxis": "x",
         "y": [
          -0.054540526315789484
         ],
         "yaxis": "y"
        },
        {
         "hoverlabel": {
          "bgcolor": "white",
          "font": {
           "color": "#be2ac7",
           "size": 16
          }
         },
         "hovertemplate": "<b>%{hovertext}</b>",
         "hovertext": [
          "Senegal"
         ],
         "mode": "text",
         "text": [
          "Sen"
         ],
         "textfont": {
          "color": "#be2ac7",
          "family": "Arial Black",
          "size": 14
         },
         "textposition": "bottom center",
         "type": "scatter",
         "x": [
          -0.01943921052631581
         ],
         "xaxis": "x",
         "y": [
          -0.06859052631578949
         ],
         "yaxis": "y"
        },
        {
         "hoverlabel": {
          "bgcolor": "white",
          "font": {
           "color": "#be2ac7",
           "size": 16
          }
         },
         "hovertemplate": "<b>%{hovertext}</b>",
         "hovertext": [
          "Bulgaria"
         ],
         "mode": "text",
         "text": [
          "Bul"
         ],
         "textfont": {
          "color": "#be2ac7",
          "family": "Arial Black",
          "size": 14
         },
         "textposition": "bottom center",
         "type": "scatter",
         "x": [
          -0.13009921052631582
         ],
         "xaxis": "x",
         "y": [
          -0.1669605263157895
         ],
         "yaxis": "y"
        },
        {
         "hoverlabel": {
          "bgcolor": "white",
          "font": {
           "color": "#bd28c7",
           "size": 16
          }
         },
         "hovertemplate": "<b>%{hovertext}</b>",
         "hovertext": [
          "Mauritania"
         ],
         "mode": "text",
         "text": [
          "Mau"
         ],
         "textfont": {
          "color": "#bd28c7",
          "family": "Arial Black",
          "size": 14
         },
         "textposition": "bottom center",
         "type": "scatter",
         "x": [
          0.04330078947368418
         ],
         "xaxis": "x",
         "y": [
          -0.25235052631578947
         ],
         "yaxis": "y"
        },
        {
         "hoverlabel": {
          "bgcolor": "white",
          "font": {
           "color": "#bd28c7",
           "size": 16
          }
         },
         "hovertemplate": "<b>%{hovertext}</b>",
         "hovertext": [
          "Zimbabwe"
         ],
         "mode": "text",
         "text": [
          "Zim"
         ],
         "textfont": {
          "color": "#bd28c7",
          "family": "Arial Black",
          "size": 14
         },
         "textposition": "bottom center",
         "type": "scatter",
         "x": [
          -0.05042921052631581
         ],
         "xaxis": "x",
         "y": [
          -0.12486052631578948
         ],
         "yaxis": "y"
        },
        {
         "hoverlabel": {
          "bgcolor": "white",
          "font": {
           "color": "#b823c9",
           "size": 16
          }
         },
         "hovertemplate": "<b>%{hovertext}</b>",
         "hovertext": [
          "Gabon"
         ],
         "mode": "text",
         "text": [
          "Gab"
         ],
         "textfont": {
          "color": "#b823c9",
          "family": "Arial Black",
          "size": 14
         },
         "textposition": "bottom center",
         "type": "scatter",
         "x": [
          -0.043109210526315805
         ],
         "xaxis": "x",
         "y": [
          -0.09817052631578949
         ],
         "yaxis": "y"
        },
        {
         "hoverlabel": {
          "bgcolor": "white",
          "font": {
           "color": "#b420ca",
           "size": 16
          }
         },
         "hovertemplate": "<b>%{hovertext}</b>",
         "hovertext": [
          "Mali"
         ],
         "mode": "text",
         "text": [
          "Mal"
         ],
         "textfont": {
          "color": "#b420ca",
          "family": "Arial Black",
          "size": 14
         },
         "textposition": "bottom center",
         "type": "scatter",
         "x": [
          0.000220789473684202
         ],
         "xaxis": "x",
         "y": [
          -0.10371052631578948
         ],
         "yaxis": "y"
        },
        {
         "hoverlabel": {
          "bgcolor": "white",
          "font": {
           "color": "#b31eca",
           "size": 16
          }
         },
         "hovertemplate": "<b>%{hovertext}</b>",
         "hovertext": [
          "Haiti"
         ],
         "mode": "text",
         "text": [
          "Hai"
         ],
         "textfont": {
          "color": "#b31eca",
          "family": "Arial Black",
          "size": 14
         },
         "textposition": "bottom center",
         "type": "scatter",
         "x": [
          0.008510789473684194
         ],
         "xaxis": "x",
         "y": [
          -0.2584305263157895
         ],
         "yaxis": "y"
        },
        {
         "hoverlabel": {
          "bgcolor": "white",
          "font": {
           "color": "#ae19cc",
           "size": 16
          }
         },
         "hovertemplate": "<b>%{hovertext}</b>",
         "hovertext": [
          "Botswana"
         ],
         "mode": "text",
         "text": [
          "Bot"
         ],
         "textfont": {
          "color": "#ae19cc",
          "family": "Arial Black",
          "size": 14
         },
         "textposition": "bottom center",
         "type": "scatter",
         "x": [
          -0.028559210526315812
         ],
         "xaxis": "x",
         "y": [
          0.06173947368421051
         ],
         "yaxis": "y"
        },
        {
         "hoverlabel": {
          "bgcolor": "white",
          "font": {
           "color": "#aa16cd",
           "size": 16
          }
         },
         "hovertemplate": "<b>%{hovertext}</b>",
         "hovertext": [
          "Cambodia"
         ],
         "mode": "text",
         "text": [
          "Cam"
         ],
         "textfont": {
          "color": "#aa16cd",
          "family": "Arial Black",
          "size": 14
         },
         "textposition": "bottom center",
         "type": "scatter",
         "x": [
          -0.0553292105263158
         ],
         "xaxis": "x",
         "y": [
          0.20936947368421055
         ],
         "yaxis": "y"
        },
        {
         "hoverlabel": {
          "bgcolor": "white",
          "font": {
           "color": "#a713ce",
           "size": 16
          }
         },
         "hovertemplate": "<b>%{hovertext}</b>",
         "hovertext": [
          "Niger"
         ],
         "mode": "text",
         "text": [
          "Nig"
         ],
         "textfont": {
          "color": "#a713ce",
          "family": "Arial Black",
          "size": 14
         },
         "textposition": "bottom center",
         "type": "scatter",
         "x": [
          0.03551078947368419
         ],
         "xaxis": "x",
         "y": [
          0.0012594736842105325
         ],
         "yaxis": "y"
        },
        {
         "hoverlabel": {
          "bgcolor": "white",
          "font": {
           "color": "#a00ccf",
           "size": 16
          }
         },
         "hovertemplate": "<b>%{hovertext}</b>",
         "hovertext": [
          "Chad"
         ],
         "mode": "text",
         "text": [
          "Cha"
         ],
         "textfont": {
          "color": "#a00ccf",
          "family": "Arial Black",
          "size": 14
         },
         "textposition": "bottom center",
         "type": "scatter",
         "x": [
          -0.0867292105263158
         ],
         "xaxis": "x",
         "y": [
          -0.2510805263157895
         ],
         "yaxis": "y"
        },
        {
         "hoverlabel": {
          "bgcolor": "white",
          "font": {
           "color": "#9e0ad0",
           "size": 16
          }
         },
         "hovertemplate": "<b>%{hovertext}</b>",
         "hovertext": [
          "Burkina Faso"
         ],
         "mode": "text",
         "text": [
          "Bur"
         ],
         "textfont": {
          "color": "#9e0ad0",
          "family": "Arial Black",
          "size": 14
         },
         "textposition": "bottom center",
         "type": "scatter",
         "x": [
          -0.010919210526315809
         ],
         "xaxis": "x",
         "y": [
          -0.0454505263157895
         ],
         "yaxis": "y"
        },
        {
         "hoverlabel": {
          "bgcolor": "white",
          "font": {
           "color": "#9e0ad0",
           "size": 16
          }
         },
         "hovertemplate": "<b>%{hovertext}</b>",
         "hovertext": [
          "Uganda"
         ],
         "mode": "text",
         "text": [
          "Uga"
         ],
         "textfont": {
          "color": "#9e0ad0",
          "family": "Arial Black",
          "size": 14
         },
         "textposition": "bottom center",
         "type": "scatter",
         "x": [
          -0.0718292105263158
         ],
         "xaxis": "x",
         "y": [
          0.05737947368421048
         ],
         "yaxis": "y"
        },
        {
         "hoverlabel": {
          "bgcolor": "white",
          "font": {
           "color": "#9d09d0",
           "size": 16
          }
         },
         "hovertemplate": "<b>%{hovertext}</b>",
         "hovertext": [
          "Madagascar"
         ],
         "mode": "text",
         "text": [
          "Mad"
         ],
         "textfont": {
          "color": "#9d09d0",
          "family": "Arial Black",
          "size": 14
         },
         "textposition": "bottom center",
         "type": "scatter",
         "x": [
          -0.061189210526315804
         ],
         "xaxis": "x",
         "y": [
          -0.2423105263157895
         ],
         "yaxis": "y"
        },
        {
         "hoverlabel": {
          "bgcolor": "white",
          "font": {
           "color": "#9804d2",
           "size": 16
          }
         },
         "hovertemplate": "<b>%{hovertext}</b>",
         "hovertext": [
          "Liberia"
         ],
         "mode": "text",
         "text": [
          "Lib"
         ],
         "textfont": {
          "color": "#9804d2",
          "family": "Arial Black",
          "size": 14
         },
         "textposition": "bottom center",
         "type": "scatter",
         "x": [
          -0.0877292105263158
         ],
         "xaxis": "x",
         "y": [
          -0.1216705263157895
         ],
         "yaxis": "y"
        },
        {
         "hoverlabel": {
          "bgcolor": "white",
          "font": {
           "color": "#9602d2",
           "size": 16
          }
         },
         "hovertemplate": "<b>%{hovertext}</b>",
         "hovertext": [
          "Guinea"
         ],
         "mode": "text",
         "text": [
          "Gui"
         ],
         "textfont": {
          "color": "#9602d2",
          "family": "Arial Black",
          "size": 14
         },
         "textposition": "bottom center",
         "type": "scatter",
         "x": [
          -0.017049210526315806
         ],
         "xaxis": "x",
         "y": [
          -0.06962052631578947
         ],
         "yaxis": "y"
        },
        {
         "hoverlabel": {
          "bgcolor": "white",
          "font": {
           "color": "#9000d4",
           "size": 16
          }
         },
         "hovertemplate": "<b>%{hovertext}</b>",
         "hovertext": [
          "Rwanda"
         ],
         "mode": "text",
         "text": [
          "Rwa"
         ],
         "textfont": {
          "color": "#9000d4",
          "family": "Arial Black",
          "size": 14
         },
         "textposition": "bottom center",
         "type": "scatter",
         "x": [
          0.36896078947368427
         ],
         "xaxis": "x",
         "y": [
          0.16404947368421052
         ],
         "yaxis": "y"
        },
        {
         "hoverlabel": {
          "bgcolor": "white",
          "font": {
           "color": "#8e00d5",
           "size": 16
          }
         },
         "hovertemplate": "<b>%{hovertext}</b>",
         "hovertext": [
          "Benin"
         ],
         "mode": "text",
         "text": [
          "Ben"
         ],
         "textfont": {
          "color": "#8e00d5",
          "family": "Arial Black",
          "size": 14
         },
         "textposition": "bottom center",
         "type": "scatter",
         "x": [
          -0.06943921052631581
         ],
         "xaxis": "x",
         "y": [
          0.018319473684210497
         ],
         "yaxis": "y"
        },
        {
         "hoverlabel": {
          "bgcolor": "white",
          "font": {
           "color": "#8200d8",
           "size": 16
          }
         },
         "hovertemplate": "<b>%{hovertext}</b>",
         "hovertext": [
          "Afghanistan"
         ],
         "mode": "text",
         "text": [
          "Afg"
         ],
         "textfont": {
          "color": "#8200d8",
          "family": "Arial Black",
          "size": 14
         },
         "textposition": "bottom center",
         "type": "scatter",
         "x": [
          -0.0651292105263158
         ],
         "xaxis": "x",
         "y": [
          -0.2148505263157895
         ],
         "yaxis": "y"
        },
        {
         "hoverlabel": {
          "bgcolor": "white",
          "font": {
           "color": "#7d00da",
           "size": 16
          }
         },
         "hovertemplate": "<b>%{hovertext}</b>",
         "hovertext": [
          "Togo"
         ],
         "mode": "text",
         "text": [
          "Tog"
         ],
         "textfont": {
          "color": "#7d00da",
          "family": "Arial Black",
          "size": 14
         },
         "textposition": "bottom center",
         "type": "scatter",
         "x": [
          -0.020379210526315805
         ],
         "xaxis": "x",
         "y": [
          -0.032370526315789516
         ],
         "yaxis": "y"
        },
        {
         "hoverlabel": {
          "bgcolor": "white",
          "font": {
           "color": "#5800e5",
           "size": 16
          }
         },
         "hovertemplate": "<b>%{hovertext}</b>",
         "hovertext": [
          "Burundi"
         ],
         "mode": "text",
         "text": [
          "Bur"
         ],
         "textfont": {
          "color": "#5800e5",
          "family": "Arial Black",
          "size": 14
         },
         "textposition": "bottom center",
         "type": "scatter",
         "x": [
          -0.04205921052631581
         ],
         "xaxis": "x",
         "y": [
          -0.3359505263157895
         ],
         "yaxis": "y"
        },
        {
         "hoverlabel": {
          "bgcolor": "white",
          "font": {
           "color": "#5800e5",
           "size": 16
          }
         },
         "hovertemplate": "<b>%{hovertext}</b>",
         "marker": {
          "color": [
           "#ffc900",
           "#ffc800",
           "#ffc800",
           "#ffc800",
           "#ffc200",
           "#ffc200",
           "#ffbf00",
           "#ffbe00",
           "#ffbd00",
           "#ffbb00",
           "#ffb300",
           "#ffb100",
           "#ffac00",
           "#ffaa00",
           "#ffa900",
           "#ffa700",
           "#ffa600",
           "#ffa209",
           "#ffa00f",
           "#ff9f12",
           "#ff9f12",
           "#ff9d17",
           "#ff9a20",
           "#ff9923",
           "#ff9828",
           "#ff972b",
           "#ff972b",
           "#ff972b",
           "#ff9336",
           "#ff9336",
           "#ff913c",
           "#ff8e44",
           "#ff8d47",
           "#ff8955",
           "#ff8858",
           "#ff865e",
           "#ff865e",
           "#ff8561",
           "#ff8561",
           "#ff8561",
           "#ff8366",
           "#ff8366",
           "#ff7f72",
           "#ff7f72",
           "#ff7e74",
           "#ff7d77",
           "#ff7c7a",
           "#ff7888",
           "#ff768e",
           "#ff7591",
           "#ff7591",
           "#ff7591",
           "#ff7494",
           "#ff7494",
           "#ff7396",
           "#ff6caa",
           "#ff6caa",
           "#ff6bad",
           "#ff6bad",
           "#ff6ab0",
           "#fc67b5",
           "#fc67b5",
           "#fb65b5",
           "#fb65b5",
           "#fb65b5",
           "#fb65b5",
           "#fb65b5",
           "#f963b6",
           "#f963b6",
           "#f963b6",
           "#f660b7",
           "#f45eb7",
           "#f25db8",
           "#ec56ba",
           "#e853bb",
           "#e853bb",
           "#e34ebc",
           "#e34ebc",
           "#db46be",
           "#d944bf",
           "#d944bf",
           "#d641c0",
           "#d13cc1",
           "#d13cc1",
           "#cd38c2",
           "#cc37c3",
           "#ca35c3",
           "#c732c4",
           "#c732c4",
           "#c732c4",
           "#c530c5",
           "#c22dc6",
           "#c02bc6",
           "#be2ac7",
           "#be2ac7",
           "#bd28c7",
           "#bd28c7",
           "#b823c9",
           "#b420ca",
           "#b31eca",
           "#ae19cc",
           "#aa16cd",
           "#a713ce",
           "#a00ccf",
           "#9e0ad0",
           "#9e0ad0",
           "#9d09d0",
           "#9804d2",
           "#9602d2",
           "#9000d4",
           "#8e00d5",
           "#8200d8",
           "#7d00da",
           "#5800e5"
          ]
         },
         "mode": "markers",
         "showlegend": false,
         "type": "scatter",
         "x": [
          0.44453,
          0.41203,
          0.14975,
          0.35776,
          0.41004,
          0.31329,
          0.29927,
          0.41904,
          0.40867,
          0.08728,
          0.21348,
          0.10547,
          0.28551,
          0.14166,
          0.26248,
          0.29754,
          0.35329,
          0.18355,
          0.46987,
          0.11451,
          0.08423,
          0.07296,
          0.35561,
          0.21394,
          0.17554,
          0.05399,
          0.17808,
          0.02833,
          0.30008,
          0.06137,
          0.08701,
          0.23669,
          0.25772,
          0.02947,
          0.10613,
          0.09081,
          0.16292,
          0.28333,
          0.02556,
          0.18037,
          0.18985,
          0.11132,
          0.055,
          0.0182,
          0.17457,
          0.03635,
          0.05292,
          0.10339,
          0.0889,
          0.05228,
          0.07396,
          0.00679,
          0.18519,
          0.04294,
          0.04002,
          0.00322,
          0.13297,
          0.17914,
          0.11757,
          0.02745,
          0.04762,
          0.04339,
          0,
          0.12721,
          0.12372,
          0.08404,
          0.04472,
          0.1388,
          0.03061,
          0.01521,
          0.11556,
          0.0817,
          0.04127,
          0.03285,
          0.0305,
          0.06906,
          0.11479,
          0.07008,
          0.05301,
          0.12583,
          0.08196,
          0.13636,
          0.06126,
          0.1717,
          0.08415,
          0.07964,
          0.08722,
          0.10393,
          0.03616,
          0.06686,
          0.01829,
          0.0326,
          0.3188,
          0.11681,
          0.00615,
          0.17955,
          0.08582,
          0.09314,
          0.13647,
          0.14476,
          0.10769,
          0.08092,
          0.17176,
          0.04952,
          0.12533,
          0.06442,
          0.07506,
          0.04852,
          0.1192,
          0.50521,
          0.06681,
          0.07112,
          0.11587,
          0.09419
         ],
         "xaxis": "x2",
         "y": [
          0.57941,
          0.58557,
          0.56624,
          0.59609,
          0.57104,
          0.5737,
          0.55211,
          0.58147,
          0.58218,
          0.36432,
          0.54355,
          0.55225,
          0.53466,
          0.40425,
          0.51354,
          0.54008,
          0.5487,
          0.37709,
          0.4877,
          0.37789,
          0.48927,
          0.42284,
          0.56215,
          0.54388,
          0.54994,
          0.44735,
          0.46562,
          0.49553,
          0.37904,
          0.37545,
          0.50379,
          0.43166,
          0.47375,
          0.23391,
          0.37269,
          0.39031,
          0.46582,
          0.60848,
          0.18827,
          0.4027,
          0.46761,
          0.4052,
          0.4519,
          0.18929,
          0.29091,
          0.53164,
          0.37502,
          0.40672,
          0.27996,
          0.29507,
          0.46235,
          0.36712,
          0.41511,
          0.43597,
          0.23907,
          0.39237,
          0.36023,
          0.35327,
          0.54854,
          0.44012,
          0.40212,
          0.15718,
          0.09511,
          0.15111,
          0.52259,
          0.25646,
          0.1977,
          0.14622,
          0.26228,
          0.44727,
          0.55954,
          0.23553,
          0.05822,
          0.35972,
          0.27854,
          0.26755,
          0.42662,
          0.37012,
          0.31866,
          0.39778,
          0.30685,
          0.24856,
          0.42736,
          0.36703,
          0.42483,
          0.50817,
          0.40285,
          0.18847,
          0.14037,
          0.40576,
          0.12859,
          0.40973,
          0.32461,
          0.31056,
          0.21219,
          0.1268,
          0.25429,
          0.28098,
          0.27544,
          0.12072,
          0.44089,
          0.58852,
          0.38041,
          0.12807,
          0.3337,
          0.43653,
          0.13684,
          0.25748,
          0.30953,
          0.5432,
          0.39747,
          0.1643,
          0.34678,
          0.0432
         ],
         "yaxis": "y2"
        },
        {
         "line": {
          "color": "black"
         },
         "mode": "lines",
         "showlegend": false,
         "type": "scatter",
         "x": [
          0.44453,
          0.41203,
          0.14975,
          0.35776,
          0.41004,
          0.31329,
          0.29927,
          0.41904,
          0.40867,
          0.08728,
          0.21348,
          0.10547,
          0.28551,
          0.14166,
          0.26248,
          0.29754,
          0.35329,
          0.18355,
          0.46987,
          0.11451,
          0.08423,
          0.07296,
          0.35561,
          0.21394,
          0.17554,
          0.05399,
          0.17808,
          0.02833,
          0.30008,
          0.06137,
          0.08701,
          0.23669,
          0.25772,
          0.02947,
          0.10613,
          0.09081,
          0.16292,
          0.28333,
          0.02556,
          0.18037,
          0.18985,
          0.11132,
          0.055,
          0.0182,
          0.17457,
          0.03635,
          0.05292,
          0.10339,
          0.0889,
          0.05228,
          0.07396,
          0.00679,
          0.18519,
          0.04294,
          0.04002,
          0.00322,
          0.13297,
          0.17914,
          0.11757,
          0.02745,
          0.04762,
          0.04339,
          0,
          0.12721,
          0.12372,
          0.08404,
          0.04472,
          0.1388,
          0.03061,
          0.01521,
          0.11556,
          0.0817,
          0.04127,
          0.03285,
          0.0305,
          0.06906,
          0.11479,
          0.07008,
          0.05301,
          0.12583,
          0.08196,
          0.13636,
          0.06126,
          0.1717,
          0.08415,
          0.07964,
          0.08722,
          0.10393,
          0.03616,
          0.06686,
          0.01829,
          0.0326,
          0.3188,
          0.11681,
          0.00615,
          0.17955,
          0.08582,
          0.09314,
          0.13647,
          0.14476,
          0.10769,
          0.08092,
          0.17176,
          0.04952,
          0.12533,
          0.06442,
          0.07506,
          0.04852,
          0.1192,
          0.50521,
          0.06681,
          0.07112,
          0.11587,
          0.09419
         ],
         "xaxis": "x2",
         "y": [
          0.585637621342094,
          0.5638690557437898,
          0.38819338235538303,
          0.5275189002047138,
          0.5625361497271552,
          0.4977328044460496,
          0.4883421801479504,
          0.5685643678928394,
          0.5616185209619342,
          0.34635085026535034,
          0.43087986498861147,
          0.3585345489802166,
          0.47912570437463764,
          0.3827746840264513,
          0.46370016389067004,
          0.48718342265610226,
          0.524524885182424,
          0.41083269057761934,
          0.6026104044885872,
          0.36458955922663716,
          0.3443079541092018,
          0.3367592853617283,
          0.5260788258651337,
          0.43118797391707975,
          0.4054675764101604,
          0.32405314107250277,
          0.40716887353692016,
          0.3068660212801186,
          0.48888471978286197,
          0.32899627996836384,
          0.3461700037203798,
          0.44642596983589267,
          0.4605119062830415,
          0.30762959558110525,
          0.35897661831236677,
          0.3487152513903354,
          0.39701467493783427,
          0.47766553597450523,
          0.30501066968912466,
          0.4087027201590776,
          0.4150524432935983,
          0.3624528907879113,
          0.3247296411110962,
          0.3000809268336318,
          0.4048178684523033,
          0.3122378334677617,
          0.3233364529128048,
          0.3571413607819251,
          0.3474359295351735,
          0.32290777962102274,
          0.33742908738013766,
          0.292438485803581,
          0.4119311658878107,
          0.3166518287690793,
          0.314696006875324,
          0.2900472925978596,
          0.37695410448647393,
          0.40787886367643406,
          0.3666391534029698,
          0.3062765955039184,
          0.31978650221523514,
          0.31695323967736355,
          0.28789053009858145,
          0.373096044860436,
          0.3707584358161874,
          0.344180691725704,
          0.317844076361848,
          0.3808590502538005,
          0.3083931698820919,
          0.2980782187985878,
          0.365292851345967,
          0.34261335500262613,
          0.3155332593983357,
          0.3098935264033289,
          0.3083194916600669,
          0.3341470574899318,
          0.3647771037917918,
          0.3348302555487094,
          0.3233967350944616,
          0.37217171807503113,
          0.34278750352741255,
          0.3792247333288817,
          0.3289226017463388,
          0.4028955366594684,
          0.34425436994772907,
          0.34123356284470285,
          0.3463106621442458,
          0.35750305387186615,
          0.3121105710842639,
          0.3326734930494312,
          0.3001412090152886,
          0.3097260758987266,
          0.5014234135674852,
          0.3661301038689787,
          0.292009812511799,
          0.40815348250398187,
          0.3453729393184727,
          0.3502758900932292,
          0.3792984115509067,
          0.3848510702835203,
          0.36002150946108535,
          0.3420909094282668,
          0.402935724780573,
          0.3210591260502129,
          0.37183681706582644,
          0.3310391761245124,
          0.33816586960038797,
          0.32038932403180354,
          0.3677309306929771,
          0.626281207819174,
          0.33264000294851076,
          0.33552684964785506,
          0.36550048997167395,
          0.35097918221255897
         ],
         "yaxis": "y2"
        },
        {
         "hoverlabel": {
          "bgcolor": "white",
          "font": {
           "color": "#5800e5",
           "size": 16
          }
         },
         "hovertemplate": "<b>%{hovertext}</b>",
         "marker": {
          "color": [
           "#ffc900",
           "#ffc800",
           "#ffc800",
           "#ffc800",
           "#ffc200",
           "#ffc200",
           "#ffbf00",
           "#ffbe00",
           "#ffbd00",
           "#ffbb00",
           "#ffb300",
           "#ffb100",
           "#ffac00",
           "#ffaa00",
           "#ffa900",
           "#ffa700",
           "#ffa600",
           "#ffa209",
           "#ffa00f",
           "#ff9f12",
           "#ff9f12",
           "#ff9d17",
           "#ff9a20",
           "#ff9923",
           "#ff9828",
           "#ff972b",
           "#ff972b",
           "#ff972b",
           "#ff9336",
           "#ff9336",
           "#ff913c",
           "#ff8e44",
           "#ff8d47",
           "#ff8955",
           "#ff8858",
           "#ff865e",
           "#ff865e",
           "#ff8561",
           "#ff8561",
           "#ff8561",
           "#ff8366",
           "#ff8366",
           "#ff7f72",
           "#ff7f72",
           "#ff7e74",
           "#ff7d77",
           "#ff7c7a",
           "#ff7888",
           "#ff768e",
           "#ff7591",
           "#ff7591",
           "#ff7591",
           "#ff7494",
           "#ff7494",
           "#ff7396",
           "#ff6caa",
           "#ff6caa",
           "#ff6bad",
           "#ff6bad",
           "#ff6ab0",
           "#fc67b5",
           "#fc67b5",
           "#fb65b5",
           "#fb65b5",
           "#fb65b5",
           "#fb65b5",
           "#fb65b5",
           "#f963b6",
           "#f963b6",
           "#f963b6",
           "#f660b7",
           "#f45eb7",
           "#f25db8",
           "#ec56ba",
           "#e853bb",
           "#e853bb",
           "#e34ebc",
           "#e34ebc",
           "#db46be",
           "#d944bf",
           "#d944bf",
           "#d641c0",
           "#d13cc1",
           "#d13cc1",
           "#cd38c2",
           "#cc37c3",
           "#ca35c3",
           "#c732c4",
           "#c732c4",
           "#c732c4",
           "#c530c5",
           "#c22dc6",
           "#c02bc6",
           "#be2ac7",
           "#be2ac7",
           "#bd28c7",
           "#bd28c7",
           "#b823c9",
           "#b420ca",
           "#b31eca",
           "#ae19cc",
           "#aa16cd",
           "#a713ce",
           "#a00ccf",
           "#9e0ad0",
           "#9e0ad0",
           "#9d09d0",
           "#9804d2",
           "#9602d2",
           "#9000d4",
           "#8e00d5",
           "#8200d8",
           "#7d00da",
           "#5800e5"
          ]
         },
         "mode": "markers",
         "showlegend": false,
         "type": "scatter",
         "x": [
          0.44453,
          0.41203,
          0.14975,
          0.35776,
          0.41004,
          0.31329,
          0.29927,
          0.41904,
          0.40867,
          0.08728,
          0.21348,
          0.10547,
          0.28551,
          0.14166,
          0.26248,
          0.29754,
          0.35329,
          0.18355,
          0.46987,
          0.11451,
          0.08423,
          0.07296,
          0.35561,
          0.21394,
          0.17554,
          0.05399,
          0.17808,
          0.02833,
          0.30008,
          0.06137,
          0.08701,
          0.23669,
          0.25772,
          0.02947,
          0.10613,
          0.09081,
          0.16292,
          0.28333,
          0.02556,
          0.18037,
          0.18985,
          0.11132,
          0.055,
          0.0182,
          0.17457,
          0.03635,
          0.05292,
          0.10339,
          0.0889,
          0.05228,
          0.07396,
          0.00679,
          0.18519,
          0.04294,
          0.04002,
          0.00322,
          0.13297,
          0.17914,
          0.11757,
          0.02745,
          0.04762,
          0.04339,
          0,
          0.12721,
          0.12372,
          0.08404,
          0.04472,
          0.1388,
          0.03061,
          0.01521,
          0.11556,
          0.0817,
          0.04127,
          0.03285,
          0.0305,
          0.06906,
          0.11479,
          0.07008,
          0.05301,
          0.12583,
          0.08196,
          0.13636,
          0.06126,
          0.1717,
          0.08415,
          0.07964,
          0.08722,
          0.10393,
          0.03616,
          0.06686,
          0.01829,
          0.0326,
          0.3188,
          0.11681,
          0.00615,
          0.17955,
          0.08582,
          0.09314,
          0.13647,
          0.14476,
          0.10769,
          0.08092,
          0.17176,
          0.04952,
          0.12533,
          0.06442,
          0.07506,
          0.04852,
          0.1192,
          0.50521,
          0.06681,
          0.07112,
          0.11587,
          0.09419
         ],
         "xaxis": "x3",
         "y": [
          7.526,
          7.509,
          7.501,
          7.498,
          7.413,
          7.404,
          7.339,
          7.334,
          7.291,
          7.267,
          7.119,
          7.087,
          6.994,
          6.952,
          6.929,
          6.907,
          6.871,
          6.778,
          6.739,
          6.705,
          6.701,
          6.65,
          6.573,
          6.545,
          6.488,
          6.481,
          6.478,
          6.474,
          6.379,
          6.361,
          6.324,
          6.239,
          6.218,
          6.078,
          6.068,
          6.005,
          5.992,
          5.987,
          5.977,
          5.976,
          5.921,
          5.919,
          5.835,
          5.813,
          5.802,
          5.768,
          5.743,
          5.615,
          5.56,
          5.546,
          5.538,
          5.528,
          5.517,
          5.51,
          5.488,
          5.314,
          5.303,
          5.291,
          5.279,
          5.245,
          5.185,
          5.177,
          5.163,
          5.161,
          5.155,
          5.151,
          5.145,
          5.132,
          5.129,
          5.123,
          5.061,
          5.045,
          5.033,
          4.907,
          4.875,
          4.871,
          4.795,
          4.793,
          4.655,
          4.643,
          4.635,
          4.575,
          4.513,
          4.508,
          4.459,
          4.415,
          4.404,
          4.362,
          4.36,
          4.356,
          4.324,
          4.276,
          4.252,
          4.219,
          4.217,
          4.201,
          4.193,
          4.121,
          4.073,
          4.028,
          3.974,
          3.907,
          3.856,
          3.763,
          3.739,
          3.739,
          3.695,
          3.622,
          3.607,
          3.515,
          3.484,
          3.36,
          3.303,
          2.905
         ],
         "yaxis": "y3"
        },
        {
         "line": {
          "color": "black"
         },
         "mode": "lines",
         "showlegend": false,
         "type": "scatter",
         "x": [
          0.44453,
          0.41203,
          0.14975,
          0.35776,
          0.41004,
          0.31329,
          0.29927,
          0.41904,
          0.40867,
          0.08728,
          0.21348,
          0.10547,
          0.28551,
          0.14166,
          0.26248,
          0.29754,
          0.35329,
          0.18355,
          0.46987,
          0.11451,
          0.08423,
          0.07296,
          0.35561,
          0.21394,
          0.17554,
          0.05399,
          0.17808,
          0.02833,
          0.30008,
          0.06137,
          0.08701,
          0.23669,
          0.25772,
          0.02947,
          0.10613,
          0.09081,
          0.16292,
          0.28333,
          0.02556,
          0.18037,
          0.18985,
          0.11132,
          0.055,
          0.0182,
          0.17457,
          0.03635,
          0.05292,
          0.10339,
          0.0889,
          0.05228,
          0.07396,
          0.00679,
          0.18519,
          0.04294,
          0.04002,
          0.00322,
          0.13297,
          0.17914,
          0.11757,
          0.02745,
          0.04762,
          0.04339,
          0,
          0.12721,
          0.12372,
          0.08404,
          0.04472,
          0.1388,
          0.03061,
          0.01521,
          0.11556,
          0.0817,
          0.04127,
          0.03285,
          0.0305,
          0.06906,
          0.11479,
          0.07008,
          0.05301,
          0.12583,
          0.08196,
          0.13636,
          0.06126,
          0.1717,
          0.08415,
          0.07964,
          0.08722,
          0.10393,
          0.03616,
          0.06686,
          0.01829,
          0.0326,
          0.3188,
          0.11681,
          0.00615,
          0.17955,
          0.08582,
          0.09314,
          0.13647,
          0.14476,
          0.10769,
          0.08092,
          0.17176,
          0.04952,
          0.12533,
          0.06442,
          0.07506,
          0.04852,
          0.1192,
          0.50521,
          0.06681,
          0.07112,
          0.11587,
          0.09419
         ],
         "xaxis": "x3",
         "y": [
          6.911591266039698,
          6.754315868591397,
          5.485079214968612,
          6.491690151067726,
          6.744685775024562,
          6.276489014928465,
          6.208642828090767,
          6.788238962010246,
          6.738056012116742,
          5.182771704857983,
          5.7934841712572345,
          5.270797534999049,
          6.142054844432655,
          5.44592973911148,
          6.0306070781792895,
          6.200270937703519,
          6.4700587348648355,
          5.648645628314845,
          7.03421768361939,
          5.314544291704668,
          5.168012013712835,
          5.113473745120762,
          6.481285778621146,
          5.795710223036503,
          5.609883291897587,
          5.021673305440939,
          5.622174969113546,
          4.897498330101756,
          6.212562614919478,
          5.0573869187691995,
          5.181465109248413,
          5.905803001250314,
          6.007572281506861,
          4.903015067119943,
          5.273991435377999,
          5.199854232642369,
          5.5488120452576615,
          6.131505294696123,
          4.884093626996163,
          5.633256835579903,
          5.679132859204824,
          5.299107106539743,
          5.026560940869333,
          4.84847679852787,
          5.60518922618913,
          4.936309058948999,
          5.016495315432641,
          5.260731909562357,
          5.190611278515407,
          5.0133981999136585,
          5.118312988119172,
          4.793261035916021,
          5.6565819868322365,
          4.9681996703085165,
          4.954069080753161,
          4.7759849384117,
          5.4038767174553035,
          5.62730456669186,
          5.329352375279801,
          4.893239796263156,
          4.990847327541072,
          4.970377329657801,
          4.760402575956822,
          5.3760026777844665,
          5.359113719720018,
          5.167092557543137,
          4.976813522845685,
          5.43208950413603,
          4.90853180413813,
          4.834007461962627,
          5.319625496852998,
          5.15576872892686,
          4.9601181345011724,
          4.919371708454567,
          4.907999487408305,
          5.094600697426967,
          5.315899279744223,
          5.099536725285344,
          5.016930847302498,
          5.369324522446662,
          5.157026932106446,
          5.420281751219911,
          5.056854602039374,
          5.591300598783695,
          5.1676248742729625,
          5.145799888350137,
          5.1824813502780795,
          5.263345100781498,
          4.935389602779301,
          5.083954362830466,
          4.848912330397727,
          4.918161897704964,
          6.3031532438496995,
          5.3256745506010095,
          4.790163920397039,
          5.629288656321208,
          5.1757064100803065,
          5.211129668828662,
          5.4208140679497365,
          5.4609313924065495,
          5.281540654455517,
          5.1519941193881005,
          5.5915909533636,
          5.000041889238049,
          5.366904900947457,
          5.0721466099143475,
          5.123636155417422,
          4.99520264623964,
          5.337240341367208,
          7.205236531183174,
          5.083712400680546,
          5.10456953800369,
          5.321125662182505,
          5.2162108739769915
         ],
         "yaxis": "y3"
        },
        {
         "marker": {
          "cmax": 8.526,
          "cmin": 1.9049999999999998,
          "color": [
           7.526,
           7.509,
           7.501,
           7.498,
           7.413,
           7.404,
           7.339,
           7.334,
           7.291,
           7.267,
           7.119,
           7.087,
           6.994,
           6.952,
           6.929,
           6.907,
           6.871,
           6.778,
           6.739,
           6.705,
           6.701,
           6.65,
           6.573,
           6.545,
           6.488,
           6.481,
           6.478,
           6.474,
           6.379,
           6.361,
           6.324,
           6.239,
           6.218,
           6.078,
           6.068,
           6.005,
           5.992,
           5.987,
           5.977,
           5.976,
           5.921,
           5.919,
           5.835,
           5.813,
           5.802,
           5.768,
           5.743,
           5.615,
           5.56,
           5.546,
           5.538,
           5.528,
           5.517,
           5.51,
           5.488,
           5.314,
           5.303,
           5.291,
           5.279,
           5.245,
           5.185,
           5.177,
           5.163,
           5.161,
           5.155,
           5.151,
           5.145,
           5.132,
           5.129,
           5.123,
           5.061,
           5.045,
           5.033,
           4.907,
           4.875,
           4.871,
           4.795,
           4.793,
           4.655,
           4.643,
           4.635,
           4.575,
           4.513,
           4.508,
           4.459,
           4.415,
           4.404,
           4.362,
           4.36,
           4.356,
           4.324,
           4.276,
           4.252,
           4.219,
           4.217,
           4.201,
           4.193,
           4.121,
           4.073,
           4.028,
           3.974,
           3.907,
           3.856,
           3.763,
           3.739,
           3.739,
           3.695,
           3.622,
           3.607,
           3.515,
           3.484,
           3.36,
           3.303,
           2.905
          ],
          "colorbar": {
           "ticktext": [
            "Min",
            "Max"
           ],
           "tickvals": [
            2.905,
            7.526
           ],
           "title": {
            "text": "Geluksscore"
           }
          },
          "colorscale": [
           [
            0,
            "#0000ff"
           ],
           [
            0.25,
            "#9400d3"
           ],
           [
            0.5,
            "#ff69b4"
           ],
           [
            0.75,
            "#ffa500"
           ],
           [
            1,
            "#ffff00"
           ]
          ],
          "showscale": true,
          "size": 1
         },
         "mode": "markers",
         "showlegend": false,
         "type": "scatter",
         "x": [
          null
         ],
         "y": [
          null
         ]
        }
       ],
       "layout": {
        "height": 500,
        "paper_bgcolor": "white",
        "plot_bgcolor": "white",
        "showlegend": false,
        "template": {
         "data": {
          "bar": [
           {
            "error_x": {
             "color": "#2a3f5f"
            },
            "error_y": {
             "color": "#2a3f5f"
            },
            "marker": {
             "line": {
              "color": "#E5ECF6",
              "width": 0.5
             },
             "pattern": {
              "fillmode": "overlay",
              "size": 10,
              "solidity": 0.2
             }
            },
            "type": "bar"
           }
          ],
          "barpolar": [
           {
            "marker": {
             "line": {
              "color": "#E5ECF6",
              "width": 0.5
             },
             "pattern": {
              "fillmode": "overlay",
              "size": 10,
              "solidity": 0.2
             }
            },
            "type": "barpolar"
           }
          ],
          "carpet": [
           {
            "aaxis": {
             "endlinecolor": "#2a3f5f",
             "gridcolor": "white",
             "linecolor": "white",
             "minorgridcolor": "white",
             "startlinecolor": "#2a3f5f"
            },
            "baxis": {
             "endlinecolor": "#2a3f5f",
             "gridcolor": "white",
             "linecolor": "white",
             "minorgridcolor": "white",
             "startlinecolor": "#2a3f5f"
            },
            "type": "carpet"
           }
          ],
          "choropleth": [
           {
            "colorbar": {
             "outlinewidth": 0,
             "ticks": ""
            },
            "type": "choropleth"
           }
          ],
          "contour": [
           {
            "colorbar": {
             "outlinewidth": 0,
             "ticks": ""
            },
            "colorscale": [
             [
              0,
              "#0d0887"
             ],
             [
              0.1111111111111111,
              "#46039f"
             ],
             [
              0.2222222222222222,
              "#7201a8"
             ],
             [
              0.3333333333333333,
              "#9c179e"
             ],
             [
              0.4444444444444444,
              "#bd3786"
             ],
             [
              0.5555555555555556,
              "#d8576b"
             ],
             [
              0.6666666666666666,
              "#ed7953"
             ],
             [
              0.7777777777777778,
              "#fb9f3a"
             ],
             [
              0.8888888888888888,
              "#fdca26"
             ],
             [
              1,
              "#f0f921"
             ]
            ],
            "type": "contour"
           }
          ],
          "contourcarpet": [
           {
            "colorbar": {
             "outlinewidth": 0,
             "ticks": ""
            },
            "type": "contourcarpet"
           }
          ],
          "heatmap": [
           {
            "colorbar": {
             "outlinewidth": 0,
             "ticks": ""
            },
            "colorscale": [
             [
              0,
              "#0d0887"
             ],
             [
              0.1111111111111111,
              "#46039f"
             ],
             [
              0.2222222222222222,
              "#7201a8"
             ],
             [
              0.3333333333333333,
              "#9c179e"
             ],
             [
              0.4444444444444444,
              "#bd3786"
             ],
             [
              0.5555555555555556,
              "#d8576b"
             ],
             [
              0.6666666666666666,
              "#ed7953"
             ],
             [
              0.7777777777777778,
              "#fb9f3a"
             ],
             [
              0.8888888888888888,
              "#fdca26"
             ],
             [
              1,
              "#f0f921"
             ]
            ],
            "type": "heatmap"
           }
          ],
          "heatmapgl": [
           {
            "colorbar": {
             "outlinewidth": 0,
             "ticks": ""
            },
            "colorscale": [
             [
              0,
              "#0d0887"
             ],
             [
              0.1111111111111111,
              "#46039f"
             ],
             [
              0.2222222222222222,
              "#7201a8"
             ],
             [
              0.3333333333333333,
              "#9c179e"
             ],
             [
              0.4444444444444444,
              "#bd3786"
             ],
             [
              0.5555555555555556,
              "#d8576b"
             ],
             [
              0.6666666666666666,
              "#ed7953"
             ],
             [
              0.7777777777777778,
              "#fb9f3a"
             ],
             [
              0.8888888888888888,
              "#fdca26"
             ],
             [
              1,
              "#f0f921"
             ]
            ],
            "type": "heatmapgl"
           }
          ],
          "histogram": [
           {
            "marker": {
             "pattern": {
              "fillmode": "overlay",
              "size": 10,
              "solidity": 0.2
             }
            },
            "type": "histogram"
           }
          ],
          "histogram2d": [
           {
            "colorbar": {
             "outlinewidth": 0,
             "ticks": ""
            },
            "colorscale": [
             [
              0,
              "#0d0887"
             ],
             [
              0.1111111111111111,
              "#46039f"
             ],
             [
              0.2222222222222222,
              "#7201a8"
             ],
             [
              0.3333333333333333,
              "#9c179e"
             ],
             [
              0.4444444444444444,
              "#bd3786"
             ],
             [
              0.5555555555555556,
              "#d8576b"
             ],
             [
              0.6666666666666666,
              "#ed7953"
             ],
             [
              0.7777777777777778,
              "#fb9f3a"
             ],
             [
              0.8888888888888888,
              "#fdca26"
             ],
             [
              1,
              "#f0f921"
             ]
            ],
            "type": "histogram2d"
           }
          ],
          "histogram2dcontour": [
           {
            "colorbar": {
             "outlinewidth": 0,
             "ticks": ""
            },
            "colorscale": [
             [
              0,
              "#0d0887"
             ],
             [
              0.1111111111111111,
              "#46039f"
             ],
             [
              0.2222222222222222,
              "#7201a8"
             ],
             [
              0.3333333333333333,
              "#9c179e"
             ],
             [
              0.4444444444444444,
              "#bd3786"
             ],
             [
              0.5555555555555556,
              "#d8576b"
             ],
             [
              0.6666666666666666,
              "#ed7953"
             ],
             [
              0.7777777777777778,
              "#fb9f3a"
             ],
             [
              0.8888888888888888,
              "#fdca26"
             ],
             [
              1,
              "#f0f921"
             ]
            ],
            "type": "histogram2dcontour"
           }
          ],
          "mesh3d": [
           {
            "colorbar": {
             "outlinewidth": 0,
             "ticks": ""
            },
            "type": "mesh3d"
           }
          ],
          "parcoords": [
           {
            "line": {
             "colorbar": {
              "outlinewidth": 0,
              "ticks": ""
             }
            },
            "type": "parcoords"
           }
          ],
          "pie": [
           {
            "automargin": true,
            "type": "pie"
           }
          ],
          "scatter": [
           {
            "fillpattern": {
             "fillmode": "overlay",
             "size": 10,
             "solidity": 0.2
            },
            "type": "scatter"
           }
          ],
          "scatter3d": [
           {
            "line": {
             "colorbar": {
              "outlinewidth": 0,
              "ticks": ""
             }
            },
            "marker": {
             "colorbar": {
              "outlinewidth": 0,
              "ticks": ""
             }
            },
            "type": "scatter3d"
           }
          ],
          "scattercarpet": [
           {
            "marker": {
             "colorbar": {
              "outlinewidth": 0,
              "ticks": ""
             }
            },
            "type": "scattercarpet"
           }
          ],
          "scattergeo": [
           {
            "marker": {
             "colorbar": {
              "outlinewidth": 0,
              "ticks": ""
             }
            },
            "type": "scattergeo"
           }
          ],
          "scattergl": [
           {
            "marker": {
             "colorbar": {
              "outlinewidth": 0,
              "ticks": ""
             }
            },
            "type": "scattergl"
           }
          ],
          "scattermapbox": [
           {
            "marker": {
             "colorbar": {
              "outlinewidth": 0,
              "ticks": ""
             }
            },
            "type": "scattermapbox"
           }
          ],
          "scatterpolar": [
           {
            "marker": {
             "colorbar": {
              "outlinewidth": 0,
              "ticks": ""
             }
            },
            "type": "scatterpolar"
           }
          ],
          "scatterpolargl": [
           {
            "marker": {
             "colorbar": {
              "outlinewidth": 0,
              "ticks": ""
             }
            },
            "type": "scatterpolargl"
           }
          ],
          "scatterternary": [
           {
            "marker": {
             "colorbar": {
              "outlinewidth": 0,
              "ticks": ""
             }
            },
            "type": "scatterternary"
           }
          ],
          "surface": [
           {
            "colorbar": {
             "outlinewidth": 0,
             "ticks": ""
            },
            "colorscale": [
             [
              0,
              "#0d0887"
             ],
             [
              0.1111111111111111,
              "#46039f"
             ],
             [
              0.2222222222222222,
              "#7201a8"
             ],
             [
              0.3333333333333333,
              "#9c179e"
             ],
             [
              0.4444444444444444,
              "#bd3786"
             ],
             [
              0.5555555555555556,
              "#d8576b"
             ],
             [
              0.6666666666666666,
              "#ed7953"
             ],
             [
              0.7777777777777778,
              "#fb9f3a"
             ],
             [
              0.8888888888888888,
              "#fdca26"
             ],
             [
              1,
              "#f0f921"
             ]
            ],
            "type": "surface"
           }
          ],
          "table": [
           {
            "cells": {
             "fill": {
              "color": "#EBF0F8"
             },
             "line": {
              "color": "white"
             }
            },
            "header": {
             "fill": {
              "color": "#C8D4E3"
             },
             "line": {
              "color": "white"
             }
            },
            "type": "table"
           }
          ]
         },
         "layout": {
          "annotationdefaults": {
           "arrowcolor": "#2a3f5f",
           "arrowhead": 0,
           "arrowwidth": 1
          },
          "autotypenumbers": "strict",
          "coloraxis": {
           "colorbar": {
            "outlinewidth": 0,
            "ticks": ""
           }
          },
          "colorscale": {
           "diverging": [
            [
             0,
             "#8e0152"
            ],
            [
             0.1,
             "#c51b7d"
            ],
            [
             0.2,
             "#de77ae"
            ],
            [
             0.3,
             "#f1b6da"
            ],
            [
             0.4,
             "#fde0ef"
            ],
            [
             0.5,
             "#f7f7f7"
            ],
            [
             0.6,
             "#e6f5d0"
            ],
            [
             0.7,
             "#b8e186"
            ],
            [
             0.8,
             "#7fbc41"
            ],
            [
             0.9,
             "#4d9221"
            ],
            [
             1,
             "#276419"
            ]
           ],
           "sequential": [
            [
             0,
             "#0d0887"
            ],
            [
             0.1111111111111111,
             "#46039f"
            ],
            [
             0.2222222222222222,
             "#7201a8"
            ],
            [
             0.3333333333333333,
             "#9c179e"
            ],
            [
             0.4444444444444444,
             "#bd3786"
            ],
            [
             0.5555555555555556,
             "#d8576b"
            ],
            [
             0.6666666666666666,
             "#ed7953"
            ],
            [
             0.7777777777777778,
             "#fb9f3a"
            ],
            [
             0.8888888888888888,
             "#fdca26"
            ],
            [
             1,
             "#f0f921"
            ]
           ],
           "sequentialminus": [
            [
             0,
             "#0d0887"
            ],
            [
             0.1111111111111111,
             "#46039f"
            ],
            [
             0.2222222222222222,
             "#7201a8"
            ],
            [
             0.3333333333333333,
             "#9c179e"
            ],
            [
             0.4444444444444444,
             "#bd3786"
            ],
            [
             0.5555555555555556,
             "#d8576b"
            ],
            [
             0.6666666666666666,
             "#ed7953"
            ],
            [
             0.7777777777777778,
             "#fb9f3a"
            ],
            [
             0.8888888888888888,
             "#fdca26"
            ],
            [
             1,
             "#f0f921"
            ]
           ]
          },
          "colorway": [
           "#636efa",
           "#EF553B",
           "#00cc96",
           "#ab63fa",
           "#FFA15A",
           "#19d3f3",
           "#FF6692",
           "#B6E880",
           "#FF97FF",
           "#FECB52"
          ],
          "font": {
           "color": "#2a3f5f"
          },
          "geo": {
           "bgcolor": "white",
           "lakecolor": "white",
           "landcolor": "#E5ECF6",
           "showlakes": true,
           "showland": true,
           "subunitcolor": "white"
          },
          "hoverlabel": {
           "align": "left"
          },
          "hovermode": "closest",
          "mapbox": {
           "style": "light"
          },
          "paper_bgcolor": "white",
          "plot_bgcolor": "#E5ECF6",
          "polar": {
           "angularaxis": {
            "gridcolor": "white",
            "linecolor": "white",
            "ticks": ""
           },
           "bgcolor": "#E5ECF6",
           "radialaxis": {
            "gridcolor": "white",
            "linecolor": "white",
            "ticks": ""
           }
          },
          "scene": {
           "xaxis": {
            "backgroundcolor": "#E5ECF6",
            "gridcolor": "white",
            "gridwidth": 2,
            "linecolor": "white",
            "showbackground": true,
            "ticks": "",
            "zerolinecolor": "white"
           },
           "yaxis": {
            "backgroundcolor": "#E5ECF6",
            "gridcolor": "white",
            "gridwidth": 2,
            "linecolor": "white",
            "showbackground": true,
            "ticks": "",
            "zerolinecolor": "white"
           },
           "zaxis": {
            "backgroundcolor": "#E5ECF6",
            "gridcolor": "white",
            "gridwidth": 2,
            "linecolor": "white",
            "showbackground": true,
            "ticks": "",
            "zerolinecolor": "white"
           }
          },
          "shapedefaults": {
           "line": {
            "color": "#2a3f5f"
           }
          },
          "ternary": {
           "aaxis": {
            "gridcolor": "white",
            "linecolor": "white",
            "ticks": ""
           },
           "baxis": {
            "gridcolor": "white",
            "linecolor": "white",
            "ticks": ""
           },
           "bgcolor": "#E5ECF6",
           "caxis": {
            "gridcolor": "white",
            "linecolor": "white",
            "ticks": ""
           }
          },
          "title": {
           "x": 0.05
          },
          "xaxis": {
           "automargin": true,
           "gridcolor": "white",
           "linecolor": "white",
           "ticks": "",
           "title": {
            "standoff": 15
           },
           "zerolinecolor": "white",
           "zerolinewidth": 2
          },
          "yaxis": {
           "automargin": true,
           "gridcolor": "white",
           "linecolor": "white",
           "ticks": "",
           "title": {
            "standoff": 15
           },
           "zerolinecolor": "white",
           "zerolinewidth": 2
          }
         }
        },
        "title": {
         "text": "Overheidsvertrouwen en vrijheid"
        },
        "width": 1200,
        "xaxis": {
         "anchor": "y",
         "domain": [
          0,
          0.2888888888888889
         ],
         "linecolor": "black",
         "mirror": true,
         "showgrid": false,
         "showline": false,
         "showticklabels": false,
         "title": {
          "text": "Overheidsvertrouwen"
         },
         "zeroline": true,
         "zerolinecolor": "black"
        },
        "xaxis2": {
         "anchor": "y2",
         "domain": [
          0.35555555555555557,
          0.6444444444444445
         ],
         "title": {
          "text": "Overheidsvertrouwen"
         }
        },
        "xaxis3": {
         "anchor": "y3",
         "domain": [
          0.7111111111111111,
          1
         ],
         "title": {
          "text": "Overheidsvertrouwen"
         }
        },
        "yaxis": {
         "anchor": "x",
         "domain": [
          0,
          1
         ],
         "linecolor": "black",
         "mirror": true,
         "showgrid": false,
         "showline": false,
         "showticklabels": false,
         "title": {
          "text": "Vrijheid"
         },
         "zeroline": true,
         "zerolinecolor": "black"
        },
        "yaxis2": {
         "anchor": "x2",
         "domain": [
          0,
          1
         ],
         "title": {
          "text": "Vrijheid"
         }
        },
        "yaxis3": {
         "anchor": "x3",
         "domain": [
          0,
          1
         ],
         "title": {
          "text": "Geluksscore"
         }
        }
       }
      },
      "text/html": [
       "<div>                            <div id=\"ce397953-dd95-4bf0-ad4e-f3290236babd\" class=\"plotly-graph-div\" style=\"height:500px; width:1200px;\"></div>            <script type=\"text/javascript\">                require([\"plotly\"], function(Plotly) {                    window.PLOTLYENV=window.PLOTLYENV || {};                                    if (document.getElementById(\"ce397953-dd95-4bf0-ad4e-f3290236babd\")) {                    Plotly.newPlot(                        \"ce397953-dd95-4bf0-ad4e-f3290236babd\",                        [{\"hoverlabel\":{\"bgcolor\":\"white\",\"font\":{\"color\":\"#ffc900\",\"size\":16}},\"hovertemplate\":\"\\u003cb\\u003e%{hovertext}\\u003c\\u002fb\\u003e\",\"hovertext\":[\"Denmark\"],\"mode\":\"text\",\"text\":[\"Den\"],\"textfont\":{\"color\":\"#ffc900\",\"family\":\"Arial Black\",\"size\":14},\"textposition\":\"bottom center\",\"x\":[0.3082807894736842],\"y\":[0.2002594736842105],\"type\":\"scatter\",\"xaxis\":\"x\",\"yaxis\":\"y\"},{\"hoverlabel\":{\"bgcolor\":\"white\",\"font\":{\"color\":\"#ffc800\",\"size\":16}},\"hovertemplate\":\"\\u003cb\\u003e%{hovertext}\\u003c\\u002fb\\u003e\",\"hovertext\":[\"Switzerland\"],\"mode\":\"text\",\"text\":[\"Swi\"],\"textfont\":{\"color\":\"#ffc800\",\"family\":\"Arial Black\",\"size\":14},\"textposition\":\"bottom center\",\"x\":[0.27578078947368423],\"y\":[0.20641947368421054],\"type\":\"scatter\",\"xaxis\":\"x\",\"yaxis\":\"y\"},{\"hoverlabel\":{\"bgcolor\":\"white\",\"font\":{\"color\":\"#ffc800\",\"size\":16}},\"hovertemplate\":\"\\u003cb\\u003e%{hovertext}\\u003c\\u002fb\\u003e\",\"hovertext\":[\"Iceland\"],\"mode\":\"text\",\"text\":[\"Ice\"],\"textfont\":{\"color\":\"#ffc800\",\"family\":\"Arial Black\",\"size\":14},\"textposition\":\"bottom center\",\"x\":[0.013500789473684188],\"y\":[0.18708947368421047],\"type\":\"scatter\",\"xaxis\":\"x\",\"yaxis\":\"y\"},{\"hoverlabel\":{\"bgcolor\":\"white\",\"font\":{\"color\":\"#ffc800\",\"size\":16}},\"hovertemplate\":\"\\u003cb\\u003e%{hovertext}\\u003c\\u002fb\\u003e\",\"hovertext\":[\"Norway\"],\"mode\":\"text\",\"text\":[\"Nor\"],\"textfont\":{\"color\":\"#ffc800\",\"family\":\"Arial Black\",\"size\":14},\"textposition\":\"bottom center\",\"x\":[0.22151078947368422],\"y\":[0.21693947368421052],\"type\":\"scatter\",\"xaxis\":\"x\",\"yaxis\":\"y\"},{\"hoverlabel\":{\"bgcolor\":\"white\",\"font\":{\"color\":\"#ffc200\",\"size\":16}},\"hovertemplate\":\"\\u003cb\\u003e%{hovertext}\\u003c\\u002fb\\u003e\",\"hovertext\":[\"Finland\"],\"mode\":\"text\",\"text\":[\"Fin\"],\"textfont\":{\"color\":\"#ffc200\",\"family\":\"Arial Black\",\"size\":14},\"textposition\":\"bottom center\",\"x\":[0.2737907894736842],\"y\":[0.1918894736842105],\"type\":\"scatter\",\"xaxis\":\"x\",\"yaxis\":\"y\"},{\"hoverlabel\":{\"bgcolor\":\"white\",\"font\":{\"color\":\"#ffc200\",\"size\":16}},\"hovertemplate\":\"\\u003cb\\u003e%{hovertext}\\u003c\\u002fb\\u003e\",\"hovertext\":[\"Canada\"],\"mode\":\"text\",\"text\":[\"Can\"],\"textfont\":{\"color\":\"#ffc200\",\"family\":\"Arial Black\",\"size\":14},\"textposition\":\"bottom center\",\"x\":[0.1770407894736842],\"y\":[0.1945494736842105],\"type\":\"scatter\",\"xaxis\":\"x\",\"yaxis\":\"y\"},{\"hoverlabel\":{\"bgcolor\":\"white\",\"font\":{\"color\":\"#ffbf00\",\"size\":16}},\"hovertemplate\":\"\\u003cb\\u003e%{hovertext}\\u003c\\u002fb\\u003e\",\"hovertext\":[\"Netherlands\"],\"mode\":\"text\",\"text\":[\"Net\"],\"textfont\":{\"color\":\"#ffbf00\",\"family\":\"Arial Black\",\"size\":14},\"textposition\":\"bottom center\",\"x\":[0.16302078947368417],\"y\":[0.1729594736842105],\"type\":\"scatter\",\"xaxis\":\"x\",\"yaxis\":\"y\"},{\"hoverlabel\":{\"bgcolor\":\"white\",\"font\":{\"color\":\"#ffbe00\",\"size\":16}},\"hovertemplate\":\"\\u003cb\\u003e%{hovertext}\\u003c\\u002fb\\u003e\",\"hovertext\":[\"New Zealand\"],\"mode\":\"text\",\"text\":[\"New\"],\"textfont\":{\"color\":\"#ffbe00\",\"family\":\"Arial Black\",\"size\":14},\"textposition\":\"bottom center\",\"x\":[0.2827907894736842],\"y\":[0.20231947368421055],\"type\":\"scatter\",\"xaxis\":\"x\",\"yaxis\":\"y\"},{\"hoverlabel\":{\"bgcolor\":\"white\",\"font\":{\"color\":\"#ffbd00\",\"size\":16}},\"hovertemplate\":\"\\u003cb\\u003e%{hovertext}\\u003c\\u002fb\\u003e\",\"hovertext\":[\"Sweden\"],\"mode\":\"text\",\"text\":[\"Swe\"],\"textfont\":{\"color\":\"#ffbd00\",\"family\":\"Arial Black\",\"size\":14},\"textposition\":\"bottom center\",\"x\":[0.2724207894736842],\"y\":[0.20302947368421054],\"type\":\"scatter\",\"xaxis\":\"x\",\"yaxis\":\"y\"},{\"hoverlabel\":{\"bgcolor\":\"white\",\"font\":{\"color\":\"#ffbb00\",\"size\":16}},\"hovertemplate\":\"\\u003cb\\u003e%{hovertext}\\u003c\\u002fb\\u003e\",\"hovertext\":[\"Israel\"],\"mode\":\"text\",\"text\":[\"Isr\"],\"textfont\":{\"color\":\"#ffbb00\",\"family\":\"Arial Black\",\"size\":14},\"textposition\":\"bottom center\",\"x\":[-0.04896921052631581],\"y\":[-0.014830526315789516],\"type\":\"scatter\",\"xaxis\":\"x\",\"yaxis\":\"y\"},{\"hoverlabel\":{\"bgcolor\":\"white\",\"font\":{\"color\":\"#ffb300\",\"size\":16}},\"hovertemplate\":\"\\u003cb\\u003e%{hovertext}\\u003c\\u002fb\\u003e\",\"hovertext\":[\"Austria\"],\"mode\":\"text\",\"text\":[\"Aus\"],\"textfont\":{\"color\":\"#ffb300\",\"family\":\"Arial Black\",\"size\":14},\"textposition\":\"bottom center\",\"x\":[0.0772307894736842],\"y\":[0.16439947368421048],\"type\":\"scatter\",\"xaxis\":\"x\",\"yaxis\":\"y\"},{\"hoverlabel\":{\"bgcolor\":\"white\",\"font\":{\"color\":\"#ffb100\",\"size\":16}},\"hovertemplate\":\"\\u003cb\\u003e%{hovertext}\\u003c\\u002fb\\u003e\",\"hovertext\":[\"Costa Rica\"],\"mode\":\"text\",\"text\":[\"Cos\"],\"textfont\":{\"color\":\"#ffb100\",\"family\":\"Arial Black\",\"size\":14},\"textposition\":\"bottom center\",\"x\":[-0.03077921052631581],\"y\":[0.17309947368421053],\"type\":\"scatter\",\"xaxis\":\"x\",\"yaxis\":\"y\"},{\"hoverlabel\":{\"bgcolor\":\"white\",\"font\":{\"color\":\"#ffac00\",\"size\":16}},\"hovertemplate\":\"\\u003cb\\u003e%{hovertext}\\u003c\\u002fb\\u003e\",\"hovertext\":[\"Germany\"],\"mode\":\"text\",\"text\":[\"Ger\"],\"textfont\":{\"color\":\"#ffac00\",\"family\":\"Arial Black\",\"size\":14},\"textposition\":\"bottom center\",\"x\":[0.14926078947368418],\"y\":[0.15550947368421053],\"type\":\"scatter\",\"xaxis\":\"x\",\"yaxis\":\"y\"},{\"hoverlabel\":{\"bgcolor\":\"white\",\"font\":{\"color\":\"#ffaa00\",\"size\":16}},\"hovertemplate\":\"\\u003cb\\u003e%{hovertext}\\u003c\\u002fb\\u003e\",\"hovertext\":[\"Brazil\"],\"mode\":\"text\",\"text\":[\"Bra\"],\"textfont\":{\"color\":\"#ffaa00\",\"family\":\"Arial Black\",\"size\":14},\"textposition\":\"bottom center\",\"x\":[0.005410789473684202],\"y\":[0.025099473684210505],\"type\":\"scatter\",\"xaxis\":\"x\",\"yaxis\":\"y\"},{\"hoverlabel\":{\"bgcolor\":\"white\",\"font\":{\"color\":\"#ffa900\",\"size\":16}},\"hovertemplate\":\"\\u003cb\\u003e%{hovertext}\\u003c\\u002fb\\u003e\",\"hovertext\":[\"Belgium\"],\"mode\":\"text\",\"text\":[\"Bel\"],\"textfont\":{\"color\":\"#ffa900\",\"family\":\"Arial Black\",\"size\":14},\"textposition\":\"bottom center\",\"x\":[0.12623078947368419],\"y\":[0.1343894736842105],\"type\":\"scatter\",\"xaxis\":\"x\",\"yaxis\":\"y\"},{\"hoverlabel\":{\"bgcolor\":\"white\",\"font\":{\"color\":\"#ffa700\",\"size\":16}},\"hovertemplate\":\"\\u003cb\\u003e%{hovertext}\\u003c\\u002fb\\u003e\",\"hovertext\":[\"Ireland\"],\"mode\":\"text\",\"text\":[\"Ire\"],\"textfont\":{\"color\":\"#ffa700\",\"family\":\"Arial Black\",\"size\":14},\"textposition\":\"bottom center\",\"x\":[0.16129078947368422],\"y\":[0.1609294736842105],\"type\":\"scatter\",\"xaxis\":\"x\",\"yaxis\":\"y\"},{\"hoverlabel\":{\"bgcolor\":\"white\",\"font\":{\"color\":\"#ffa600\",\"size\":16}},\"hovertemplate\":\"\\u003cb\\u003e%{hovertext}\\u003c\\u002fb\\u003e\",\"hovertext\":[\"Luxembourg\"],\"mode\":\"text\",\"text\":[\"Lux\"],\"textfont\":{\"color\":\"#ffa600\",\"family\":\"Arial Black\",\"size\":14},\"textposition\":\"bottom center\",\"x\":[0.2170407894736842],\"y\":[0.16954947368421047],\"type\":\"scatter\",\"xaxis\":\"x\",\"yaxis\":\"y\"},{\"hoverlabel\":{\"bgcolor\":\"white\",\"font\":{\"color\":\"#ffa209\",\"size\":16}},\"hovertemplate\":\"\\u003cb\\u003e%{hovertext}\\u003c\\u002fb\\u003e\",\"hovertext\":[\"Mexico\"],\"mode\":\"text\",\"text\":[\"Mex\"],\"textfont\":{\"color\":\"#ffa209\",\"family\":\"Arial Black\",\"size\":14},\"textposition\":\"bottom center\",\"x\":[0.047300789473684185],\"y\":[-0.0020605263157895126],\"type\":\"scatter\",\"xaxis\":\"x\",\"yaxis\":\"y\"},{\"hoverlabel\":{\"bgcolor\":\"white\",\"font\":{\"color\":\"#ffa00f\",\"size\":16}},\"hovertemplate\":\"\\u003cb\\u003e%{hovertext}\\u003c\\u002fb\\u003e\",\"hovertext\":[\"Singapore\"],\"mode\":\"text\",\"text\":[\"Sin\"],\"textfont\":{\"color\":\"#ffa00f\",\"family\":\"Arial Black\",\"size\":14},\"textposition\":\"bottom center\",\"x\":[0.33362078947368423],\"y\":[0.10854947368421053],\"type\":\"scatter\",\"xaxis\":\"x\",\"yaxis\":\"y\"},{\"hoverlabel\":{\"bgcolor\":\"white\",\"font\":{\"color\":\"#ff9f12\",\"size\":16}},\"hovertemplate\":\"\\u003cb\\u003e%{hovertext}\\u003c\\u002fb\\u003e\",\"hovertext\":[\"Chile\"],\"mode\":\"text\",\"text\":[\"Chi\"],\"textfont\":{\"color\":\"#ff9f12\",\"family\":\"Arial Black\",\"size\":14},\"textposition\":\"bottom center\",\"x\":[-0.021739210526315805],\"y\":[-0.0012605263157894897],\"type\":\"scatter\",\"xaxis\":\"x\",\"yaxis\":\"y\"},{\"hoverlabel\":{\"bgcolor\":\"white\",\"font\":{\"color\":\"#ff9f12\",\"size\":16}},\"hovertemplate\":\"\\u003cb\\u003e%{hovertext}\\u003c\\u002fb\\u003e\",\"hovertext\":[\"Panama\"],\"mode\":\"text\",\"text\":[\"Pan\"],\"textfont\":{\"color\":\"#ff9f12\",\"family\":\"Arial Black\",\"size\":14},\"textposition\":\"bottom center\",\"x\":[-0.05201921052631581],\"y\":[0.11011947368421049],\"type\":\"scatter\",\"xaxis\":\"x\",\"yaxis\":\"y\"},{\"hoverlabel\":{\"bgcolor\":\"white\",\"font\":{\"color\":\"#ff9d17\",\"size\":16}},\"hovertemplate\":\"\\u003cb\\u003e%{hovertext}\\u003c\\u002fb\\u003e\",\"hovertext\":[\"Argentina\"],\"mode\":\"text\",\"text\":[\"Arg\"],\"textfont\":{\"color\":\"#ff9d17\",\"family\":\"Arial Black\",\"size\":14},\"textposition\":\"bottom center\",\"x\":[-0.06328921052631581],\"y\":[0.0436894736842105],\"type\":\"scatter\",\"xaxis\":\"x\",\"yaxis\":\"y\"},{\"hoverlabel\":{\"bgcolor\":\"white\",\"font\":{\"color\":\"#ff9a20\",\"size\":16}},\"hovertemplate\":\"\\u003cb\\u003e%{hovertext}\\u003c\\u002fb\\u003e\",\"hovertext\":[\"United Arab Emirates\"],\"mode\":\"text\",\"text\":[\"Uni\"],\"textfont\":{\"color\":\"#ff9a20\",\"family\":\"Arial Black\",\"size\":14},\"textposition\":\"bottom center\",\"x\":[0.21936078947368418],\"y\":[0.18299947368421055],\"type\":\"scatter\",\"xaxis\":\"x\",\"yaxis\":\"y\"},{\"hoverlabel\":{\"bgcolor\":\"white\",\"font\":{\"color\":\"#ff9923\",\"size\":16}},\"hovertemplate\":\"\\u003cb\\u003e%{hovertext}\\u003c\\u002fb\\u003e\",\"hovertext\":[\"Uruguay\"],\"mode\":\"text\",\"text\":[\"Uru\"],\"textfont\":{\"color\":\"#ff9923\",\"family\":\"Arial Black\",\"size\":14},\"textposition\":\"bottom center\",\"x\":[0.07769078947368419],\"y\":[0.16472947368421054],\"type\":\"scatter\",\"xaxis\":\"x\",\"yaxis\":\"y\"},{\"hoverlabel\":{\"bgcolor\":\"white\",\"font\":{\"color\":\"#ff9828\",\"size\":16}},\"hovertemplate\":\"\\u003cb\\u003e%{hovertext}\\u003c\\u002fb\\u003e\",\"hovertext\":[\"Malta\"],\"mode\":\"text\",\"text\":[\"Mal\"],\"textfont\":{\"color\":\"#ff9828\",\"family\":\"Arial Black\",\"size\":14},\"textposition\":\"bottom center\",\"x\":[0.039290789473684196],\"y\":[0.1707894736842105],\"type\":\"scatter\",\"xaxis\":\"x\",\"yaxis\":\"y\"},{\"hoverlabel\":{\"bgcolor\":\"white\",\"font\":{\"color\":\"#ff972b\",\"size\":16}},\"hovertemplate\":\"\\u003cb\\u003e%{hovertext}\\u003c\\u002fb\\u003e\",\"hovertext\":[\"Colombia\"],\"mode\":\"text\",\"text\":[\"Col\"],\"textfont\":{\"color\":\"#ff972b\",\"family\":\"Arial Black\",\"size\":14},\"textposition\":\"bottom center\",\"x\":[-0.0822592105263158],\"y\":[0.06819947368421053],\"type\":\"scatter\",\"xaxis\":\"x\",\"yaxis\":\"y\"},{\"hoverlabel\":{\"bgcolor\":\"white\",\"font\":{\"color\":\"#ff972b\",\"size\":16}},\"hovertemplate\":\"\\u003cb\\u003e%{hovertext}\\u003c\\u002fb\\u003e\",\"hovertext\":[\"France\"],\"mode\":\"text\",\"text\":[\"Fra\"],\"textfont\":{\"color\":\"#ff972b\",\"family\":\"Arial Black\",\"size\":14},\"textposition\":\"bottom center\",\"x\":[0.04183078947368418],\"y\":[0.08646947368421048],\"type\":\"scatter\",\"xaxis\":\"x\",\"yaxis\":\"y\"},{\"hoverlabel\":{\"bgcolor\":\"white\",\"font\":{\"color\":\"#ff972b\",\"size\":16}},\"hovertemplate\":\"\\u003cb\\u003e%{hovertext}\\u003c\\u002fb\\u003e\",\"hovertext\":[\"Thailand\"],\"mode\":\"text\",\"text\":[\"Tha\"],\"textfont\":{\"color\":\"#ff972b\",\"family\":\"Arial Black\",\"size\":14},\"textposition\":\"bottom center\",\"x\":[-0.10791921052631581],\"y\":[0.11637947368421053],\"type\":\"scatter\",\"xaxis\":\"x\",\"yaxis\":\"y\"},{\"hoverlabel\":{\"bgcolor\":\"white\",\"font\":{\"color\":\"#ff9336\",\"size\":16}},\"hovertemplate\":\"\\u003cb\\u003e%{hovertext}\\u003c\\u002fb\\u003e\",\"hovertext\":[\"Saudi Arabia\"],\"mode\":\"text\",\"text\":[\"Sau\"],\"textfont\":{\"color\":\"#ff9336\",\"family\":\"Arial Black\",\"size\":14},\"textposition\":\"bottom center\",\"x\":[0.1638307894736842],\"y\":[-0.00011052631578950534],\"type\":\"scatter\",\"xaxis\":\"x\",\"yaxis\":\"y\"},{\"hoverlabel\":{\"bgcolor\":\"white\",\"font\":{\"color\":\"#ff9336\",\"size\":16}},\"hovertemplate\":\"\\u003cb\\u003e%{hovertext}\\u003c\\u002fb\\u003e\",\"hovertext\":[\"Spain\"],\"mode\":\"text\",\"text\":[\"Spa\"],\"textfont\":{\"color\":\"#ff9336\",\"family\":\"Arial Black\",\"size\":14},\"textposition\":\"bottom center\",\"x\":[-0.0748792105263158],\"y\":[-0.0037005263157894874],\"type\":\"scatter\",\"xaxis\":\"x\",\"yaxis\":\"y\"},{\"hoverlabel\":{\"bgcolor\":\"white\",\"font\":{\"color\":\"#ff913c\",\"size\":16}},\"hovertemplate\":\"\\u003cb\\u003e%{hovertext}\\u003c\\u002fb\\u003e\",\"hovertext\":[\"Guatemala\"],\"mode\":\"text\",\"text\":[\"Gua\"],\"textfont\":{\"color\":\"#ff913c\",\"family\":\"Arial Black\",\"size\":14},\"textposition\":\"bottom center\",\"x\":[-0.0492392105263158],\"y\":[0.12463947368421047],\"type\":\"scatter\",\"xaxis\":\"x\",\"yaxis\":\"y\"},{\"hoverlabel\":{\"bgcolor\":\"white\",\"font\":{\"color\":\"#ff8e44\",\"size\":16}},\"hovertemplate\":\"\\u003cb\\u003e%{hovertext}\\u003c\\u002fb\\u003e\",\"hovertext\":[\"Kuwait\"],\"mode\":\"text\",\"text\":[\"Kuw\"],\"textfont\":{\"color\":\"#ff8e44\",\"family\":\"Arial Black\",\"size\":14},\"textposition\":\"bottom center\",\"x\":[0.1004407894736842],\"y\":[0.052509473684210495],\"type\":\"scatter\",\"xaxis\":\"x\",\"yaxis\":\"y\"},{\"hoverlabel\":{\"bgcolor\":\"white\",\"font\":{\"color\":\"#ff8d47\",\"size\":16}},\"hovertemplate\":\"\\u003cb\\u003e%{hovertext}\\u003c\\u002fb\\u003e\",\"hovertext\":[\"Bahrain\"],\"mode\":\"text\",\"text\":[\"Bah\"],\"textfont\":{\"color\":\"#ff8d47\",\"family\":\"Arial Black\",\"size\":14},\"textposition\":\"bottom center\",\"x\":[0.1214707894736842],\"y\":[0.09459947368421051],\"type\":\"scatter\",\"xaxis\":\"x\",\"yaxis\":\"y\"},{\"hoverlabel\":{\"bgcolor\":\"white\",\"font\":{\"color\":\"#ff8955\",\"size\":16}},\"hovertemplate\":\"\\u003cb\\u003e%{hovertext}\\u003c\\u002fb\\u003e\",\"hovertext\":[\"Slovakia\"],\"mode\":\"text\",\"text\":[\"Slo\"],\"textfont\":{\"color\":\"#ff8955\",\"family\":\"Arial Black\",\"size\":14},\"textposition\":\"bottom center\",\"x\":[-0.10677921052631581],\"y\":[-0.1452405263157895],\"type\":\"scatter\",\"xaxis\":\"x\",\"yaxis\":\"y\"},{\"hoverlabel\":{\"bgcolor\":\"white\",\"font\":{\"color\":\"#ff8858\",\"size\":16}},\"hovertemplate\":\"\\u003cb\\u003e%{hovertext}\\u003c\\u002fb\\u003e\",\"hovertext\":[\"El Salvador\"],\"mode\":\"text\",\"text\":[\"El \"],\"textfont\":{\"color\":\"#ff8858\",\"family\":\"Arial Black\",\"size\":14},\"textposition\":\"bottom center\",\"x\":[-0.030119210526315804],\"y\":[-0.006460526315789472],\"type\":\"scatter\",\"xaxis\":\"x\",\"yaxis\":\"y\"},{\"hoverlabel\":{\"bgcolor\":\"white\",\"font\":{\"color\":\"#ff865e\",\"size\":16}},\"hovertemplate\":\"\\u003cb\\u003e%{hovertext}\\u003c\\u002fb\\u003e\",\"hovertext\":[\"Malaysia\"],\"mode\":\"text\",\"text\":[\"Mal\"],\"textfont\":{\"color\":\"#ff865e\",\"family\":\"Arial Black\",\"size\":14},\"textposition\":\"bottom center\",\"x\":[-0.045439210526315804],\"y\":[0.011159473684210497],\"type\":\"scatter\",\"xaxis\":\"x\",\"yaxis\":\"y\"},{\"hoverlabel\":{\"bgcolor\":\"white\",\"font\":{\"color\":\"#ff865e\",\"size\":16}},\"hovertemplate\":\"\\u003cb\\u003e%{hovertext}\\u003c\\u002fb\\u003e\",\"hovertext\":[\"Nicaragua\"],\"mode\":\"text\",\"text\":[\"Nic\"],\"textfont\":{\"color\":\"#ff865e\",\"family\":\"Arial Black\",\"size\":14},\"textposition\":\"bottom center\",\"x\":[0.026670789473684203],\"y\":[0.08666947368421052],\"type\":\"scatter\",\"xaxis\":\"x\",\"yaxis\":\"y\"},{\"hoverlabel\":{\"bgcolor\":\"white\",\"font\":{\"color\":\"#ff8561\",\"size\":16}},\"hovertemplate\":\"\\u003cb\\u003e%{hovertext}\\u003c\\u002fb\\u003e\",\"hovertext\":[\"Uzbekistan\"],\"mode\":\"text\",\"text\":[\"Uzb\"],\"textfont\":{\"color\":\"#ff8561\",\"family\":\"Arial Black\",\"size\":14},\"textposition\":\"bottom center\",\"x\":[0.14708078947368422],\"y\":[0.22932947368421053],\"type\":\"scatter\",\"xaxis\":\"x\",\"yaxis\":\"y\"},{\"hoverlabel\":{\"bgcolor\":\"white\",\"font\":{\"color\":\"#ff8561\",\"size\":16}},\"hovertemplate\":\"\\u003cb\\u003e%{hovertext}\\u003c\\u002fb\\u003e\",\"hovertext\":[\"Italy\"],\"mode\":\"text\",\"text\":[\"Ita\"],\"textfont\":{\"color\":\"#ff8561\",\"family\":\"Arial Black\",\"size\":14},\"textposition\":\"bottom center\",\"x\":[-0.1106892105263158],\"y\":[-0.1908805263157895],\"type\":\"scatter\",\"xaxis\":\"x\",\"yaxis\":\"y\"},{\"hoverlabel\":{\"bgcolor\":\"white\",\"font\":{\"color\":\"#ff8561\",\"size\":16}},\"hovertemplate\":\"\\u003cb\\u003e%{hovertext}\\u003c\\u002fb\\u003e\",\"hovertext\":[\"Ecuador\"],\"mode\":\"text\",\"text\":[\"Ecu\"],\"textfont\":{\"color\":\"#ff8561\",\"family\":\"Arial Black\",\"size\":14},\"textposition\":\"bottom center\",\"x\":[0.0441207894736842],\"y\":[0.02354947368421051],\"type\":\"scatter\",\"xaxis\":\"x\",\"yaxis\":\"y\"},{\"hoverlabel\":{\"bgcolor\":\"white\",\"font\":{\"color\":\"#ff8366\",\"size\":16}},\"hovertemplate\":\"\\u003cb\\u003e%{hovertext}\\u003c\\u002fb\\u003e\",\"hovertext\":[\"Japan\"],\"mode\":\"text\",\"text\":[\"Jap\"],\"textfont\":{\"color\":\"#ff8366\",\"family\":\"Arial Black\",\"size\":14},\"textposition\":\"bottom center\",\"x\":[0.053600789473684185],\"y\":[0.08845947368421053],\"type\":\"scatter\",\"xaxis\":\"x\",\"yaxis\":\"y\"},{\"hoverlabel\":{\"bgcolor\":\"white\",\"font\":{\"color\":\"#ff8366\",\"size\":16}},\"hovertemplate\":\"\\u003cb\\u003e%{hovertext}\\u003c\\u002fb\\u003e\",\"hovertext\":[\"Kazakhstan\"],\"mode\":\"text\",\"text\":[\"Kaz\"],\"textfont\":{\"color\":\"#ff8366\",\"family\":\"Arial Black\",\"size\":14},\"textposition\":\"bottom center\",\"x\":[-0.024929210526315804],\"y\":[0.02604947368421051],\"type\":\"scatter\",\"xaxis\":\"x\",\"yaxis\":\"y\"},{\"hoverlabel\":{\"bgcolor\":\"white\",\"font\":{\"color\":\"#ff7f72\",\"size\":16}},\"hovertemplate\":\"\\u003cb\\u003e%{hovertext}\\u003c\\u002fb\\u003e\",\"hovertext\":[\"Poland\"],\"mode\":\"text\",\"text\":[\"Pol\"],\"textfont\":{\"color\":\"#ff7f72\",\"family\":\"Arial Black\",\"size\":14},\"textposition\":\"bottom center\",\"x\":[-0.08124921052631581],\"y\":[0.07274947368421053],\"type\":\"scatter\",\"xaxis\":\"x\",\"yaxis\":\"y\"},{\"hoverlabel\":{\"bgcolor\":\"white\",\"font\":{\"color\":\"#ff7f72\",\"size\":16}},\"hovertemplate\":\"\\u003cb\\u003e%{hovertext}\\u003c\\u002fb\\u003e\",\"hovertext\":[\"Lithuania\"],\"mode\":\"text\",\"text\":[\"Lit\"],\"textfont\":{\"color\":\"#ff7f72\",\"family\":\"Arial Black\",\"size\":14},\"textposition\":\"bottom center\",\"x\":[-0.11804921052631581],\"y\":[-0.18986052631578948],\"type\":\"scatter\",\"xaxis\":\"x\",\"yaxis\":\"y\"},{\"hoverlabel\":{\"bgcolor\":\"white\",\"font\":{\"color\":\"#ff7e74\",\"size\":16}},\"hovertemplate\":\"\\u003cb\\u003e%{hovertext}\\u003c\\u002fb\\u003e\",\"hovertext\":[\"Belarus\"],\"mode\":\"text\",\"text\":[\"Bel\"],\"textfont\":{\"color\":\"#ff7e74\",\"family\":\"Arial Black\",\"size\":14},\"textposition\":\"bottom center\",\"x\":[0.0383207894736842],\"y\":[-0.08824052631578949],\"type\":\"scatter\",\"xaxis\":\"x\",\"yaxis\":\"y\"},{\"hoverlabel\":{\"bgcolor\":\"white\",\"font\":{\"color\":\"#ff7d77\",\"size\":16}},\"hovertemplate\":\"\\u003cb\\u003e%{hovertext}\\u003c\\u002fb\\u003e\",\"hovertext\":[\"Slovenia\"],\"mode\":\"text\",\"text\":[\"Slo\"],\"textfont\":{\"color\":\"#ff7d77\",\"family\":\"Arial Black\",\"size\":14},\"textposition\":\"bottom center\",\"x\":[-0.09989921052631581],\"y\":[0.1524894736842105],\"type\":\"scatter\",\"xaxis\":\"x\",\"yaxis\":\"y\"},{\"hoverlabel\":{\"bgcolor\":\"white\",\"font\":{\"color\":\"#ff7c7a\",\"size\":16}},\"hovertemplate\":\"\\u003cb\\u003e%{hovertext}\\u003c\\u002fb\\u003e\",\"hovertext\":[\"Peru\"],\"mode\":\"text\",\"text\":[\"Per\"],\"textfont\":{\"color\":\"#ff7c7a\",\"family\":\"Arial Black\",\"size\":14},\"textposition\":\"bottom center\",\"x\":[-0.08332921052631581],\"y\":[-0.004130526315789473],\"type\":\"scatter\",\"xaxis\":\"x\",\"yaxis\":\"y\"},{\"hoverlabel\":{\"bgcolor\":\"white\",\"font\":{\"color\":\"#ff7888\",\"size\":16}},\"hovertemplate\":\"\\u003cb\\u003e%{hovertext}\\u003c\\u002fb\\u003e\",\"hovertext\":[\"Libya\"],\"mode\":\"text\",\"text\":[\"Lib\"],\"textfont\":{\"color\":\"#ff7888\",\"family\":\"Arial Black\",\"size\":14},\"textposition\":\"bottom center\",\"x\":[-0.03285921052631581],\"y\":[0.027569473684210533],\"type\":\"scatter\",\"xaxis\":\"x\",\"yaxis\":\"y\"},{\"hoverlabel\":{\"bgcolor\":\"white\",\"font\":{\"color\":\"#ff768e\",\"size\":16}},\"hovertemplate\":\"\\u003cb\\u003e%{hovertext}\\u003c\\u002fb\\u003e\",\"hovertext\":[\"Latvia\"],\"mode\":\"text\",\"text\":[\"Lat\"],\"textfont\":{\"color\":\"#ff768e\",\"family\":\"Arial Black\",\"size\":14},\"textposition\":\"bottom center\",\"x\":[-0.0473492105263158],\"y\":[-0.0991905263157895],\"type\":\"scatter\",\"xaxis\":\"x\",\"yaxis\":\"y\"},{\"hoverlabel\":{\"bgcolor\":\"white\",\"font\":{\"color\":\"#ff7591\",\"size\":16}},\"hovertemplate\":\"\\u003cb\\u003e%{hovertext}\\u003c\\u002fb\\u003e\",\"hovertext\":[\"Cyprus\"],\"mode\":\"text\",\"text\":[\"Cyp\"],\"textfont\":{\"color\":\"#ff7591\",\"family\":\"Arial Black\",\"size\":14},\"textposition\":\"bottom center\",\"x\":[-0.08396921052631581],\"y\":[-0.0840805263157895],\"type\":\"scatter\",\"xaxis\":\"x\",\"yaxis\":\"y\"},{\"hoverlabel\":{\"bgcolor\":\"white\",\"font\":{\"color\":\"#ff7591\",\"size\":16}},\"hovertemplate\":\"\\u003cb\\u003e%{hovertext}\\u003c\\u002fb\\u003e\",\"hovertext\":[\"Paraguay\"],\"mode\":\"text\",\"text\":[\"Par\"],\"textfont\":{\"color\":\"#ff7591\",\"family\":\"Arial Black\",\"size\":14},\"textposition\":\"bottom center\",\"x\":[-0.06228921052631581],\"y\":[0.08319947368421049],\"type\":\"scatter\",\"xaxis\":\"x\",\"yaxis\":\"y\"},{\"hoverlabel\":{\"bgcolor\":\"white\",\"font\":{\"color\":\"#ff7591\",\"size\":16}},\"hovertemplate\":\"\\u003cb\\u003e%{hovertext}\\u003c\\u002fb\\u003e\",\"hovertext\":[\"Romania\"],\"mode\":\"text\",\"text\":[\"Rom\"],\"textfont\":{\"color\":\"#ff7591\",\"family\":\"Arial Black\",\"size\":14},\"textposition\":\"bottom center\",\"x\":[-0.12945921052631582],\"y\":[-0.012030526315789491],\"type\":\"scatter\",\"xaxis\":\"x\",\"yaxis\":\"y\"},{\"hoverlabel\":{\"bgcolor\":\"white\",\"font\":{\"color\":\"#ff7494\",\"size\":16}},\"hovertemplate\":\"\\u003cb\\u003e%{hovertext}\\u003c\\u002fb\\u003e\",\"hovertext\":[\"Estonia\"],\"mode\":\"text\",\"text\":[\"Est\"],\"textfont\":{\"color\":\"#ff7494\",\"family\":\"Arial Black\",\"size\":14},\"textposition\":\"bottom center\",\"x\":[0.04894078947368419],\"y\":[0.035959473684210486],\"type\":\"scatter\",\"xaxis\":\"x\",\"yaxis\":\"y\"},{\"hoverlabel\":{\"bgcolor\":\"white\",\"font\":{\"color\":\"#ff7494\",\"size\":16}},\"hovertemplate\":\"\\u003cb\\u003e%{hovertext}\\u003c\\u002fb\\u003e\",\"hovertext\":[\"Jamaica\"],\"mode\":\"text\",\"text\":[\"Jam\"],\"textfont\":{\"color\":\"#ff7494\",\"family\":\"Arial Black\",\"size\":14},\"textposition\":\"bottom center\",\"x\":[-0.0933092105263158],\"y\":[0.05681947368421053],\"type\":\"scatter\",\"xaxis\":\"x\",\"yaxis\":\"y\"},{\"hoverlabel\":{\"bgcolor\":\"white\",\"font\":{\"color\":\"#ff7396\",\"size\":16}},\"hovertemplate\":\"\\u003cb\\u003e%{hovertext}\\u003c\\u002fb\\u003e\",\"hovertext\":[\"Croatia\"],\"mode\":\"text\",\"text\":[\"Cro\"],\"textfont\":{\"color\":\"#ff7396\",\"family\":\"Arial Black\",\"size\":14},\"textposition\":\"bottom center\",\"x\":[-0.0962292105263158],\"y\":[-0.1400805263157895],\"type\":\"scatter\",\"xaxis\":\"x\",\"yaxis\":\"y\"},{\"hoverlabel\":{\"bgcolor\":\"white\",\"font\":{\"color\":\"#ff6caa\",\"size\":16}},\"hovertemplate\":\"\\u003cb\\u003e%{hovertext}\\u003c\\u002fb\\u003e\",\"hovertext\":[\"Indonesia\"],\"mode\":\"text\",\"text\":[\"Ind\"],\"textfont\":{\"color\":\"#ff6caa\",\"family\":\"Arial Black\",\"size\":14},\"textposition\":\"bottom center\",\"x\":[-0.1330292105263158],\"y\":[0.013219473684210503],\"type\":\"scatter\",\"xaxis\":\"x\",\"yaxis\":\"y\"},{\"hoverlabel\":{\"bgcolor\":\"white\",\"font\":{\"color\":\"#ff6caa\",\"size\":16}},\"hovertemplate\":\"\\u003cb\\u003e%{hovertext}\\u003c\\u002fb\\u003e\",\"hovertext\":[\"Jordan\"],\"mode\":\"text\",\"text\":[\"Jor\"],\"textfont\":{\"color\":\"#ff6caa\",\"family\":\"Arial Black\",\"size\":14},\"textposition\":\"bottom center\",\"x\":[-0.003279210526315801],\"y\":[-0.0189205263157895],\"type\":\"scatter\",\"xaxis\":\"x\",\"yaxis\":\"y\"},{\"hoverlabel\":{\"bgcolor\":\"white\",\"font\":{\"color\":\"#ff6bad\",\"size\":16}},\"hovertemplate\":\"\\u003cb\\u003e%{hovertext}\\u003c\\u002fb\\u003e\",\"hovertext\":[\"Azerbaijan\"],\"mode\":\"text\",\"text\":[\"Aze\"],\"textfont\":{\"color\":\"#ff6bad\",\"family\":\"Arial Black\",\"size\":14},\"textposition\":\"bottom center\",\"x\":[0.04289078947368419],\"y\":[-0.02588052631578952],\"type\":\"scatter\",\"xaxis\":\"x\",\"yaxis\":\"y\"},{\"hoverlabel\":{\"bgcolor\":\"white\",\"font\":{\"color\":\"#ff6bad\",\"size\":16}},\"hovertemplate\":\"\\u003cb\\u003e%{hovertext}\\u003c\\u002fb\\u003e\",\"hovertext\":[\"Philippines\"],\"mode\":\"text\",\"text\":[\"Phi\"],\"textfont\":{\"color\":\"#ff6bad\",\"family\":\"Arial Black\",\"size\":14},\"textposition\":\"bottom center\",\"x\":[-0.018679210526315812],\"y\":[0.16938947368421053],\"type\":\"scatter\",\"xaxis\":\"x\",\"yaxis\":\"y\"},{\"hoverlabel\":{\"bgcolor\":\"white\",\"font\":{\"color\":\"#ff6ab0\",\"size\":16}},\"hovertemplate\":\"\\u003cb\\u003e%{hovertext}\\u003c\\u002fb\\u003e\",\"hovertext\":[\"China\"],\"mode\":\"text\",\"text\":[\"Chi\"],\"textfont\":{\"color\":\"#ff6ab0\",\"family\":\"Arial Black\",\"size\":14},\"textposition\":\"bottom center\",\"x\":[-0.1087992105263158],\"y\":[0.06096947368421052],\"type\":\"scatter\",\"xaxis\":\"x\",\"yaxis\":\"y\"},{\"hoverlabel\":{\"bgcolor\":\"white\",\"font\":{\"color\":\"#fc67b5\",\"size\":16}},\"hovertemplate\":\"\\u003cb\\u003e%{hovertext}\\u003c\\u002fb\\u003e\",\"hovertext\":[\"Kyrgyzstan\"],\"mode\":\"text\",\"text\":[\"Kyr\"],\"textfont\":{\"color\":\"#fc67b5\",\"family\":\"Arial Black\",\"size\":14},\"textposition\":\"bottom center\",\"x\":[-0.08862921052631581],\"y\":[0.022969473684210484],\"type\":\"scatter\",\"xaxis\":\"x\",\"yaxis\":\"y\"},{\"hoverlabel\":{\"bgcolor\":\"white\",\"font\":{\"color\":\"#fc67b5\",\"size\":16}},\"hovertemplate\":\"\\u003cb\\u003e%{hovertext}\\u003c\\u002fb\\u003e\",\"hovertext\":[\"Serbia\"],\"mode\":\"text\",\"text\":[\"Ser\"],\"textfont\":{\"color\":\"#fc67b5\",\"family\":\"Arial Black\",\"size\":14},\"textposition\":\"bottom center\",\"x\":[-0.09285921052631581],\"y\":[-0.2219705263157895],\"type\":\"scatter\",\"xaxis\":\"x\",\"yaxis\":\"y\"},{\"hoverlabel\":{\"bgcolor\":\"white\",\"font\":{\"color\":\"#fb65b5\",\"size\":16}},\"hovertemplate\":\"\\u003cb\\u003e%{hovertext}\\u003c\\u002fb\\u003e\",\"hovertext\":[\"Bosnia and Herzegovina\"],\"mode\":\"text\",\"text\":[\"Bos\"],\"textfont\":{\"color\":\"#fb65b5\",\"family\":\"Arial Black\",\"size\":14},\"textposition\":\"bottom center\",\"x\":[-0.1362492105263158],\"y\":[-0.28404052631578947],\"type\":\"scatter\",\"xaxis\":\"x\",\"yaxis\":\"y\"},{\"hoverlabel\":{\"bgcolor\":\"white\",\"font\":{\"color\":\"#fb65b5\",\"size\":16}},\"hovertemplate\":\"\\u003cb\\u003e%{hovertext}\\u003c\\u002fb\\u003e\",\"hovertext\":[\"Montenegro\"],\"mode\":\"text\",\"text\":[\"Mon\"],\"textfont\":{\"color\":\"#fb65b5\",\"family\":\"Arial Black\",\"size\":14},\"textposition\":\"bottom center\",\"x\":[-0.009039210526315816],\"y\":[-0.2280405263157895],\"type\":\"scatter\",\"xaxis\":\"x\",\"yaxis\":\"y\"},{\"hoverlabel\":{\"bgcolor\":\"white\",\"font\":{\"color\":\"#fb65b5\",\"size\":16}},\"hovertemplate\":\"\\u003cb\\u003e%{hovertext}\\u003c\\u002fb\\u003e\",\"hovertext\":[\"Dominican Republic\"],\"mode\":\"text\",\"text\":[\"Dom\"],\"textfont\":{\"color\":\"#fb65b5\",\"family\":\"Arial Black\",\"size\":14},\"textposition\":\"bottom center\",\"x\":[-0.01252921052631581],\"y\":[0.1434394736842105],\"type\":\"scatter\",\"xaxis\":\"x\",\"yaxis\":\"y\"},{\"hoverlabel\":{\"bgcolor\":\"white\",\"font\":{\"color\":\"#fb65b5\",\"size\":16}},\"hovertemplate\":\"\\u003cb\\u003e%{hovertext}\\u003c\\u002fb\\u003e\",\"hovertext\":[\"Morocco\"],\"mode\":\"text\",\"text\":[\"Mor\"],\"textfont\":{\"color\":\"#fb65b5\",\"family\":\"Arial Black\",\"size\":14},\"textposition\":\"bottom center\",\"x\":[-0.0522092105263158],\"y\":[-0.12269052631578947],\"type\":\"scatter\",\"xaxis\":\"x\",\"yaxis\":\"y\"},{\"hoverlabel\":{\"bgcolor\":\"white\",\"font\":{\"color\":\"#fb65b5\",\"size\":16}},\"hovertemplate\":\"\\u003cb\\u003e%{hovertext}\\u003c\\u002fb\\u003e\",\"hovertext\":[\"Hungary\"],\"mode\":\"text\",\"text\":[\"Hun\"],\"textfont\":{\"color\":\"#fb65b5\",\"family\":\"Arial Black\",\"size\":14},\"textposition\":\"bottom center\",\"x\":[-0.0915292105263158],\"y\":[-0.1814505263157895],\"type\":\"scatter\",\"xaxis\":\"x\",\"yaxis\":\"y\"},{\"hoverlabel\":{\"bgcolor\":\"white\",\"font\":{\"color\":\"#f963b6\",\"size\":16}},\"hovertemplate\":\"\\u003cb\\u003e%{hovertext}\\u003c\\u002fb\\u003e\",\"hovertext\":[\"Pakistan\"],\"mode\":\"text\",\"text\":[\"Pak\"],\"textfont\":{\"color\":\"#f963b6\",\"family\":\"Arial Black\",\"size\":14},\"textposition\":\"bottom center\",\"x\":[0.0025507894736842007],\"y\":[-0.2329305263157895],\"type\":\"scatter\",\"xaxis\":\"x\",\"yaxis\":\"y\"},{\"hoverlabel\":{\"bgcolor\":\"white\",\"font\":{\"color\":\"#f963b6\",\"size\":16}},\"hovertemplate\":\"\\u003cb\\u003e%{hovertext}\\u003c\\u002fb\\u003e\",\"hovertext\":[\"Lebanon\"],\"mode\":\"text\",\"text\":[\"Leb\"],\"textfont\":{\"color\":\"#f963b6\",\"family\":\"Arial Black\",\"size\":14},\"textposition\":\"bottom center\",\"x\":[-0.10563921052631581],\"y\":[-0.11687052631578948],\"type\":\"scatter\",\"xaxis\":\"x\",\"yaxis\":\"y\"},{\"hoverlabel\":{\"bgcolor\":\"white\",\"font\":{\"color\":\"#f963b6\",\"size\":16}},\"hovertemplate\":\"\\u003cb\\u003e%{hovertext}\\u003c\\u002fb\\u003e\",\"hovertext\":[\"Portugal\"],\"mode\":\"text\",\"text\":[\"Por\"],\"textfont\":{\"color\":\"#f963b6\",\"family\":\"Arial Black\",\"size\":14},\"textposition\":\"bottom center\",\"x\":[-0.1210392105263158],\"y\":[0.06811947368421051],\"type\":\"scatter\",\"xaxis\":\"x\",\"yaxis\":\"y\"},{\"hoverlabel\":{\"bgcolor\":\"white\",\"font\":{\"color\":\"#f660b7\",\"size\":16}},\"hovertemplate\":\"\\u003cb\\u003e%{hovertext}\\u003c\\u002fb\\u003e\",\"hovertext\":[\"Vietnam\"],\"mode\":\"text\",\"text\":[\"Vie\"],\"textfont\":{\"color\":\"#f660b7\",\"family\":\"Arial Black\",\"size\":14},\"textposition\":\"bottom center\",\"x\":[-0.02068921052631581],\"y\":[0.18038947368421054],\"type\":\"scatter\",\"xaxis\":\"x\",\"yaxis\":\"y\"},{\"hoverlabel\":{\"bgcolor\":\"white\",\"font\":{\"color\":\"#f45eb7\",\"size\":16}},\"hovertemplate\":\"\\u003cb\\u003e%{hovertext}\\u003c\\u002fb\\u003e\",\"hovertext\":[\"Tunisia\"],\"mode\":\"text\",\"text\":[\"Tun\"],\"textfont\":{\"color\":\"#f45eb7\",\"family\":\"Arial Black\",\"size\":14},\"textposition\":\"bottom center\",\"x\":[-0.05454921052631581],\"y\":[-0.1436205263157895],\"type\":\"scatter\",\"xaxis\":\"x\",\"yaxis\":\"y\"},{\"hoverlabel\":{\"bgcolor\":\"white\",\"font\":{\"color\":\"#f25db8\",\"size\":16}},\"hovertemplate\":\"\\u003cb\\u003e%{hovertext}\\u003c\\u002fb\\u003e\",\"hovertext\":[\"Greece\"],\"mode\":\"text\",\"text\":[\"Gre\"],\"textfont\":{\"color\":\"#f25db8\",\"family\":\"Arial Black\",\"size\":14},\"textposition\":\"bottom center\",\"x\":[-0.0949792105263158],\"y\":[-0.3209305263157895],\"type\":\"scatter\",\"xaxis\":\"x\",\"yaxis\":\"y\"},{\"hoverlabel\":{\"bgcolor\":\"white\",\"font\":{\"color\":\"#ec56ba\",\"size\":16}},\"hovertemplate\":\"\\u003cb\\u003e%{hovertext}\\u003c\\u002fb\\u003e\",\"hovertext\":[\"Mongolia\"],\"mode\":\"text\",\"text\":[\"Mon\"],\"textfont\":{\"color\":\"#ec56ba\",\"family\":\"Arial Black\",\"size\":14},\"textposition\":\"bottom center\",\"x\":[-0.10339921052631582],\"y\":[-0.01943052631578951],\"type\":\"scatter\",\"xaxis\":\"x\",\"yaxis\":\"y\"},{\"hoverlabel\":{\"bgcolor\":\"white\",\"font\":{\"color\":\"#e853bb\",\"size\":16}},\"hovertemplate\":\"\\u003cb\\u003e%{hovertext}\\u003c\\u002fb\\u003e\",\"hovertext\":[\"Nigeria\"],\"mode\":\"text\",\"text\":[\"Nig\"],\"textfont\":{\"color\":\"#e853bb\",\"family\":\"Arial Black\",\"size\":14},\"textposition\":\"bottom center\",\"x\":[-0.1057492105263158],\"y\":[-0.10061052631578948],\"type\":\"scatter\",\"xaxis\":\"x\",\"yaxis\":\"y\"},{\"hoverlabel\":{\"bgcolor\":\"white\",\"font\":{\"color\":\"#e853bb\",\"size\":16}},\"hovertemplate\":\"\\u003cb\\u003e%{hovertext}\\u003c\\u002fb\\u003e\",\"hovertext\":[\"Honduras\"],\"mode\":\"text\",\"text\":[\"Hon\"],\"textfont\":{\"color\":\"#e853bb\",\"family\":\"Arial Black\",\"size\":14},\"textposition\":\"bottom center\",\"x\":[-0.06718921052631581],\"y\":[-0.11160052631578948],\"type\":\"scatter\",\"xaxis\":\"x\",\"yaxis\":\"y\"},{\"hoverlabel\":{\"bgcolor\":\"white\",\"font\":{\"color\":\"#e34ebc\",\"size\":16}},\"hovertemplate\":\"\\u003cb\\u003e%{hovertext}\\u003c\\u002fb\\u003e\",\"hovertext\":[\"Zambia\"],\"mode\":\"text\",\"text\":[\"Zam\"],\"textfont\":{\"color\":\"#e34ebc\",\"family\":\"Arial Black\",\"size\":14},\"textposition\":\"bottom center\",\"x\":[-0.021459210526315803],\"y\":[0.047469473684210506],\"type\":\"scatter\",\"xaxis\":\"x\",\"yaxis\":\"y\"},{\"hoverlabel\":{\"bgcolor\":\"white\",\"font\":{\"color\":\"#e34ebc\",\"size\":16}},\"hovertemplate\":\"\\u003cb\\u003e%{hovertext}\\u003c\\u002fb\\u003e\",\"hovertext\":[\"Nepal\"],\"mode\":\"text\",\"text\":[\"Nep\"],\"textfont\":{\"color\":\"#e34ebc\",\"family\":\"Arial Black\",\"size\":14},\"textposition\":\"bottom center\",\"x\":[-0.0661692105263158],\"y\":[-0.009030526315789489],\"type\":\"scatter\",\"xaxis\":\"x\",\"yaxis\":\"y\"},{\"hoverlabel\":{\"bgcolor\":\"white\",\"font\":{\"color\":\"#db46be\",\"size\":16}},\"hovertemplate\":\"\\u003cb\\u003e%{hovertext}\\u003c\\u002fb\\u003e\",\"hovertext\":[\"Albania\"],\"mode\":\"text\",\"text\":[\"Alb\"],\"textfont\":{\"color\":\"#db46be\",\"family\":\"Arial Black\",\"size\":14},\"textposition\":\"bottom center\",\"x\":[-0.0832392105263158],\"y\":[-0.060490526315789495],\"type\":\"scatter\",\"xaxis\":\"x\",\"yaxis\":\"y\"},{\"hoverlabel\":{\"bgcolor\":\"white\",\"font\":{\"color\":\"#d944bf\",\"size\":16}},\"hovertemplate\":\"\\u003cb\\u003e%{hovertext}\\u003c\\u002fb\\u003e\",\"hovertext\":[\"Bangladesh\"],\"mode\":\"text\",\"text\":[\"Ban\"],\"textfont\":{\"color\":\"#d944bf\",\"family\":\"Arial Black\",\"size\":14},\"textposition\":\"bottom center\",\"x\":[-0.010419210526315809],\"y\":[0.01862947368421053],\"type\":\"scatter\",\"xaxis\":\"x\",\"yaxis\":\"y\"},{\"hoverlabel\":{\"bgcolor\":\"white\",\"font\":{\"color\":\"#d944bf\",\"size\":16}},\"hovertemplate\":\"\\u003cb\\u003e%{hovertext}\\u003c\\u002fb\\u003e\",\"hovertext\":[\"Sierra Leone\"],\"mode\":\"text\",\"text\":[\"Sie\"],\"textfont\":{\"color\":\"#d944bf\",\"family\":\"Arial Black\",\"size\":14},\"textposition\":\"bottom center\",\"x\":[-0.0542892105263158],\"y\":[-0.07230052631578948],\"type\":\"scatter\",\"xaxis\":\"x\",\"yaxis\":\"y\"},{\"hoverlabel\":{\"bgcolor\":\"white\",\"font\":{\"color\":\"#d641c0\",\"size\":16}},\"hovertemplate\":\"\\u003cb\\u003e%{hovertext}\\u003c\\u002fb\\u003e\",\"hovertext\":[\"Iraq\"],\"mode\":\"text\",\"text\":[\"Ira\"],\"textfont\":{\"color\":\"#d641c0\",\"family\":\"Arial Black\",\"size\":14},\"textposition\":\"bottom center\",\"x\":[0.000110789473684203],\"y\":[-0.1305905263157895],\"type\":\"scatter\",\"xaxis\":\"x\",\"yaxis\":\"y\"},{\"hoverlabel\":{\"bgcolor\":\"white\",\"font\":{\"color\":\"#d13cc1\",\"size\":16}},\"hovertemplate\":\"\\u003cb\\u003e%{hovertext}\\u003c\\u002fb\\u003e\",\"hovertext\":[\"Cameroon\"],\"mode\":\"text\",\"text\":[\"Cam\"],\"textfont\":{\"color\":\"#d13cc1\",\"family\":\"Arial Black\",\"size\":14},\"textposition\":\"bottom center\",\"x\":[-0.0749892105263158],\"y\":[0.048209473684210524],\"type\":\"scatter\",\"xaxis\":\"x\",\"yaxis\":\"y\"},{\"hoverlabel\":{\"bgcolor\":\"white\",\"font\":{\"color\":\"#d13cc1\",\"size\":16}},\"hovertemplate\":\"\\u003cb\\u003e%{hovertext}\\u003c\\u002fb\\u003e\",\"hovertext\":[\"Ethiopia\"],\"mode\":\"text\",\"text\":[\"Eth\"],\"textfont\":{\"color\":\"#d13cc1\",\"family\":\"Arial Black\",\"size\":14},\"textposition\":\"bottom center\",\"x\":[0.035450789473684186],\"y\":[-0.01212052631578947],\"type\":\"scatter\",\"xaxis\":\"x\",\"yaxis\":\"y\"},{\"hoverlabel\":{\"bgcolor\":\"white\",\"font\":{\"color\":\"#cd38c2\",\"size\":16}},\"hovertemplate\":\"\\u003cb\\u003e%{hovertext}\\u003c\\u002fb\\u003e\",\"hovertext\":[\"South Africa\"],\"mode\":\"text\",\"text\":[\"Sou\"],\"textfont\":{\"color\":\"#cd38c2\",\"family\":\"Arial Black\",\"size\":14},\"textposition\":\"bottom center\",\"x\":[-0.0520992105263158],\"y\":[0.04567947368421049],\"type\":\"scatter\",\"xaxis\":\"x\",\"yaxis\":\"y\"},{\"hoverlabel\":{\"bgcolor\":\"white\",\"font\":{\"color\":\"#cc37c3\",\"size\":16}},\"hovertemplate\":\"\\u003cb\\u003e%{hovertext}\\u003c\\u002fb\\u003e\",\"hovertext\":[\"Sri Lanka\"],\"mode\":\"text\",\"text\":[\"Sri\"],\"textfont\":{\"color\":\"#cc37c3\",\"family\":\"Arial Black\",\"size\":14},\"textposition\":\"bottom center\",\"x\":[-0.056609210526315804],\"y\":[0.12901947368421052],\"type\":\"scatter\",\"xaxis\":\"x\",\"yaxis\":\"y\"},{\"hoverlabel\":{\"bgcolor\":\"white\",\"font\":{\"color\":\"#ca35c3\",\"size\":16}},\"hovertemplate\":\"\\u003cb\\u003e%{hovertext}\\u003c\\u002fb\\u003e\",\"hovertext\":[\"India\"],\"mode\":\"text\",\"text\":[\"Ind\"],\"textfont\":{\"color\":\"#ca35c3\",\"family\":\"Arial Black\",\"size\":14},\"textposition\":\"bottom center\",\"x\":[-0.0490292105263158],\"y\":[0.023699473684210492],\"type\":\"scatter\",\"xaxis\":\"x\",\"yaxis\":\"y\"},{\"hoverlabel\":{\"bgcolor\":\"white\",\"font\":{\"color\":\"#c732c4\",\"size\":16}},\"hovertemplate\":\"\\u003cb\\u003e%{hovertext}\\u003c\\u002fb\\u003e\",\"hovertext\":[\"Egypt\"],\"mode\":\"text\",\"text\":[\"Egy\"],\"textfont\":{\"color\":\"#c732c4\",\"family\":\"Arial Black\",\"size\":14},\"textposition\":\"bottom center\",\"x\":[-0.03231921052631581],\"y\":[-0.1906805263157895],\"type\":\"scatter\",\"xaxis\":\"x\",\"yaxis\":\"y\"},{\"hoverlabel\":{\"bgcolor\":\"white\",\"font\":{\"color\":\"#c732c4\",\"size\":16}},\"hovertemplate\":\"\\u003cb\\u003e%{hovertext}\\u003c\\u002fb\\u003e\",\"hovertext\":[\"Armenia\"],\"mode\":\"text\",\"text\":[\"Arm\"],\"textfont\":{\"color\":\"#c732c4\",\"family\":\"Arial Black\",\"size\":14},\"textposition\":\"bottom center\",\"x\":[-0.10008921052631581],\"y\":[-0.2387805263157895],\"type\":\"scatter\",\"xaxis\":\"x\",\"yaxis\":\"y\"},{\"hoverlabel\":{\"bgcolor\":\"white\",\"font\":{\"color\":\"#c732c4\",\"size\":16}},\"hovertemplate\":\"\\u003cb\\u003e%{hovertext}\\u003c\\u002fb\\u003e\",\"hovertext\":[\"Kenya\"],\"mode\":\"text\",\"text\":[\"Ken\"],\"textfont\":{\"color\":\"#c732c4\",\"family\":\"Arial Black\",\"size\":14},\"textposition\":\"bottom center\",\"x\":[-0.0693892105263158],\"y\":[0.026609473684210516],\"type\":\"scatter\",\"xaxis\":\"x\",\"yaxis\":\"y\"},{\"hoverlabel\":{\"bgcolor\":\"white\",\"font\":{\"color\":\"#c530c5\",\"size\":16}},\"hovertemplate\":\"\\u003cb\\u003e%{hovertext}\\u003c\\u002fb\\u003e\",\"hovertext\":[\"Ukraine\"],\"mode\":\"text\",\"text\":[\"Ukr\"],\"textfont\":{\"color\":\"#c530c5\",\"family\":\"Arial Black\",\"size\":14},\"textposition\":\"bottom center\",\"x\":[-0.1179592105263158],\"y\":[-0.2505605263157895],\"type\":\"scatter\",\"xaxis\":\"x\",\"yaxis\":\"y\"},{\"hoverlabel\":{\"bgcolor\":\"white\",\"font\":{\"color\":\"#c22dc6\",\"size\":16}},\"hovertemplate\":\"\\u003cb\\u003e%{hovertext}\\u003c\\u002fb\\u003e\",\"hovertext\":[\"Ghana\"],\"mode\":\"text\",\"text\":[\"Gha\"],\"textfont\":{\"color\":\"#c22dc6\",\"family\":\"Arial Black\",\"size\":14},\"textposition\":\"bottom center\",\"x\":[-0.10364921052631582],\"y\":[0.03057947368421049],\"type\":\"scatter\",\"xaxis\":\"x\",\"yaxis\":\"y\"},{\"hoverlabel\":{\"bgcolor\":\"white\",\"font\":{\"color\":\"#c02bc6\",\"size\":16}},\"hovertemplate\":\"\\u003cb\\u003e%{hovertext}\\u003c\\u002fb\\u003e\",\"hovertext\":[\"Georgia\"],\"mode\":\"text\",\"text\":[\"Geo\"],\"textfont\":{\"color\":\"#c02bc6\",\"family\":\"Arial Black\",\"size\":14},\"textposition\":\"bottom center\",\"x\":[0.18255078947368417],\"y\":[-0.054540526315789484],\"type\":\"scatter\",\"xaxis\":\"x\",\"yaxis\":\"y\"},{\"hoverlabel\":{\"bgcolor\":\"white\",\"font\":{\"color\":\"#be2ac7\",\"size\":16}},\"hovertemplate\":\"\\u003cb\\u003e%{hovertext}\\u003c\\u002fb\\u003e\",\"hovertext\":[\"Senegal\"],\"mode\":\"text\",\"text\":[\"Sen\"],\"textfont\":{\"color\":\"#be2ac7\",\"family\":\"Arial Black\",\"size\":14},\"textposition\":\"bottom center\",\"x\":[-0.01943921052631581],\"y\":[-0.06859052631578949],\"type\":\"scatter\",\"xaxis\":\"x\",\"yaxis\":\"y\"},{\"hoverlabel\":{\"bgcolor\":\"white\",\"font\":{\"color\":\"#be2ac7\",\"size\":16}},\"hovertemplate\":\"\\u003cb\\u003e%{hovertext}\\u003c\\u002fb\\u003e\",\"hovertext\":[\"Bulgaria\"],\"mode\":\"text\",\"text\":[\"Bul\"],\"textfont\":{\"color\":\"#be2ac7\",\"family\":\"Arial Black\",\"size\":14},\"textposition\":\"bottom center\",\"x\":[-0.13009921052631582],\"y\":[-0.1669605263157895],\"type\":\"scatter\",\"xaxis\":\"x\",\"yaxis\":\"y\"},{\"hoverlabel\":{\"bgcolor\":\"white\",\"font\":{\"color\":\"#bd28c7\",\"size\":16}},\"hovertemplate\":\"\\u003cb\\u003e%{hovertext}\\u003c\\u002fb\\u003e\",\"hovertext\":[\"Mauritania\"],\"mode\":\"text\",\"text\":[\"Mau\"],\"textfont\":{\"color\":\"#bd28c7\",\"family\":\"Arial Black\",\"size\":14},\"textposition\":\"bottom center\",\"x\":[0.04330078947368418],\"y\":[-0.25235052631578947],\"type\":\"scatter\",\"xaxis\":\"x\",\"yaxis\":\"y\"},{\"hoverlabel\":{\"bgcolor\":\"white\",\"font\":{\"color\":\"#bd28c7\",\"size\":16}},\"hovertemplate\":\"\\u003cb\\u003e%{hovertext}\\u003c\\u002fb\\u003e\",\"hovertext\":[\"Zimbabwe\"],\"mode\":\"text\",\"text\":[\"Zim\"],\"textfont\":{\"color\":\"#bd28c7\",\"family\":\"Arial Black\",\"size\":14},\"textposition\":\"bottom center\",\"x\":[-0.05042921052631581],\"y\":[-0.12486052631578948],\"type\":\"scatter\",\"xaxis\":\"x\",\"yaxis\":\"y\"},{\"hoverlabel\":{\"bgcolor\":\"white\",\"font\":{\"color\":\"#b823c9\",\"size\":16}},\"hovertemplate\":\"\\u003cb\\u003e%{hovertext}\\u003c\\u002fb\\u003e\",\"hovertext\":[\"Gabon\"],\"mode\":\"text\",\"text\":[\"Gab\"],\"textfont\":{\"color\":\"#b823c9\",\"family\":\"Arial Black\",\"size\":14},\"textposition\":\"bottom center\",\"x\":[-0.043109210526315805],\"y\":[-0.09817052631578949],\"type\":\"scatter\",\"xaxis\":\"x\",\"yaxis\":\"y\"},{\"hoverlabel\":{\"bgcolor\":\"white\",\"font\":{\"color\":\"#b420ca\",\"size\":16}},\"hovertemplate\":\"\\u003cb\\u003e%{hovertext}\\u003c\\u002fb\\u003e\",\"hovertext\":[\"Mali\"],\"mode\":\"text\",\"text\":[\"Mal\"],\"textfont\":{\"color\":\"#b420ca\",\"family\":\"Arial Black\",\"size\":14},\"textposition\":\"bottom center\",\"x\":[0.000220789473684202],\"y\":[-0.10371052631578948],\"type\":\"scatter\",\"xaxis\":\"x\",\"yaxis\":\"y\"},{\"hoverlabel\":{\"bgcolor\":\"white\",\"font\":{\"color\":\"#b31eca\",\"size\":16}},\"hovertemplate\":\"\\u003cb\\u003e%{hovertext}\\u003c\\u002fb\\u003e\",\"hovertext\":[\"Haiti\"],\"mode\":\"text\",\"text\":[\"Hai\"],\"textfont\":{\"color\":\"#b31eca\",\"family\":\"Arial Black\",\"size\":14},\"textposition\":\"bottom center\",\"x\":[0.008510789473684194],\"y\":[-0.2584305263157895],\"type\":\"scatter\",\"xaxis\":\"x\",\"yaxis\":\"y\"},{\"hoverlabel\":{\"bgcolor\":\"white\",\"font\":{\"color\":\"#ae19cc\",\"size\":16}},\"hovertemplate\":\"\\u003cb\\u003e%{hovertext}\\u003c\\u002fb\\u003e\",\"hovertext\":[\"Botswana\"],\"mode\":\"text\",\"text\":[\"Bot\"],\"textfont\":{\"color\":\"#ae19cc\",\"family\":\"Arial Black\",\"size\":14},\"textposition\":\"bottom center\",\"x\":[-0.028559210526315812],\"y\":[0.06173947368421051],\"type\":\"scatter\",\"xaxis\":\"x\",\"yaxis\":\"y\"},{\"hoverlabel\":{\"bgcolor\":\"white\",\"font\":{\"color\":\"#aa16cd\",\"size\":16}},\"hovertemplate\":\"\\u003cb\\u003e%{hovertext}\\u003c\\u002fb\\u003e\",\"hovertext\":[\"Cambodia\"],\"mode\":\"text\",\"text\":[\"Cam\"],\"textfont\":{\"color\":\"#aa16cd\",\"family\":\"Arial Black\",\"size\":14},\"textposition\":\"bottom center\",\"x\":[-0.0553292105263158],\"y\":[0.20936947368421055],\"type\":\"scatter\",\"xaxis\":\"x\",\"yaxis\":\"y\"},{\"hoverlabel\":{\"bgcolor\":\"white\",\"font\":{\"color\":\"#a713ce\",\"size\":16}},\"hovertemplate\":\"\\u003cb\\u003e%{hovertext}\\u003c\\u002fb\\u003e\",\"hovertext\":[\"Niger\"],\"mode\":\"text\",\"text\":[\"Nig\"],\"textfont\":{\"color\":\"#a713ce\",\"family\":\"Arial Black\",\"size\":14},\"textposition\":\"bottom center\",\"x\":[0.03551078947368419],\"y\":[0.0012594736842105325],\"type\":\"scatter\",\"xaxis\":\"x\",\"yaxis\":\"y\"},{\"hoverlabel\":{\"bgcolor\":\"white\",\"font\":{\"color\":\"#a00ccf\",\"size\":16}},\"hovertemplate\":\"\\u003cb\\u003e%{hovertext}\\u003c\\u002fb\\u003e\",\"hovertext\":[\"Chad\"],\"mode\":\"text\",\"text\":[\"Cha\"],\"textfont\":{\"color\":\"#a00ccf\",\"family\":\"Arial Black\",\"size\":14},\"textposition\":\"bottom center\",\"x\":[-0.0867292105263158],\"y\":[-0.2510805263157895],\"type\":\"scatter\",\"xaxis\":\"x\",\"yaxis\":\"y\"},{\"hoverlabel\":{\"bgcolor\":\"white\",\"font\":{\"color\":\"#9e0ad0\",\"size\":16}},\"hovertemplate\":\"\\u003cb\\u003e%{hovertext}\\u003c\\u002fb\\u003e\",\"hovertext\":[\"Burkina Faso\"],\"mode\":\"text\",\"text\":[\"Bur\"],\"textfont\":{\"color\":\"#9e0ad0\",\"family\":\"Arial Black\",\"size\":14},\"textposition\":\"bottom center\",\"x\":[-0.010919210526315809],\"y\":[-0.0454505263157895],\"type\":\"scatter\",\"xaxis\":\"x\",\"yaxis\":\"y\"},{\"hoverlabel\":{\"bgcolor\":\"white\",\"font\":{\"color\":\"#9e0ad0\",\"size\":16}},\"hovertemplate\":\"\\u003cb\\u003e%{hovertext}\\u003c\\u002fb\\u003e\",\"hovertext\":[\"Uganda\"],\"mode\":\"text\",\"text\":[\"Uga\"],\"textfont\":{\"color\":\"#9e0ad0\",\"family\":\"Arial Black\",\"size\":14},\"textposition\":\"bottom center\",\"x\":[-0.0718292105263158],\"y\":[0.05737947368421048],\"type\":\"scatter\",\"xaxis\":\"x\",\"yaxis\":\"y\"},{\"hoverlabel\":{\"bgcolor\":\"white\",\"font\":{\"color\":\"#9d09d0\",\"size\":16}},\"hovertemplate\":\"\\u003cb\\u003e%{hovertext}\\u003c\\u002fb\\u003e\",\"hovertext\":[\"Madagascar\"],\"mode\":\"text\",\"text\":[\"Mad\"],\"textfont\":{\"color\":\"#9d09d0\",\"family\":\"Arial Black\",\"size\":14},\"textposition\":\"bottom center\",\"x\":[-0.061189210526315804],\"y\":[-0.2423105263157895],\"type\":\"scatter\",\"xaxis\":\"x\",\"yaxis\":\"y\"},{\"hoverlabel\":{\"bgcolor\":\"white\",\"font\":{\"color\":\"#9804d2\",\"size\":16}},\"hovertemplate\":\"\\u003cb\\u003e%{hovertext}\\u003c\\u002fb\\u003e\",\"hovertext\":[\"Liberia\"],\"mode\":\"text\",\"text\":[\"Lib\"],\"textfont\":{\"color\":\"#9804d2\",\"family\":\"Arial Black\",\"size\":14},\"textposition\":\"bottom center\",\"x\":[-0.0877292105263158],\"y\":[-0.1216705263157895],\"type\":\"scatter\",\"xaxis\":\"x\",\"yaxis\":\"y\"},{\"hoverlabel\":{\"bgcolor\":\"white\",\"font\":{\"color\":\"#9602d2\",\"size\":16}},\"hovertemplate\":\"\\u003cb\\u003e%{hovertext}\\u003c\\u002fb\\u003e\",\"hovertext\":[\"Guinea\"],\"mode\":\"text\",\"text\":[\"Gui\"],\"textfont\":{\"color\":\"#9602d2\",\"family\":\"Arial Black\",\"size\":14},\"textposition\":\"bottom center\",\"x\":[-0.017049210526315806],\"y\":[-0.06962052631578947],\"type\":\"scatter\",\"xaxis\":\"x\",\"yaxis\":\"y\"},{\"hoverlabel\":{\"bgcolor\":\"white\",\"font\":{\"color\":\"#9000d4\",\"size\":16}},\"hovertemplate\":\"\\u003cb\\u003e%{hovertext}\\u003c\\u002fb\\u003e\",\"hovertext\":[\"Rwanda\"],\"mode\":\"text\",\"text\":[\"Rwa\"],\"textfont\":{\"color\":\"#9000d4\",\"family\":\"Arial Black\",\"size\":14},\"textposition\":\"bottom center\",\"x\":[0.36896078947368427],\"y\":[0.16404947368421052],\"type\":\"scatter\",\"xaxis\":\"x\",\"yaxis\":\"y\"},{\"hoverlabel\":{\"bgcolor\":\"white\",\"font\":{\"color\":\"#8e00d5\",\"size\":16}},\"hovertemplate\":\"\\u003cb\\u003e%{hovertext}\\u003c\\u002fb\\u003e\",\"hovertext\":[\"Benin\"],\"mode\":\"text\",\"text\":[\"Ben\"],\"textfont\":{\"color\":\"#8e00d5\",\"family\":\"Arial Black\",\"size\":14},\"textposition\":\"bottom center\",\"x\":[-0.06943921052631581],\"y\":[0.018319473684210497],\"type\":\"scatter\",\"xaxis\":\"x\",\"yaxis\":\"y\"},{\"hoverlabel\":{\"bgcolor\":\"white\",\"font\":{\"color\":\"#8200d8\",\"size\":16}},\"hovertemplate\":\"\\u003cb\\u003e%{hovertext}\\u003c\\u002fb\\u003e\",\"hovertext\":[\"Afghanistan\"],\"mode\":\"text\",\"text\":[\"Afg\"],\"textfont\":{\"color\":\"#8200d8\",\"family\":\"Arial Black\",\"size\":14},\"textposition\":\"bottom center\",\"x\":[-0.0651292105263158],\"y\":[-0.2148505263157895],\"type\":\"scatter\",\"xaxis\":\"x\",\"yaxis\":\"y\"},{\"hoverlabel\":{\"bgcolor\":\"white\",\"font\":{\"color\":\"#7d00da\",\"size\":16}},\"hovertemplate\":\"\\u003cb\\u003e%{hovertext}\\u003c\\u002fb\\u003e\",\"hovertext\":[\"Togo\"],\"mode\":\"text\",\"text\":[\"Tog\"],\"textfont\":{\"color\":\"#7d00da\",\"family\":\"Arial Black\",\"size\":14},\"textposition\":\"bottom center\",\"x\":[-0.020379210526315805],\"y\":[-0.032370526315789516],\"type\":\"scatter\",\"xaxis\":\"x\",\"yaxis\":\"y\"},{\"hoverlabel\":{\"bgcolor\":\"white\",\"font\":{\"color\":\"#5800e5\",\"size\":16}},\"hovertemplate\":\"\\u003cb\\u003e%{hovertext}\\u003c\\u002fb\\u003e\",\"hovertext\":[\"Burundi\"],\"mode\":\"text\",\"text\":[\"Bur\"],\"textfont\":{\"color\":\"#5800e5\",\"family\":\"Arial Black\",\"size\":14},\"textposition\":\"bottom center\",\"x\":[-0.04205921052631581],\"y\":[-0.3359505263157895],\"type\":\"scatter\",\"xaxis\":\"x\",\"yaxis\":\"y\"},{\"hoverlabel\":{\"bgcolor\":\"white\",\"font\":{\"color\":\"#5800e5\",\"size\":16}},\"hovertemplate\":\"\\u003cb\\u003e%{hovertext}\\u003c\\u002fb\\u003e\",\"marker\":{\"color\":[\"#ffc900\",\"#ffc800\",\"#ffc800\",\"#ffc800\",\"#ffc200\",\"#ffc200\",\"#ffbf00\",\"#ffbe00\",\"#ffbd00\",\"#ffbb00\",\"#ffb300\",\"#ffb100\",\"#ffac00\",\"#ffaa00\",\"#ffa900\",\"#ffa700\",\"#ffa600\",\"#ffa209\",\"#ffa00f\",\"#ff9f12\",\"#ff9f12\",\"#ff9d17\",\"#ff9a20\",\"#ff9923\",\"#ff9828\",\"#ff972b\",\"#ff972b\",\"#ff972b\",\"#ff9336\",\"#ff9336\",\"#ff913c\",\"#ff8e44\",\"#ff8d47\",\"#ff8955\",\"#ff8858\",\"#ff865e\",\"#ff865e\",\"#ff8561\",\"#ff8561\",\"#ff8561\",\"#ff8366\",\"#ff8366\",\"#ff7f72\",\"#ff7f72\",\"#ff7e74\",\"#ff7d77\",\"#ff7c7a\",\"#ff7888\",\"#ff768e\",\"#ff7591\",\"#ff7591\",\"#ff7591\",\"#ff7494\",\"#ff7494\",\"#ff7396\",\"#ff6caa\",\"#ff6caa\",\"#ff6bad\",\"#ff6bad\",\"#ff6ab0\",\"#fc67b5\",\"#fc67b5\",\"#fb65b5\",\"#fb65b5\",\"#fb65b5\",\"#fb65b5\",\"#fb65b5\",\"#f963b6\",\"#f963b6\",\"#f963b6\",\"#f660b7\",\"#f45eb7\",\"#f25db8\",\"#ec56ba\",\"#e853bb\",\"#e853bb\",\"#e34ebc\",\"#e34ebc\",\"#db46be\",\"#d944bf\",\"#d944bf\",\"#d641c0\",\"#d13cc1\",\"#d13cc1\",\"#cd38c2\",\"#cc37c3\",\"#ca35c3\",\"#c732c4\",\"#c732c4\",\"#c732c4\",\"#c530c5\",\"#c22dc6\",\"#c02bc6\",\"#be2ac7\",\"#be2ac7\",\"#bd28c7\",\"#bd28c7\",\"#b823c9\",\"#b420ca\",\"#b31eca\",\"#ae19cc\",\"#aa16cd\",\"#a713ce\",\"#a00ccf\",\"#9e0ad0\",\"#9e0ad0\",\"#9d09d0\",\"#9804d2\",\"#9602d2\",\"#9000d4\",\"#8e00d5\",\"#8200d8\",\"#7d00da\",\"#5800e5\"]},\"mode\":\"markers\",\"showlegend\":false,\"x\":[0.44453,0.41203,0.14975,0.35776,0.41004,0.31329,0.29927,0.41904,0.40867,0.08728,0.21348,0.10547,0.28551,0.14166,0.26248,0.29754,0.35329,0.18355,0.46987,0.11451,0.08423,0.07296,0.35561,0.21394,0.17554,0.05399,0.17808,0.02833,0.30008,0.06137,0.08701,0.23669,0.25772,0.02947,0.10613,0.09081,0.16292,0.28333,0.02556,0.18037,0.18985,0.11132,0.055,0.0182,0.17457,0.03635,0.05292,0.10339,0.0889,0.05228,0.07396,0.00679,0.18519,0.04294,0.04002,0.00322,0.13297,0.17914,0.11757,0.02745,0.04762,0.04339,0.0,0.12721,0.12372,0.08404,0.04472,0.1388,0.03061,0.01521,0.11556,0.0817,0.04127,0.03285,0.0305,0.06906,0.11479,0.07008,0.05301,0.12583,0.08196,0.13636,0.06126,0.1717,0.08415,0.07964,0.08722,0.10393,0.03616,0.06686,0.01829,0.0326,0.3188,0.11681,0.00615,0.17955,0.08582,0.09314,0.13647,0.14476,0.10769,0.08092,0.17176,0.04952,0.12533,0.06442,0.07506,0.04852,0.1192,0.50521,0.06681,0.07112,0.11587,0.09419],\"y\":[0.57941,0.58557,0.56624,0.59609,0.57104,0.5737,0.55211,0.58147,0.58218,0.36432,0.54355,0.55225,0.53466,0.40425,0.51354,0.54008,0.5487,0.37709,0.4877,0.37789,0.48927,0.42284,0.56215,0.54388,0.54994,0.44735,0.46562,0.49553,0.37904,0.37545,0.50379,0.43166,0.47375,0.23391,0.37269,0.39031,0.46582,0.60848,0.18827,0.4027,0.46761,0.4052,0.4519,0.18929,0.29091,0.53164,0.37502,0.40672,0.27996,0.29507,0.46235,0.36712,0.41511,0.43597,0.23907,0.39237,0.36023,0.35327,0.54854,0.44012,0.40212,0.15718,0.09511,0.15111,0.52259,0.25646,0.1977,0.14622,0.26228,0.44727,0.55954,0.23553,0.05822,0.35972,0.27854,0.26755,0.42662,0.37012,0.31866,0.39778,0.30685,0.24856,0.42736,0.36703,0.42483,0.50817,0.40285,0.18847,0.14037,0.40576,0.12859,0.40973,0.32461,0.31056,0.21219,0.1268,0.25429,0.28098,0.27544,0.12072,0.44089,0.58852,0.38041,0.12807,0.3337,0.43653,0.13684,0.25748,0.30953,0.5432,0.39747,0.1643,0.34678,0.0432],\"type\":\"scatter\",\"xaxis\":\"x2\",\"yaxis\":\"y2\"},{\"line\":{\"color\":\"black\"},\"mode\":\"lines\",\"showlegend\":false,\"x\":[0.44453,0.41203,0.14975,0.35776,0.41004,0.31329,0.29927,0.41904,0.40867,0.08728,0.21348,0.10547,0.28551,0.14166,0.26248,0.29754,0.35329,0.18355,0.46987,0.11451,0.08423,0.07296,0.35561,0.21394,0.17554,0.05399,0.17808,0.02833,0.30008,0.06137,0.08701,0.23669,0.25772,0.02947,0.10613,0.09081,0.16292,0.28333,0.02556,0.18037,0.18985,0.11132,0.055,0.0182,0.17457,0.03635,0.05292,0.10339,0.0889,0.05228,0.07396,0.00679,0.18519,0.04294,0.04002,0.00322,0.13297,0.17914,0.11757,0.02745,0.04762,0.04339,0.0,0.12721,0.12372,0.08404,0.04472,0.1388,0.03061,0.01521,0.11556,0.0817,0.04127,0.03285,0.0305,0.06906,0.11479,0.07008,0.05301,0.12583,0.08196,0.13636,0.06126,0.1717,0.08415,0.07964,0.08722,0.10393,0.03616,0.06686,0.01829,0.0326,0.3188,0.11681,0.00615,0.17955,0.08582,0.09314,0.13647,0.14476,0.10769,0.08092,0.17176,0.04952,0.12533,0.06442,0.07506,0.04852,0.1192,0.50521,0.06681,0.07112,0.11587,0.09419],\"y\":[0.585637621342094,0.5638690557437898,0.38819338235538303,0.5275189002047138,0.5625361497271552,0.4977328044460496,0.4883421801479504,0.5685643678928394,0.5616185209619342,0.34635085026535034,0.43087986498861147,0.3585345489802166,0.47912570437463764,0.3827746840264513,0.46370016389067004,0.48718342265610226,0.524524885182424,0.41083269057761934,0.6026104044885872,0.36458955922663716,0.3443079541092018,0.3367592853617283,0.5260788258651337,0.43118797391707975,0.4054675764101604,0.32405314107250277,0.40716887353692016,0.3068660212801186,0.48888471978286197,0.32899627996836384,0.3461700037203798,0.44642596983589267,0.4605119062830415,0.30762959558110525,0.35897661831236677,0.3487152513903354,0.39701467493783427,0.47766553597450523,0.30501066968912466,0.4087027201590776,0.4150524432935983,0.3624528907879113,0.3247296411110962,0.3000809268336318,0.4048178684523033,0.3122378334677617,0.3233364529128048,0.3571413607819251,0.3474359295351735,0.32290777962102274,0.33742908738013766,0.292438485803581,0.4119311658878107,0.3166518287690793,0.314696006875324,0.2900472925978596,0.37695410448647393,0.40787886367643406,0.3666391534029698,0.3062765955039184,0.31978650221523514,0.31695323967736355,0.28789053009858145,0.373096044860436,0.3707584358161874,0.344180691725704,0.317844076361848,0.3808590502538005,0.3083931698820919,0.2980782187985878,0.365292851345967,0.34261335500262613,0.3155332593983357,0.3098935264033289,0.3083194916600669,0.3341470574899318,0.3647771037917918,0.3348302555487094,0.3233967350944616,0.37217171807503113,0.34278750352741255,0.3792247333288817,0.3289226017463388,0.4028955366594684,0.34425436994772907,0.34123356284470285,0.3463106621442458,0.35750305387186615,0.3121105710842639,0.3326734930494312,0.3001412090152886,0.3097260758987266,0.5014234135674852,0.3661301038689787,0.292009812511799,0.40815348250398187,0.3453729393184727,0.3502758900932292,0.3792984115509067,0.3848510702835203,0.36002150946108535,0.3420909094282668,0.402935724780573,0.3210591260502129,0.37183681706582644,0.3310391761245124,0.33816586960038797,0.32038932403180354,0.3677309306929771,0.626281207819174,0.33264000294851076,0.33552684964785506,0.36550048997167395,0.35097918221255897],\"type\":\"scatter\",\"xaxis\":\"x2\",\"yaxis\":\"y2\"},{\"hoverlabel\":{\"bgcolor\":\"white\",\"font\":{\"color\":\"#5800e5\",\"size\":16}},\"hovertemplate\":\"\\u003cb\\u003e%{hovertext}\\u003c\\u002fb\\u003e\",\"marker\":{\"color\":[\"#ffc900\",\"#ffc800\",\"#ffc800\",\"#ffc800\",\"#ffc200\",\"#ffc200\",\"#ffbf00\",\"#ffbe00\",\"#ffbd00\",\"#ffbb00\",\"#ffb300\",\"#ffb100\",\"#ffac00\",\"#ffaa00\",\"#ffa900\",\"#ffa700\",\"#ffa600\",\"#ffa209\",\"#ffa00f\",\"#ff9f12\",\"#ff9f12\",\"#ff9d17\",\"#ff9a20\",\"#ff9923\",\"#ff9828\",\"#ff972b\",\"#ff972b\",\"#ff972b\",\"#ff9336\",\"#ff9336\",\"#ff913c\",\"#ff8e44\",\"#ff8d47\",\"#ff8955\",\"#ff8858\",\"#ff865e\",\"#ff865e\",\"#ff8561\",\"#ff8561\",\"#ff8561\",\"#ff8366\",\"#ff8366\",\"#ff7f72\",\"#ff7f72\",\"#ff7e74\",\"#ff7d77\",\"#ff7c7a\",\"#ff7888\",\"#ff768e\",\"#ff7591\",\"#ff7591\",\"#ff7591\",\"#ff7494\",\"#ff7494\",\"#ff7396\",\"#ff6caa\",\"#ff6caa\",\"#ff6bad\",\"#ff6bad\",\"#ff6ab0\",\"#fc67b5\",\"#fc67b5\",\"#fb65b5\",\"#fb65b5\",\"#fb65b5\",\"#fb65b5\",\"#fb65b5\",\"#f963b6\",\"#f963b6\",\"#f963b6\",\"#f660b7\",\"#f45eb7\",\"#f25db8\",\"#ec56ba\",\"#e853bb\",\"#e853bb\",\"#e34ebc\",\"#e34ebc\",\"#db46be\",\"#d944bf\",\"#d944bf\",\"#d641c0\",\"#d13cc1\",\"#d13cc1\",\"#cd38c2\",\"#cc37c3\",\"#ca35c3\",\"#c732c4\",\"#c732c4\",\"#c732c4\",\"#c530c5\",\"#c22dc6\",\"#c02bc6\",\"#be2ac7\",\"#be2ac7\",\"#bd28c7\",\"#bd28c7\",\"#b823c9\",\"#b420ca\",\"#b31eca\",\"#ae19cc\",\"#aa16cd\",\"#a713ce\",\"#a00ccf\",\"#9e0ad0\",\"#9e0ad0\",\"#9d09d0\",\"#9804d2\",\"#9602d2\",\"#9000d4\",\"#8e00d5\",\"#8200d8\",\"#7d00da\",\"#5800e5\"]},\"mode\":\"markers\",\"showlegend\":false,\"x\":[0.44453,0.41203,0.14975,0.35776,0.41004,0.31329,0.29927,0.41904,0.40867,0.08728,0.21348,0.10547,0.28551,0.14166,0.26248,0.29754,0.35329,0.18355,0.46987,0.11451,0.08423,0.07296,0.35561,0.21394,0.17554,0.05399,0.17808,0.02833,0.30008,0.06137,0.08701,0.23669,0.25772,0.02947,0.10613,0.09081,0.16292,0.28333,0.02556,0.18037,0.18985,0.11132,0.055,0.0182,0.17457,0.03635,0.05292,0.10339,0.0889,0.05228,0.07396,0.00679,0.18519,0.04294,0.04002,0.00322,0.13297,0.17914,0.11757,0.02745,0.04762,0.04339,0.0,0.12721,0.12372,0.08404,0.04472,0.1388,0.03061,0.01521,0.11556,0.0817,0.04127,0.03285,0.0305,0.06906,0.11479,0.07008,0.05301,0.12583,0.08196,0.13636,0.06126,0.1717,0.08415,0.07964,0.08722,0.10393,0.03616,0.06686,0.01829,0.0326,0.3188,0.11681,0.00615,0.17955,0.08582,0.09314,0.13647,0.14476,0.10769,0.08092,0.17176,0.04952,0.12533,0.06442,0.07506,0.04852,0.1192,0.50521,0.06681,0.07112,0.11587,0.09419],\"y\":[7.526,7.509,7.501,7.498,7.413,7.404,7.339,7.334,7.291,7.267,7.119,7.087,6.994,6.952,6.929,6.907,6.871,6.778,6.739,6.705,6.701,6.65,6.573,6.545,6.488,6.481,6.478,6.474,6.379,6.361,6.324,6.239,6.218,6.078,6.068,6.005,5.992,5.987,5.977,5.976,5.921,5.919,5.835,5.813,5.802,5.768,5.743,5.615,5.56,5.546,5.538,5.528,5.517,5.51,5.488,5.314,5.303,5.291,5.279,5.245,5.185,5.177,5.163,5.161,5.155,5.151,5.145,5.132,5.129,5.123,5.061,5.045,5.033,4.907,4.875,4.871,4.795,4.793,4.655,4.643,4.635,4.575,4.513,4.508,4.459,4.415,4.404,4.362,4.36,4.356,4.324,4.276,4.252,4.219,4.217,4.201,4.193,4.121,4.073,4.028,3.974,3.907,3.856,3.763,3.739,3.739,3.695,3.622,3.607,3.515,3.484,3.36,3.303,2.905],\"type\":\"scatter\",\"xaxis\":\"x3\",\"yaxis\":\"y3\"},{\"line\":{\"color\":\"black\"},\"mode\":\"lines\",\"showlegend\":false,\"x\":[0.44453,0.41203,0.14975,0.35776,0.41004,0.31329,0.29927,0.41904,0.40867,0.08728,0.21348,0.10547,0.28551,0.14166,0.26248,0.29754,0.35329,0.18355,0.46987,0.11451,0.08423,0.07296,0.35561,0.21394,0.17554,0.05399,0.17808,0.02833,0.30008,0.06137,0.08701,0.23669,0.25772,0.02947,0.10613,0.09081,0.16292,0.28333,0.02556,0.18037,0.18985,0.11132,0.055,0.0182,0.17457,0.03635,0.05292,0.10339,0.0889,0.05228,0.07396,0.00679,0.18519,0.04294,0.04002,0.00322,0.13297,0.17914,0.11757,0.02745,0.04762,0.04339,0.0,0.12721,0.12372,0.08404,0.04472,0.1388,0.03061,0.01521,0.11556,0.0817,0.04127,0.03285,0.0305,0.06906,0.11479,0.07008,0.05301,0.12583,0.08196,0.13636,0.06126,0.1717,0.08415,0.07964,0.08722,0.10393,0.03616,0.06686,0.01829,0.0326,0.3188,0.11681,0.00615,0.17955,0.08582,0.09314,0.13647,0.14476,0.10769,0.08092,0.17176,0.04952,0.12533,0.06442,0.07506,0.04852,0.1192,0.50521,0.06681,0.07112,0.11587,0.09419],\"y\":[6.911591266039698,6.754315868591397,5.485079214968612,6.491690151067726,6.744685775024562,6.276489014928465,6.208642828090767,6.788238962010246,6.738056012116742,5.182771704857983,5.7934841712572345,5.270797534999049,6.142054844432655,5.44592973911148,6.0306070781792895,6.200270937703519,6.4700587348648355,5.648645628314845,7.03421768361939,5.314544291704668,5.168012013712835,5.113473745120762,6.481285778621146,5.795710223036503,5.609883291897587,5.021673305440939,5.622174969113546,4.897498330101756,6.212562614919478,5.0573869187691995,5.181465109248413,5.905803001250314,6.007572281506861,4.903015067119943,5.273991435377999,5.199854232642369,5.5488120452576615,6.131505294696123,4.884093626996163,5.633256835579903,5.679132859204824,5.299107106539743,5.026560940869333,4.84847679852787,5.60518922618913,4.936309058948999,5.016495315432641,5.260731909562357,5.190611278515407,5.0133981999136585,5.118312988119172,4.793261035916021,5.6565819868322365,4.9681996703085165,4.954069080753161,4.7759849384117,5.4038767174553035,5.62730456669186,5.329352375279801,4.893239796263156,4.990847327541072,4.970377329657801,4.760402575956822,5.3760026777844665,5.359113719720018,5.167092557543137,4.976813522845685,5.43208950413603,4.90853180413813,4.834007461962627,5.319625496852998,5.15576872892686,4.9601181345011724,4.919371708454567,4.907999487408305,5.094600697426967,5.315899279744223,5.099536725285344,5.016930847302498,5.369324522446662,5.157026932106446,5.420281751219911,5.056854602039374,5.591300598783695,5.1676248742729625,5.145799888350137,5.1824813502780795,5.263345100781498,4.935389602779301,5.083954362830466,4.848912330397727,4.918161897704964,6.3031532438496995,5.3256745506010095,4.790163920397039,5.629288656321208,5.1757064100803065,5.211129668828662,5.4208140679497365,5.4609313924065495,5.281540654455517,5.1519941193881005,5.5915909533636,5.000041889238049,5.366904900947457,5.0721466099143475,5.123636155417422,4.99520264623964,5.337240341367208,7.205236531183174,5.083712400680546,5.10456953800369,5.321125662182505,5.2162108739769915],\"type\":\"scatter\",\"xaxis\":\"x3\",\"yaxis\":\"y3\"},{\"marker\":{\"cmax\":8.526,\"cmin\":1.9049999999999998,\"color\":[7.526,7.509,7.501,7.498,7.413,7.404,7.339,7.334,7.291,7.267,7.119,7.087,6.994,6.952,6.929,6.907,6.871,6.778,6.739,6.705,6.701,6.65,6.573,6.545,6.488,6.481,6.478,6.474,6.379,6.361,6.324,6.239,6.218,6.078,6.068,6.005,5.992,5.987,5.977,5.976,5.921,5.919,5.835,5.813,5.802,5.768,5.743,5.615,5.56,5.546,5.538,5.528,5.517,5.51,5.488,5.314,5.303,5.291,5.279,5.245,5.185,5.177,5.163,5.161,5.155,5.151,5.145,5.132,5.129,5.123,5.061,5.045,5.033,4.907,4.875,4.871,4.795,4.793,4.655,4.643,4.635,4.575,4.513,4.508,4.459,4.415,4.404,4.362,4.36,4.356,4.324,4.276,4.252,4.219,4.217,4.201,4.193,4.121,4.073,4.028,3.974,3.907,3.856,3.763,3.739,3.739,3.695,3.622,3.607,3.515,3.484,3.36,3.303,2.905],\"colorbar\":{\"ticktext\":[\"Min\",\"Max\"],\"tickvals\":[2.905,7.526],\"title\":{\"text\":\"Geluksscore\"}},\"colorscale\":[[0,\"#0000ff\"],[0.25,\"#9400d3\"],[0.5,\"#ff69b4\"],[0.75,\"#ffa500\"],[1,\"#ffff00\"]],\"showscale\":true,\"size\":1},\"mode\":\"markers\",\"showlegend\":false,\"x\":[null],\"y\":[null],\"type\":\"scatter\"}],                        {\"template\":{\"data\":{\"histogram2dcontour\":[{\"type\":\"histogram2dcontour\",\"colorbar\":{\"outlinewidth\":0,\"ticks\":\"\"},\"colorscale\":[[0.0,\"#0d0887\"],[0.1111111111111111,\"#46039f\"],[0.2222222222222222,\"#7201a8\"],[0.3333333333333333,\"#9c179e\"],[0.4444444444444444,\"#bd3786\"],[0.5555555555555556,\"#d8576b\"],[0.6666666666666666,\"#ed7953\"],[0.7777777777777778,\"#fb9f3a\"],[0.8888888888888888,\"#fdca26\"],[1.0,\"#f0f921\"]]}],\"choropleth\":[{\"type\":\"choropleth\",\"colorbar\":{\"outlinewidth\":0,\"ticks\":\"\"}}],\"histogram2d\":[{\"type\":\"histogram2d\",\"colorbar\":{\"outlinewidth\":0,\"ticks\":\"\"},\"colorscale\":[[0.0,\"#0d0887\"],[0.1111111111111111,\"#46039f\"],[0.2222222222222222,\"#7201a8\"],[0.3333333333333333,\"#9c179e\"],[0.4444444444444444,\"#bd3786\"],[0.5555555555555556,\"#d8576b\"],[0.6666666666666666,\"#ed7953\"],[0.7777777777777778,\"#fb9f3a\"],[0.8888888888888888,\"#fdca26\"],[1.0,\"#f0f921\"]]}],\"heatmap\":[{\"type\":\"heatmap\",\"colorbar\":{\"outlinewidth\":0,\"ticks\":\"\"},\"colorscale\":[[0.0,\"#0d0887\"],[0.1111111111111111,\"#46039f\"],[0.2222222222222222,\"#7201a8\"],[0.3333333333333333,\"#9c179e\"],[0.4444444444444444,\"#bd3786\"],[0.5555555555555556,\"#d8576b\"],[0.6666666666666666,\"#ed7953\"],[0.7777777777777778,\"#fb9f3a\"],[0.8888888888888888,\"#fdca26\"],[1.0,\"#f0f921\"]]}],\"heatmapgl\":[{\"type\":\"heatmapgl\",\"colorbar\":{\"outlinewidth\":0,\"ticks\":\"\"},\"colorscale\":[[0.0,\"#0d0887\"],[0.1111111111111111,\"#46039f\"],[0.2222222222222222,\"#7201a8\"],[0.3333333333333333,\"#9c179e\"],[0.4444444444444444,\"#bd3786\"],[0.5555555555555556,\"#d8576b\"],[0.6666666666666666,\"#ed7953\"],[0.7777777777777778,\"#fb9f3a\"],[0.8888888888888888,\"#fdca26\"],[1.0,\"#f0f921\"]]}],\"contourcarpet\":[{\"type\":\"contourcarpet\",\"colorbar\":{\"outlinewidth\":0,\"ticks\":\"\"}}],\"contour\":[{\"type\":\"contour\",\"colorbar\":{\"outlinewidth\":0,\"ticks\":\"\"},\"colorscale\":[[0.0,\"#0d0887\"],[0.1111111111111111,\"#46039f\"],[0.2222222222222222,\"#7201a8\"],[0.3333333333333333,\"#9c179e\"],[0.4444444444444444,\"#bd3786\"],[0.5555555555555556,\"#d8576b\"],[0.6666666666666666,\"#ed7953\"],[0.7777777777777778,\"#fb9f3a\"],[0.8888888888888888,\"#fdca26\"],[1.0,\"#f0f921\"]]}],\"surface\":[{\"type\":\"surface\",\"colorbar\":{\"outlinewidth\":0,\"ticks\":\"\"},\"colorscale\":[[0.0,\"#0d0887\"],[0.1111111111111111,\"#46039f\"],[0.2222222222222222,\"#7201a8\"],[0.3333333333333333,\"#9c179e\"],[0.4444444444444444,\"#bd3786\"],[0.5555555555555556,\"#d8576b\"],[0.6666666666666666,\"#ed7953\"],[0.7777777777777778,\"#fb9f3a\"],[0.8888888888888888,\"#fdca26\"],[1.0,\"#f0f921\"]]}],\"mesh3d\":[{\"type\":\"mesh3d\",\"colorbar\":{\"outlinewidth\":0,\"ticks\":\"\"}}],\"scatter\":[{\"fillpattern\":{\"fillmode\":\"overlay\",\"size\":10,\"solidity\":0.2},\"type\":\"scatter\"}],\"parcoords\":[{\"type\":\"parcoords\",\"line\":{\"colorbar\":{\"outlinewidth\":0,\"ticks\":\"\"}}}],\"scatterpolargl\":[{\"type\":\"scatterpolargl\",\"marker\":{\"colorbar\":{\"outlinewidth\":0,\"ticks\":\"\"}}}],\"bar\":[{\"error_x\":{\"color\":\"#2a3f5f\"},\"error_y\":{\"color\":\"#2a3f5f\"},\"marker\":{\"line\":{\"color\":\"#E5ECF6\",\"width\":0.5},\"pattern\":{\"fillmode\":\"overlay\",\"size\":10,\"solidity\":0.2}},\"type\":\"bar\"}],\"scattergeo\":[{\"type\":\"scattergeo\",\"marker\":{\"colorbar\":{\"outlinewidth\":0,\"ticks\":\"\"}}}],\"scatterpolar\":[{\"type\":\"scatterpolar\",\"marker\":{\"colorbar\":{\"outlinewidth\":0,\"ticks\":\"\"}}}],\"histogram\":[{\"marker\":{\"pattern\":{\"fillmode\":\"overlay\",\"size\":10,\"solidity\":0.2}},\"type\":\"histogram\"}],\"scattergl\":[{\"type\":\"scattergl\",\"marker\":{\"colorbar\":{\"outlinewidth\":0,\"ticks\":\"\"}}}],\"scatter3d\":[{\"type\":\"scatter3d\",\"line\":{\"colorbar\":{\"outlinewidth\":0,\"ticks\":\"\"}},\"marker\":{\"colorbar\":{\"outlinewidth\":0,\"ticks\":\"\"}}}],\"scattermapbox\":[{\"type\":\"scattermapbox\",\"marker\":{\"colorbar\":{\"outlinewidth\":0,\"ticks\":\"\"}}}],\"scatterternary\":[{\"type\":\"scatterternary\",\"marker\":{\"colorbar\":{\"outlinewidth\":0,\"ticks\":\"\"}}}],\"scattercarpet\":[{\"type\":\"scattercarpet\",\"marker\":{\"colorbar\":{\"outlinewidth\":0,\"ticks\":\"\"}}}],\"carpet\":[{\"aaxis\":{\"endlinecolor\":\"#2a3f5f\",\"gridcolor\":\"white\",\"linecolor\":\"white\",\"minorgridcolor\":\"white\",\"startlinecolor\":\"#2a3f5f\"},\"baxis\":{\"endlinecolor\":\"#2a3f5f\",\"gridcolor\":\"white\",\"linecolor\":\"white\",\"minorgridcolor\":\"white\",\"startlinecolor\":\"#2a3f5f\"},\"type\":\"carpet\"}],\"table\":[{\"cells\":{\"fill\":{\"color\":\"#EBF0F8\"},\"line\":{\"color\":\"white\"}},\"header\":{\"fill\":{\"color\":\"#C8D4E3\"},\"line\":{\"color\":\"white\"}},\"type\":\"table\"}],\"barpolar\":[{\"marker\":{\"line\":{\"color\":\"#E5ECF6\",\"width\":0.5},\"pattern\":{\"fillmode\":\"overlay\",\"size\":10,\"solidity\":0.2}},\"type\":\"barpolar\"}],\"pie\":[{\"automargin\":true,\"type\":\"pie\"}]},\"layout\":{\"autotypenumbers\":\"strict\",\"colorway\":[\"#636efa\",\"#EF553B\",\"#00cc96\",\"#ab63fa\",\"#FFA15A\",\"#19d3f3\",\"#FF6692\",\"#B6E880\",\"#FF97FF\",\"#FECB52\"],\"font\":{\"color\":\"#2a3f5f\"},\"hovermode\":\"closest\",\"hoverlabel\":{\"align\":\"left\"},\"paper_bgcolor\":\"white\",\"plot_bgcolor\":\"#E5ECF6\",\"polar\":{\"bgcolor\":\"#E5ECF6\",\"angularaxis\":{\"gridcolor\":\"white\",\"linecolor\":\"white\",\"ticks\":\"\"},\"radialaxis\":{\"gridcolor\":\"white\",\"linecolor\":\"white\",\"ticks\":\"\"}},\"ternary\":{\"bgcolor\":\"#E5ECF6\",\"aaxis\":{\"gridcolor\":\"white\",\"linecolor\":\"white\",\"ticks\":\"\"},\"baxis\":{\"gridcolor\":\"white\",\"linecolor\":\"white\",\"ticks\":\"\"},\"caxis\":{\"gridcolor\":\"white\",\"linecolor\":\"white\",\"ticks\":\"\"}},\"coloraxis\":{\"colorbar\":{\"outlinewidth\":0,\"ticks\":\"\"}},\"colorscale\":{\"sequential\":[[0.0,\"#0d0887\"],[0.1111111111111111,\"#46039f\"],[0.2222222222222222,\"#7201a8\"],[0.3333333333333333,\"#9c179e\"],[0.4444444444444444,\"#bd3786\"],[0.5555555555555556,\"#d8576b\"],[0.6666666666666666,\"#ed7953\"],[0.7777777777777778,\"#fb9f3a\"],[0.8888888888888888,\"#fdca26\"],[1.0,\"#f0f921\"]],\"sequentialminus\":[[0.0,\"#0d0887\"],[0.1111111111111111,\"#46039f\"],[0.2222222222222222,\"#7201a8\"],[0.3333333333333333,\"#9c179e\"],[0.4444444444444444,\"#bd3786\"],[0.5555555555555556,\"#d8576b\"],[0.6666666666666666,\"#ed7953\"],[0.7777777777777778,\"#fb9f3a\"],[0.8888888888888888,\"#fdca26\"],[1.0,\"#f0f921\"]],\"diverging\":[[0,\"#8e0152\"],[0.1,\"#c51b7d\"],[0.2,\"#de77ae\"],[0.3,\"#f1b6da\"],[0.4,\"#fde0ef\"],[0.5,\"#f7f7f7\"],[0.6,\"#e6f5d0\"],[0.7,\"#b8e186\"],[0.8,\"#7fbc41\"],[0.9,\"#4d9221\"],[1,\"#276419\"]]},\"xaxis\":{\"gridcolor\":\"white\",\"linecolor\":\"white\",\"ticks\":\"\",\"title\":{\"standoff\":15},\"zerolinecolor\":\"white\",\"automargin\":true,\"zerolinewidth\":2},\"yaxis\":{\"gridcolor\":\"white\",\"linecolor\":\"white\",\"ticks\":\"\",\"title\":{\"standoff\":15},\"zerolinecolor\":\"white\",\"automargin\":true,\"zerolinewidth\":2},\"scene\":{\"xaxis\":{\"backgroundcolor\":\"#E5ECF6\",\"gridcolor\":\"white\",\"linecolor\":\"white\",\"showbackground\":true,\"ticks\":\"\",\"zerolinecolor\":\"white\",\"gridwidth\":2},\"yaxis\":{\"backgroundcolor\":\"#E5ECF6\",\"gridcolor\":\"white\",\"linecolor\":\"white\",\"showbackground\":true,\"ticks\":\"\",\"zerolinecolor\":\"white\",\"gridwidth\":2},\"zaxis\":{\"backgroundcolor\":\"#E5ECF6\",\"gridcolor\":\"white\",\"linecolor\":\"white\",\"showbackground\":true,\"ticks\":\"\",\"zerolinecolor\":\"white\",\"gridwidth\":2}},\"shapedefaults\":{\"line\":{\"color\":\"#2a3f5f\"}},\"annotationdefaults\":{\"arrowcolor\":\"#2a3f5f\",\"arrowhead\":0,\"arrowwidth\":1},\"geo\":{\"bgcolor\":\"white\",\"landcolor\":\"#E5ECF6\",\"subunitcolor\":\"white\",\"showland\":true,\"showlakes\":true,\"lakecolor\":\"white\"},\"title\":{\"x\":0.05},\"mapbox\":{\"style\":\"light\"}}},\"xaxis\":{\"anchor\":\"y\",\"domain\":[0.0,0.2888888888888889],\"title\":{\"text\":\"Overheidsvertrouwen\"},\"zeroline\":true,\"zerolinecolor\":\"black\",\"showline\":false,\"showgrid\":false,\"linecolor\":\"black\",\"mirror\":true,\"showticklabels\":false},\"yaxis\":{\"anchor\":\"x\",\"domain\":[0.0,1.0],\"title\":{\"text\":\"Vrijheid\"},\"zeroline\":true,\"zerolinecolor\":\"black\",\"showline\":false,\"showgrid\":false,\"linecolor\":\"black\",\"mirror\":true,\"showticklabels\":false},\"xaxis2\":{\"anchor\":\"y2\",\"domain\":[0.35555555555555557,0.6444444444444445],\"title\":{\"text\":\"Overheidsvertrouwen\"}},\"yaxis2\":{\"anchor\":\"x2\",\"domain\":[0.0,1.0],\"title\":{\"text\":\"Vrijheid\"}},\"xaxis3\":{\"anchor\":\"y3\",\"domain\":[0.7111111111111111,1.0],\"title\":{\"text\":\"Overheidsvertrouwen\"}},\"yaxis3\":{\"anchor\":\"x3\",\"domain\":[0.0,1.0],\"title\":{\"text\":\"Geluksscore\"}},\"title\":{\"text\":\"Overheidsvertrouwen en vrijheid\"},\"showlegend\":false,\"plot_bgcolor\":\"white\",\"paper_bgcolor\":\"white\",\"width\":1200,\"height\":500},                        {\"responsive\": true}                    ).then(function(){\n",
       "                            \n",
       "var gd = document.getElementById('ce397953-dd95-4bf0-ad4e-f3290236babd');\n",
       "var x = new MutationObserver(function (mutations, observer) {{\n",
       "        var display = window.getComputedStyle(gd).display;\n",
       "        if (!display || display === 'none') {{\n",
       "            console.log([gd, 'removed!']);\n",
       "            Plotly.purge(gd);\n",
       "            observer.disconnect();\n",
       "        }}\n",
       "}});\n",
       "\n",
       "// Listen for the removal of the full notebook cells\n",
       "var notebookContainer = gd.closest('#notebook-container');\n",
       "if (notebookContainer) {{\n",
       "    x.observe(notebookContainer, {childList: true});\n",
       "}}\n",
       "\n",
       "// Listen for the clearing of the current output cell\n",
       "var outputEl = gd.closest('.output');\n",
       "if (outputEl) {{\n",
       "    x.observe(outputEl, {childList: true});\n",
       "}}\n",
       "\n",
       "                        })                };                });            </script>        </div>"
      ]
     },
     "metadata": {},
     "output_type": "display_data"
    }
   ],
   "source": [
    "import pandas as pd\n",
    "import plotly.graph_objects as go\n",
    "import plotly.express as px\n",
    "import matplotlib.pyplot as plt\n",
    "import matplotlib.colors as mcolors\n",
    "from matplotlib.colors import LinearSegmentedColormap\n",
    "from plotly.subplots import make_subplots\n",
    "from scipy.stats import linregress\n",
    "\n",
    "# Lees het CSV-bestand met gegevens over landen\n",
    "df = pd.read_csv(r\"C:\\Users\\tatum\\Desktop\\Informatievisualisatie\\datasetgroot.csv\")\n",
    "\n",
    "# Bereken de gemiddelde geluksscore, het gemiddelde overheidsvertrouwen en de gemiddelde vrijheid\n",
    "mean_happiness = df['happiness_score'].mean()\n",
    "mean_trust = df['government_trust'].mean()\n",
    "mean_freedom = df['freedom'].mean()\n",
    "\n",
    "# Centreer de gegevens rond het nulpunt\n",
    "df['happiness_score_centered'] = df['happiness_score'] - mean_happiness\n",
    "df['government_trust_centered'] = df['government_trust'] - mean_trust\n",
    "df['freedom_centered'] = df['freedom'] - mean_freedom\n",
    "\n",
    "# Create a custom colormap that goes from blue to purple to pink to orange to yellow\n",
    "cmap = LinearSegmentedColormap.from_list('BluePurplePinkOrangeYellow', ['#0000ff', '#9400d3', '#ff69b4', '#ffa500', '#ffff00'])\n",
    "norm = plt.Normalize(vmin=df['happiness_score'].min() - 1, vmax=df['happiness_score'].max() + 1)\n",
    "df['happiness_color'] = df['happiness_score'].apply(lambda x: cmap(norm(x)))\n",
    "\n",
    "# Convert the RGBA values to a valid CSS color string\n",
    "df['happiness_color'] = df['happiness_color'].apply(lambda x: mcolors.to_hex(x))\n",
    "\n",
    "# Maak een figuur met een aangepaste grootte en drie subplots\n",
    "fig = make_subplots(rows=1, cols=3)\n",
    "\n",
    "# Plot the gegevens als tekst in plaats van punten met een grotere tekstgrootte en aangepaste lettertype voor de eerste subplot\n",
    "for i, row in df.iterrows():\n",
    "    fig.add_trace(go.Scatter(\n",
    "        x=[row['government_trust_centered']],\n",
    "        y=[row['freedom_centered']],\n",
    "        mode='text',\n",
    "        text=[row['Country'][:3]],\n",
    "        hovertext=[row['Country']],\n",
    "        textposition='bottom center',\n",
    "        textfont=dict(\n",
    "            size=14,\n",
    "            color=row['happiness_color'],\n",
    "            family='Arial Black'\n",
    "        ),\n",
    "        hovertemplate='<b>%{hovertext}</b>',\n",
    "        hoverlabel=dict(\n",
    "            bgcolor='white',\n",
    "            font=dict(\n",
    "                size=16,\n",
    "                color=row['happiness_color']\n",
    "            )\n",
    "        )\n",
    "    ), row=1, col=1)\n",
    "\n",
    "# Plot the correlation between freedom and government trust for the second subplot\n",
    "fig.add_trace(go.Scatter(\n",
    "    x=df['government_trust'],\n",
    "    y=df['freedom'],\n",
    "    mode='markers',\n",
    "    marker=dict(\n",
    "        color=df['happiness_color']\n",
    "    ),\n",
    "    showlegend=False,\n",
    "    hovertemplate='<b>%{hovertext}</b>',\n",
    "    hoverlabel=dict(\n",
    "        bgcolor='white',\n",
    "        font=dict(\n",
    "            size=16,\n",
    "            color=row['happiness_color']\n",
    "        )\n",
    "    )\n",
    "), row=1, col=2)\n",
    "\n",
    "# Calculate the linear regression between freedom and government trust and add a correlation line to the second subplot\n",
    "slope, intercept, r_value, p_value, std_err = linregress(df['government_trust'], df['freedom'])\n",
    "fig.add_trace(go.Scatter(\n",
    "    x=df['government_trust'],\n",
    "    y=slope * df['government_trust'] + intercept,\n",
    "    mode='lines',\n",
    "    line=dict(\n",
    "        color='black'\n",
    "    ),\n",
    "    showlegend=False,\n",
    "), row=1, col=2)\n",
    "\n",
    "# Plot the correlation between government trust and happiness for the third subplot\n",
    "fig.add_trace(go.Scatter(\n",
    "    x=df['government_trust'],\n",
    "    y=df['happiness_score'],\n",
    "    mode='markers',\n",
    "    marker=dict(\n",
    "        color=df['happiness_color']\n",
    "    ),\n",
    "    showlegend=False,\n",
    "    hovertemplate='<b>%{hovertext}</b>',\n",
    "    hoverlabel=dict(\n",
    "        bgcolor='white',\n",
    "        font=dict(\n",
    "            size=16,\n",
    "            color=row['happiness_color']\n",
    "        )\n",
    "    )\n",
    "), row=1, col=3)\n",
    "\n",
    "# Calculate the linear regression between government trust and happiness and add a correlation line to the third subplot\n",
    "slope, intercept, r_value, p_value, std_err = linregress(df['government_trust'], df['happiness_score'])\n",
    "fig.add_trace(go.Scatter(\n",
    "    x=df['government_trust'],\n",
    "    y=slope * df['government_trust'] + intercept,\n",
    "    mode='lines',\n",
    "    line=dict(\n",
    "        color='black'\n",
    "    ),\n",
    "    showlegend=False,\n",
    "), row=1, col=3)\n",
    "\n",
    "# Add a colorbar to the figure\n",
    "fig.add_trace(go.Scatter(\n",
    "    x=[None],\n",
    "    y=[None],\n",
    "    mode='markers',\n",
    "    marker=dict(\n",
    "        size=1,\n",
    "        color=df['happiness_score'],\n",
    "        colorscale=[[0, '#0000ff'], [0.25, '#9400d3'], [0.5, '#ff69b4'], [0.75, '#ffa500'], [1, '#ffff00']],\n",
    "        cmin=df['happiness_score'].min() - 1,\n",
    "        cmax=df['happiness_score'].max() + 1,\n",
    "        showscale=True,\n",
    "        colorbar=dict(\n",
    "            title='Geluksscore',\n",
    "            tickvals=[df['happiness_score'].min(), df['happiness_score'].max()],\n",
    "            ticktext=['Min', 'Max']\n",
    "        )\n",
    "    ),\n",
    "    showlegend=False\n",
    "))\n",
    "\n",
    "# Pas de opmaak van de plot aan\n",
    "fig.update_layout(\n",
    "    title='Overheidsvertrouwen en vrijheid',\n",
    "    showlegend=False,\n",
    "    xaxis=dict(\n",
    "        title='Overheidsvertrouwen',\n",
    "        zeroline=True,\n",
    "        zerolinecolor='black',\n",
    "        showline=False,\n",
    "        showgrid=False,\n",
    "        linecolor='black',\n",
    "        mirror=True,\n",
    "        showticklabels=False\n",
    "    ),\n",
    "    yaxis=dict(\n",
    "        title='Vrijheid',\n",
    "        zeroline=True,\n",
    "        zerolinecolor='black',\n",
    "        showline=False,\n",
    "        showgrid=False,\n",
    "        linecolor='black',\n",
    "        mirror=True,\n",
    "        showticklabels=False\n",
    "    ),\n",
    "    xaxis2=dict(\n",
    "        title='Overheidsvertrouwen'\n",
    "    ),\n",
    "    yaxis2=dict(\n",
    "        title='Vrijheid'\n",
    "    ),\n",
    "    xaxis3=dict(\n",
    "        title='Overheidsvertrouwen'\n",
    "    ),\n",
    "    yaxis3=dict(\n",
    "        title='Geluksscore'\n",
    "    ),\n",
    "    plot_bgcolor='white',\n",
    "    paper_bgcolor='white',\n",
    "    width=1200,\n",
    "    height=500\n",
    ")\n",
    "\n",
    "# Toon de interactieve plot\n",
    "fig.show()\n"
   ]
  },
  {
   "cell_type": "markdown",
   "id": "3612e62b",
   "metadata": {},
   "source": [
    "Grafiek 2: De gele punten in het rechterbovenkwadrant, die hogere geluksscores vertegenwoordigen, suggereren dat landen met hogere niveaus van overheidsvertrouwen en vrijheid over het algemeen gelukkiger zijn. Deze landen worden gekenmerkt als \"blij\". Daarentegen duiden de donkere punten in het linkeronderkwadrant, met lagere geluksscores, op lagere niveaus van overheidsvertrouwen en vrijheid, en worden ze beschouwd als \"niet blij\". Het ontbreken van vrijheid kan leiden tot een gevoel van ontevredenheid en kan het vertrouwen in de overheid ondermijnen, wat op zijn beurt het algemene geluksniveau kan beïnvloeden."
   ]
  },
  {
   "cell_type": "code",
   "execution_count": 37,
   "id": "b886f7ce",
   "metadata": {},
   "outputs": [
    {
     "data": {
      "application/vnd.plotly.v1+json": {
       "config": {
        "plotlyServerURL": "https://plot.ly"
       },
       "data": [
        {
         "marker": {
          "color": [
           7.413,
           7.526,
           7.498,
           7.501,
           7.339,
           7.509,
           7.291,
           7.334,
           7.404,
           7.119,
           7.313,
           7.087,
           7.267,
           6.871,
           6.725,
           6.907,
           6.994,
           6.929,
           7.104,
           6.573,
           6.488,
           6.778,
           6.478,
           6.705,
           6.324,
           6.379,
           6.361,
           6.701,
           6.952,
           6.545,
           6.739,
           6.068,
           5.977,
           6.218,
           6.078,
           5.835,
           5.987,
           5.813,
           6.481,
           5.768,
           5.992,
           5.401,
           6.65,
           5.528,
           5.546,
           5.976,
           6.239,
           6.474,
           5.56,
           5.517,
           5.51,
           5.648,
           5.921,
           4.871,
           5.919,
           5.822,
           5.145,
           5.538,
           5.743,
           5.123,
           5.132,
           5.856,
           5.279,
           5.177,
           5.897,
           5.615,
           5.161,
           4.996,
           5.488,
           5.155,
           5.163,
           5.389,
           6.005,
           5.802,
           5.033,
           4.907,
           4.875,
           5.185,
           5.658,
           6.355,
           5.151,
           5.291,
           5.129,
           5.314,
           5.245,
           5.061,
           4.513,
           4.217,
           4.276,
           4.793,
           5.303,
           3.484,
           4.121,
           4.459,
           4.655,
           6.084,
           3.907,
           4.219,
           3.856,
           3.739,
           4.36,
           4.813,
           3.607,
           4.252,
           4.356,
           4.201,
           5.045,
           4.643,
           4.575,
           4.073,
           4.635,
           4.415,
           4.395,
           3.763,
           4.324,
           4.508,
           3.739,
           4.362,
           4.795,
           3.303,
           4.404,
           3.622,
           3.695,
           2.905,
           4.193,
           4.028,
           3.974,
           4.156,
           3.724,
           3.515,
           3.666,
           3.36
          ],
          "colorbar": {
           "title": {
            "text": "Geluksscore"
           }
          },
          "colorscale": [
           [
            0,
            "#0000ff"
           ],
           [
            0.25,
            "#9400d3"
           ],
           [
            0.5,
            "#ff69b4"
           ],
           [
            0.75,
            "#ffa500"
           ],
           [
            1,
            "#ffff00"
           ]
          ],
          "showscale": true,
          "size": [
           74.13,
           75.25999999999999,
           74.98,
           75.01,
           73.39,
           75.09,
           72.91,
           73.34,
           74.03999999999999,
           71.19,
           73.13,
           70.87,
           72.67,
           68.71000000000001,
           67.25,
           69.07,
           69.94,
           69.29,
           71.04,
           65.73,
           64.88000000000001,
           67.78,
           64.78,
           67.05,
           63.239999999999995,
           63.78999999999999,
           63.61,
           67.00999999999999,
           69.52,
           65.45,
           67.39,
           60.67999999999999,
           59.77,
           62.18,
           60.78,
           58.35,
           59.870000000000005,
           58.129999999999995,
           64.81,
           57.68,
           59.92,
           54.01,
           66.5,
           55.279999999999994,
           55.46,
           59.76,
           62.39,
           64.74000000000001,
           55.599999999999994,
           55.17,
           55.099999999999994,
           56.48,
           59.21,
           48.71000000000001,
           59.19,
           58.22,
           51.449999999999996,
           55.38,
           57.43000000000001,
           51.230000000000004,
           51.31999999999999,
           58.56,
           52.79,
           51.769999999999996,
           58.97,
           56.150000000000006,
           51.61,
           49.96000000000001,
           54.88,
           51.550000000000004,
           51.63,
           53.89,
           60.05,
           58.019999999999996,
           50.330000000000005,
           49.07,
           48.75,
           51.849999999999994,
           56.580000000000005,
           63.550000000000004,
           51.51,
           52.910000000000004,
           51.28999999999999,
           53.14,
           52.45,
           50.61,
           45.129999999999995,
           42.169999999999995,
           42.76,
           47.93,
           53.03,
           34.84,
           41.21000000000001,
           44.589999999999996,
           46.550000000000004,
           60.839999999999996,
           39.07,
           42.190000000000005,
           38.56,
           37.39,
           43.6,
           48.129999999999995,
           36.07,
           42.519999999999996,
           43.56,
           42.01,
           50.45,
           46.43,
           45.75,
           40.730000000000004,
           46.349999999999994,
           44.15,
           43.949999999999996,
           37.629999999999995,
           43.239999999999995,
           45.08,
           37.39,
           43.620000000000005,
           47.95,
           33.03,
           44.04,
           36.22,
           36.949999999999996,
           29.049999999999997,
           41.92999999999999,
           40.279999999999994,
           39.74,
           41.559999999999995,
           37.24,
           35.15,
           36.66,
           33.6
          ]
         },
         "mode": "markers",
         "text": [
          "Finland",
          "Denmark",
          "Norway",
          "Iceland",
          "Netherlands",
          "Switzerland",
          "Sweden",
          "New Zealand",
          "Canada",
          "Austria",
          "Australia",
          "Costa Rica",
          "Israel",
          "Luxembourg",
          "United Kingdom",
          "Ireland",
          "Germany",
          "Belgium",
          "United States",
          "United Arab Emirates",
          "Malta",
          "Mexico",
          "France",
          "Chile",
          "Guatemala",
          "Saudi Arabia",
          "Spain",
          "Panama",
          "Brazil",
          "Uruguay",
          "Singapore",
          "El Salvador",
          "Italy",
          "Bahrain",
          "Slovakia",
          "Poland",
          "Uzbekistan",
          "Lithuania",
          "Colombia",
          "Slovenia",
          "Nicaragua",
          "Kosovo",
          "Argentina",
          "Romania",
          "Cyprus",
          "Ecuador",
          "Kuwait",
          "Thailand",
          "Latvia",
          "Estonia",
          "Jamaica",
          "Mauritius",
          "Japan",
          "Honduras",
          "Kazakhstan",
          "Bolivia",
          "Hungary",
          "Paraguay",
          "Peru",
          "Portugal",
          "Pakistan",
          "Russia",
          "Philippines",
          "Serbia",
          "Moldova",
          "Libya",
          "Montenegro",
          "Tajikistan",
          "Croatia",
          "Dominican Republic",
          "Bosnia and Herzegovina",
          "Turkey",
          "Malaysia",
          "Belarus",
          "Greece",
          "Mongolia",
          "Nigeria",
          "Kyrgyzstan",
          "Turkmenistan",
          "Algeria",
          "Morocco",
          "Azerbaijan",
          "Lebanon",
          "Indonesia",
          "China",
          "Vietnam",
          "Cameroon",
          "Bulgaria",
          "Ghana",
          "Nepal",
          "Jordan",
          "Benin",
          "Gabon",
          "South Africa",
          "Albania",
          "Venezuela",
          "Cambodia",
          "Senegal",
          "Niger",
          "Burkina Faso",
          "Armenia",
          "Iran",
          "Guinea",
          "Georgia",
          "Kenya",
          "Mauritania",
          "Tunisia",
          "Bangladesh",
          "Iraq",
          "Mali",
          "Sierra Leone",
          "Sri Lanka",
          "Myanmar",
          "Chad",
          "Ukraine",
          "Ethiopia",
          "Uganda",
          "Egypt",
          "Zambia",
          "Togo",
          "India",
          "Liberia",
          "Madagascar",
          "Burundi",
          "Zimbabwe",
          "Haiti",
          "Botswana",
          "Malawi",
          "Yemen",
          "Rwanda",
          "Tanzania",
          "Afghanistan"
         ],
         "type": "scatter",
         "x": [
          1.34,
          1.383,
          1.488,
          1.38,
          1.396,
          1.452,
          1.387,
          1.303,
          1.365,
          1.376,
          1.372,
          1.034,
          1.276,
          1.609,
          1.333,
          1.499,
          1.373,
          1.356,
          1.433,
          1.503,
          1.3,
          1.07,
          1.324,
          1.159,
          0.8,
          1.403,
          1.286,
          1.149,
          1.004,
          1.124,
          1.572,
          0.794,
          1.294,
          1.362,
          1.246,
          1.206,
          0.745,
          1.238,
          0.985,
          1.258,
          0.694,
          0.882,
          1.092,
          1.162,
          1.263,
          0.912,
          1.5,
          1.05,
          1.187,
          1.237,
          0.831,
          1.12,
          1.327,
          0.642,
          1.173,
          0.776,
          1.201,
          0.855,
          0.96,
          1.221,
          0.677,
          1.183,
          0.807,
          1.004,
          0.685,
          1.044,
          1.051,
          0.493,
          1.155,
          1.015,
          0.945,
          1.183,
          1.221,
          1.067,
          1.181,
          0.948,
          0.696,
          0.551,
          1.052,
          1.002,
          0.801,
          1.043,
          0.987,
          0.931,
          1.029,
          0.741,
          0.549,
          1.092,
          0.611,
          0.446,
          0.837,
          0.393,
          1.057,
          0.96,
          0.947,
          0.96,
          0.574,
          0.45,
          0.138,
          0.331,
          0.85,
          1.1,
          0.38,
          0.886,
          0.512,
          0.57,
          0.921,
          0.562,
          1.043,
          0.385,
          0.268,
          0.949,
          0.71,
          0.35,
          0.82,
          0.336,
          0.332,
          0.913,
          0.578,
          0.275,
          0.755,
          0.073,
          0.274,
          0.046,
          0.366,
          0.323,
          1.041,
          0.191,
          0.287,
          0.359,
          0.476,
          0.35
         ],
         "y": [
          0.57104,
          0.57941,
          0.59609,
          0.56624,
          0.55211,
          0.58557,
          0.58218,
          0.58147,
          0.5737,
          0.54355,
          0.56837,
          0.55225,
          0.36432,
          0.5487,
          0.50036,
          0.54008,
          0.53466,
          0.51354,
          0.48163,
          0.56215,
          0.54994,
          0.37709,
          0.46562,
          0.37789,
          0.50379,
          0.37904,
          0.37545,
          0.48927,
          0.40425,
          0.54388,
          0.4877,
          0.37269,
          0.18827,
          0.47375,
          0.23391,
          0.4519,
          0.60848,
          0.18929,
          0.44735,
          0.53164,
          0.46582,
          0.14396,
          0.42284,
          0.36712,
          0.29507,
          0.4027,
          0.43166,
          0.49553,
          0.27996,
          0.41511,
          0.43597,
          0.46145,
          0.46761,
          0.26755,
          0.4052,
          0.50961,
          0.1977,
          0.46235,
          0.37502,
          0.44727,
          0.14622,
          0.32682,
          0.54854,
          0.15718,
          0.25202,
          0.40672,
          0.15111,
          0.43408,
          0.23907,
          0.52259,
          0.09511,
          0.23889,
          0.39031,
          0.29091,
          0.05822,
          0.35972,
          0.27854,
          0.40212,
          0.37408,
          0.21006,
          0.25646,
          0.35327,
          0.26228,
          0.39237,
          0.44012,
          0.55954,
          0.42736,
          0.21219,
          0.40973,
          0.37012,
          0.36023,
          0.39747,
          0.28098,
          0.42483,
          0.31866,
          0.19847,
          0.58852,
          0.31056,
          0.38041,
          0.3337,
          0.14037,
          0.22544,
          0.30953,
          0.32461,
          0.40576,
          0.1268,
          0.23553,
          0.39778,
          0.24856,
          0.27544,
          0.30685,
          0.50817,
          0.42692,
          0.12807,
          0.12859,
          0.36703,
          0.43653,
          0.18847,
          0.42662,
          0.34678,
          0.40285,
          0.25748,
          0.13684,
          0.0432,
          0.25429,
          0.12072,
          0.44089,
          0.4143,
          0.2287,
          0.5432,
          0.3176,
          0.1643
         ]
        }
       ],
       "layout": {
        "template": {
         "data": {
          "bar": [
           {
            "error_x": {
             "color": "#2a3f5f"
            },
            "error_y": {
             "color": "#2a3f5f"
            },
            "marker": {
             "line": {
              "color": "#E5ECF6",
              "width": 0.5
             },
             "pattern": {
              "fillmode": "overlay",
              "size": 10,
              "solidity": 0.2
             }
            },
            "type": "bar"
           }
          ],
          "barpolar": [
           {
            "marker": {
             "line": {
              "color": "#E5ECF6",
              "width": 0.5
             },
             "pattern": {
              "fillmode": "overlay",
              "size": 10,
              "solidity": 0.2
             }
            },
            "type": "barpolar"
           }
          ],
          "carpet": [
           {
            "aaxis": {
             "endlinecolor": "#2a3f5f",
             "gridcolor": "white",
             "linecolor": "white",
             "minorgridcolor": "white",
             "startlinecolor": "#2a3f5f"
            },
            "baxis": {
             "endlinecolor": "#2a3f5f",
             "gridcolor": "white",
             "linecolor": "white",
             "minorgridcolor": "white",
             "startlinecolor": "#2a3f5f"
            },
            "type": "carpet"
           }
          ],
          "choropleth": [
           {
            "colorbar": {
             "outlinewidth": 0,
             "ticks": ""
            },
            "type": "choropleth"
           }
          ],
          "contour": [
           {
            "colorbar": {
             "outlinewidth": 0,
             "ticks": ""
            },
            "colorscale": [
             [
              0,
              "#0d0887"
             ],
             [
              0.1111111111111111,
              "#46039f"
             ],
             [
              0.2222222222222222,
              "#7201a8"
             ],
             [
              0.3333333333333333,
              "#9c179e"
             ],
             [
              0.4444444444444444,
              "#bd3786"
             ],
             [
              0.5555555555555556,
              "#d8576b"
             ],
             [
              0.6666666666666666,
              "#ed7953"
             ],
             [
              0.7777777777777778,
              "#fb9f3a"
             ],
             [
              0.8888888888888888,
              "#fdca26"
             ],
             [
              1,
              "#f0f921"
             ]
            ],
            "type": "contour"
           }
          ],
          "contourcarpet": [
           {
            "colorbar": {
             "outlinewidth": 0,
             "ticks": ""
            },
            "type": "contourcarpet"
           }
          ],
          "heatmap": [
           {
            "colorbar": {
             "outlinewidth": 0,
             "ticks": ""
            },
            "colorscale": [
             [
              0,
              "#0d0887"
             ],
             [
              0.1111111111111111,
              "#46039f"
             ],
             [
              0.2222222222222222,
              "#7201a8"
             ],
             [
              0.3333333333333333,
              "#9c179e"
             ],
             [
              0.4444444444444444,
              "#bd3786"
             ],
             [
              0.5555555555555556,
              "#d8576b"
             ],
             [
              0.6666666666666666,
              "#ed7953"
             ],
             [
              0.7777777777777778,
              "#fb9f3a"
             ],
             [
              0.8888888888888888,
              "#fdca26"
             ],
             [
              1,
              "#f0f921"
             ]
            ],
            "type": "heatmap"
           }
          ],
          "heatmapgl": [
           {
            "colorbar": {
             "outlinewidth": 0,
             "ticks": ""
            },
            "colorscale": [
             [
              0,
              "#0d0887"
             ],
             [
              0.1111111111111111,
              "#46039f"
             ],
             [
              0.2222222222222222,
              "#7201a8"
             ],
             [
              0.3333333333333333,
              "#9c179e"
             ],
             [
              0.4444444444444444,
              "#bd3786"
             ],
             [
              0.5555555555555556,
              "#d8576b"
             ],
             [
              0.6666666666666666,
              "#ed7953"
             ],
             [
              0.7777777777777778,
              "#fb9f3a"
             ],
             [
              0.8888888888888888,
              "#fdca26"
             ],
             [
              1,
              "#f0f921"
             ]
            ],
            "type": "heatmapgl"
           }
          ],
          "histogram": [
           {
            "marker": {
             "pattern": {
              "fillmode": "overlay",
              "size": 10,
              "solidity": 0.2
             }
            },
            "type": "histogram"
           }
          ],
          "histogram2d": [
           {
            "colorbar": {
             "outlinewidth": 0,
             "ticks": ""
            },
            "colorscale": [
             [
              0,
              "#0d0887"
             ],
             [
              0.1111111111111111,
              "#46039f"
             ],
             [
              0.2222222222222222,
              "#7201a8"
             ],
             [
              0.3333333333333333,
              "#9c179e"
             ],
             [
              0.4444444444444444,
              "#bd3786"
             ],
             [
              0.5555555555555556,
              "#d8576b"
             ],
             [
              0.6666666666666666,
              "#ed7953"
             ],
             [
              0.7777777777777778,
              "#fb9f3a"
             ],
             [
              0.8888888888888888,
              "#fdca26"
             ],
             [
              1,
              "#f0f921"
             ]
            ],
            "type": "histogram2d"
           }
          ],
          "histogram2dcontour": [
           {
            "colorbar": {
             "outlinewidth": 0,
             "ticks": ""
            },
            "colorscale": [
             [
              0,
              "#0d0887"
             ],
             [
              0.1111111111111111,
              "#46039f"
             ],
             [
              0.2222222222222222,
              "#7201a8"
             ],
             [
              0.3333333333333333,
              "#9c179e"
             ],
             [
              0.4444444444444444,
              "#bd3786"
             ],
             [
              0.5555555555555556,
              "#d8576b"
             ],
             [
              0.6666666666666666,
              "#ed7953"
             ],
             [
              0.7777777777777778,
              "#fb9f3a"
             ],
             [
              0.8888888888888888,
              "#fdca26"
             ],
             [
              1,
              "#f0f921"
             ]
            ],
            "type": "histogram2dcontour"
           }
          ],
          "mesh3d": [
           {
            "colorbar": {
             "outlinewidth": 0,
             "ticks": ""
            },
            "type": "mesh3d"
           }
          ],
          "parcoords": [
           {
            "line": {
             "colorbar": {
              "outlinewidth": 0,
              "ticks": ""
             }
            },
            "type": "parcoords"
           }
          ],
          "pie": [
           {
            "automargin": true,
            "type": "pie"
           }
          ],
          "scatter": [
           {
            "fillpattern": {
             "fillmode": "overlay",
             "size": 10,
             "solidity": 0.2
            },
            "type": "scatter"
           }
          ],
          "scatter3d": [
           {
            "line": {
             "colorbar": {
              "outlinewidth": 0,
              "ticks": ""
             }
            },
            "marker": {
             "colorbar": {
              "outlinewidth": 0,
              "ticks": ""
             }
            },
            "type": "scatter3d"
           }
          ],
          "scattercarpet": [
           {
            "marker": {
             "colorbar": {
              "outlinewidth": 0,
              "ticks": ""
             }
            },
            "type": "scattercarpet"
           }
          ],
          "scattergeo": [
           {
            "marker": {
             "colorbar": {
              "outlinewidth": 0,
              "ticks": ""
             }
            },
            "type": "scattergeo"
           }
          ],
          "scattergl": [
           {
            "marker": {
             "colorbar": {
              "outlinewidth": 0,
              "ticks": ""
             }
            },
            "type": "scattergl"
           }
          ],
          "scattermapbox": [
           {
            "marker": {
             "colorbar": {
              "outlinewidth": 0,
              "ticks": ""
             }
            },
            "type": "scattermapbox"
           }
          ],
          "scatterpolar": [
           {
            "marker": {
             "colorbar": {
              "outlinewidth": 0,
              "ticks": ""
             }
            },
            "type": "scatterpolar"
           }
          ],
          "scatterpolargl": [
           {
            "marker": {
             "colorbar": {
              "outlinewidth": 0,
              "ticks": ""
             }
            },
            "type": "scatterpolargl"
           }
          ],
          "scatterternary": [
           {
            "marker": {
             "colorbar": {
              "outlinewidth": 0,
              "ticks": ""
             }
            },
            "type": "scatterternary"
           }
          ],
          "surface": [
           {
            "colorbar": {
             "outlinewidth": 0,
             "ticks": ""
            },
            "colorscale": [
             [
              0,
              "#0d0887"
             ],
             [
              0.1111111111111111,
              "#46039f"
             ],
             [
              0.2222222222222222,
              "#7201a8"
             ],
             [
              0.3333333333333333,
              "#9c179e"
             ],
             [
              0.4444444444444444,
              "#bd3786"
             ],
             [
              0.5555555555555556,
              "#d8576b"
             ],
             [
              0.6666666666666666,
              "#ed7953"
             ],
             [
              0.7777777777777778,
              "#fb9f3a"
             ],
             [
              0.8888888888888888,
              "#fdca26"
             ],
             [
              1,
              "#f0f921"
             ]
            ],
            "type": "surface"
           }
          ],
          "table": [
           {
            "cells": {
             "fill": {
              "color": "#EBF0F8"
             },
             "line": {
              "color": "white"
             }
            },
            "header": {
             "fill": {
              "color": "#C8D4E3"
             },
             "line": {
              "color": "white"
             }
            },
            "type": "table"
           }
          ]
         },
         "layout": {
          "annotationdefaults": {
           "arrowcolor": "#2a3f5f",
           "arrowhead": 0,
           "arrowwidth": 1
          },
          "autotypenumbers": "strict",
          "coloraxis": {
           "colorbar": {
            "outlinewidth": 0,
            "ticks": ""
           }
          },
          "colorscale": {
           "diverging": [
            [
             0,
             "#8e0152"
            ],
            [
             0.1,
             "#c51b7d"
            ],
            [
             0.2,
             "#de77ae"
            ],
            [
             0.3,
             "#f1b6da"
            ],
            [
             0.4,
             "#fde0ef"
            ],
            [
             0.5,
             "#f7f7f7"
            ],
            [
             0.6,
             "#e6f5d0"
            ],
            [
             0.7,
             "#b8e186"
            ],
            [
             0.8,
             "#7fbc41"
            ],
            [
             0.9,
             "#4d9221"
            ],
            [
             1,
             "#276419"
            ]
           ],
           "sequential": [
            [
             0,
             "#0d0887"
            ],
            [
             0.1111111111111111,
             "#46039f"
            ],
            [
             0.2222222222222222,
             "#7201a8"
            ],
            [
             0.3333333333333333,
             "#9c179e"
            ],
            [
             0.4444444444444444,
             "#bd3786"
            ],
            [
             0.5555555555555556,
             "#d8576b"
            ],
            [
             0.6666666666666666,
             "#ed7953"
            ],
            [
             0.7777777777777778,
             "#fb9f3a"
            ],
            [
             0.8888888888888888,
             "#fdca26"
            ],
            [
             1,
             "#f0f921"
            ]
           ],
           "sequentialminus": [
            [
             0,
             "#0d0887"
            ],
            [
             0.1111111111111111,
             "#46039f"
            ],
            [
             0.2222222222222222,
             "#7201a8"
            ],
            [
             0.3333333333333333,
             "#9c179e"
            ],
            [
             0.4444444444444444,
             "#bd3786"
            ],
            [
             0.5555555555555556,
             "#d8576b"
            ],
            [
             0.6666666666666666,
             "#ed7953"
            ],
            [
             0.7777777777777778,
             "#fb9f3a"
            ],
            [
             0.8888888888888888,
             "#fdca26"
            ],
            [
             1,
             "#f0f921"
            ]
           ]
          },
          "colorway": [
           "#636efa",
           "#EF553B",
           "#00cc96",
           "#ab63fa",
           "#FFA15A",
           "#19d3f3",
           "#FF6692",
           "#B6E880",
           "#FF97FF",
           "#FECB52"
          ],
          "font": {
           "color": "#2a3f5f"
          },
          "geo": {
           "bgcolor": "white",
           "lakecolor": "white",
           "landcolor": "#E5ECF6",
           "showlakes": true,
           "showland": true,
           "subunitcolor": "white"
          },
          "hoverlabel": {
           "align": "left"
          },
          "hovermode": "closest",
          "mapbox": {
           "style": "light"
          },
          "paper_bgcolor": "white",
          "plot_bgcolor": "#E5ECF6",
          "polar": {
           "angularaxis": {
            "gridcolor": "white",
            "linecolor": "white",
            "ticks": ""
           },
           "bgcolor": "#E5ECF6",
           "radialaxis": {
            "gridcolor": "white",
            "linecolor": "white",
            "ticks": ""
           }
          },
          "scene": {
           "xaxis": {
            "backgroundcolor": "#E5ECF6",
            "gridcolor": "white",
            "gridwidth": 2,
            "linecolor": "white",
            "showbackground": true,
            "ticks": "",
            "zerolinecolor": "white"
           },
           "yaxis": {
            "backgroundcolor": "#E5ECF6",
            "gridcolor": "white",
            "gridwidth": 2,
            "linecolor": "white",
            "showbackground": true,
            "ticks": "",
            "zerolinecolor": "white"
           },
           "zaxis": {
            "backgroundcolor": "#E5ECF6",
            "gridcolor": "white",
            "gridwidth": 2,
            "linecolor": "white",
            "showbackground": true,
            "ticks": "",
            "zerolinecolor": "white"
           }
          },
          "shapedefaults": {
           "line": {
            "color": "#2a3f5f"
           }
          },
          "ternary": {
           "aaxis": {
            "gridcolor": "white",
            "linecolor": "white",
            "ticks": ""
           },
           "baxis": {
            "gridcolor": "white",
            "linecolor": "white",
            "ticks": ""
           },
           "bgcolor": "#E5ECF6",
           "caxis": {
            "gridcolor": "white",
            "linecolor": "white",
            "ticks": ""
           }
          },
          "title": {
           "x": 0.05
          },
          "xaxis": {
           "automargin": true,
           "gridcolor": "white",
           "linecolor": "white",
           "ticks": "",
           "title": {
            "standoff": 15
           },
           "zerolinecolor": "white",
           "zerolinewidth": 2
          },
          "yaxis": {
           "automargin": true,
           "gridcolor": "white",
           "linecolor": "white",
           "ticks": "",
           "title": {
            "standoff": 15
           },
           "zerolinecolor": "white",
           "zerolinewidth": 2
          }
         }
        },
        "title": {
         "text": "GDP per capita en geluksscore"
        },
        "xaxis": {
         "title": {
          "text": "GDP per capita"
         }
        },
        "yaxis": {
         "title": {
          "text": "Vrijheid"
         }
        }
       }
      },
      "text/html": [
       "<div>                            <div id=\"31d449d1-eb1b-4230-b090-d1f85e7a1251\" class=\"plotly-graph-div\" style=\"height:525px; width:100%;\"></div>            <script type=\"text/javascript\">                require([\"plotly\"], function(Plotly) {                    window.PLOTLYENV=window.PLOTLYENV || {};                                    if (document.getElementById(\"31d449d1-eb1b-4230-b090-d1f85e7a1251\")) {                    Plotly.newPlot(                        \"31d449d1-eb1b-4230-b090-d1f85e7a1251\",                        [{\"marker\":{\"color\":[7.413,7.526,7.498,7.501,7.339,7.509,7.291,7.334,7.404,7.119,7.313,7.087,7.267,6.871,6.725,6.907,6.994,6.929,7.104,6.573,6.488,6.778,6.478,6.705,6.324,6.379,6.361,6.701,6.952,6.545,6.739,6.068,5.977,6.218,6.078,5.835,5.987,5.813,6.481,5.768,5.992,5.401,6.65,5.528,5.546,5.976,6.239,6.474,5.56,5.517,5.51,5.648,5.921,4.871,5.919,5.822,5.145,5.538,5.743,5.123,5.132,5.856,5.279,5.177,5.897,5.615,5.161,4.996,5.488,5.155,5.163,5.389,6.005,5.802,5.033,4.907,4.875,5.185,5.658,6.355,5.151,5.291,5.129,5.314,5.245,5.061,4.513,4.217,4.276,4.793,5.303,3.484,4.121,4.459,4.655,6.084,3.907,4.219,3.856,3.739,4.36,4.813,3.607,4.252,4.356,4.201,5.045,4.643,4.575,4.073,4.635,4.415,4.395,3.763,4.324,4.508,3.739,4.362,4.795,3.303,4.404,3.622,3.695,2.905,4.193,4.028,3.974,4.156,3.724,3.515,3.666,3.36],\"colorbar\":{\"title\":{\"text\":\"Geluksscore\"}},\"colorscale\":[[0,\"#0000ff\"],[0.25,\"#9400d3\"],[0.5,\"#ff69b4\"],[0.75,\"#ffa500\"],[1,\"#ffff00\"]],\"showscale\":true,\"size\":[74.13,75.25999999999999,74.98,75.01,73.39,75.09,72.91,73.34,74.03999999999999,71.19,73.13,70.87,72.67,68.71000000000001,67.25,69.07,69.94,69.29,71.04,65.73,64.88000000000001,67.78,64.78,67.05,63.239999999999995,63.78999999999999,63.61,67.00999999999999,69.52,65.45,67.39,60.67999999999999,59.77,62.18,60.78,58.35,59.870000000000005,58.129999999999995,64.81,57.68,59.92,54.01,66.5,55.279999999999994,55.46,59.76,62.39,64.74000000000001,55.599999999999994,55.17,55.099999999999994,56.48,59.21,48.71000000000001,59.19,58.22,51.449999999999996,55.38,57.43000000000001,51.230000000000004,51.31999999999999,58.56,52.79,51.769999999999996,58.97,56.150000000000006,51.61,49.96000000000001,54.88,51.550000000000004,51.63,53.89,60.05,58.019999999999996,50.330000000000005,49.07,48.75,51.849999999999994,56.580000000000005,63.550000000000004,51.51,52.910000000000004,51.28999999999999,53.14,52.45,50.61,45.129999999999995,42.169999999999995,42.76,47.93,53.03,34.84,41.21000000000001,44.589999999999996,46.550000000000004,60.839999999999996,39.07,42.190000000000005,38.56,37.39,43.6,48.129999999999995,36.07,42.519999999999996,43.56,42.01,50.45,46.43,45.75,40.730000000000004,46.349999999999994,44.15,43.949999999999996,37.629999999999995,43.239999999999995,45.08,37.39,43.620000000000005,47.95,33.03,44.04,36.22,36.949999999999996,29.049999999999997,41.92999999999999,40.279999999999994,39.74,41.559999999999995,37.24,35.15,36.66,33.6]},\"mode\":\"markers\",\"text\":[\"Finland\",\"Denmark\",\"Norway\",\"Iceland\",\"Netherlands\",\"Switzerland\",\"Sweden\",\"New Zealand\",\"Canada\",\"Austria\",\"Australia\",\"Costa Rica\",\"Israel\",\"Luxembourg\",\"United Kingdom\",\"Ireland\",\"Germany\",\"Belgium\",\"United States\",\"United Arab Emirates\",\"Malta\",\"Mexico\",\"France\",\"Chile\",\"Guatemala\",\"Saudi Arabia\",\"Spain\",\"Panama\",\"Brazil\",\"Uruguay\",\"Singapore\",\"El Salvador\",\"Italy\",\"Bahrain\",\"Slovakia\",\"Poland\",\"Uzbekistan\",\"Lithuania\",\"Colombia\",\"Slovenia\",\"Nicaragua\",\"Kosovo\",\"Argentina\",\"Romania\",\"Cyprus\",\"Ecuador\",\"Kuwait\",\"Thailand\",\"Latvia\",\"Estonia\",\"Jamaica\",\"Mauritius\",\"Japan\",\"Honduras\",\"Kazakhstan\",\"Bolivia\",\"Hungary\",\"Paraguay\",\"Peru\",\"Portugal\",\"Pakistan\",\"Russia\",\"Philippines\",\"Serbia\",\"Moldova\",\"Libya\",\"Montenegro\",\"Tajikistan\",\"Croatia\",\"Dominican Republic\",\"Bosnia and Herzegovina\",\"Turkey\",\"Malaysia\",\"Belarus\",\"Greece\",\"Mongolia\",\"Nigeria\",\"Kyrgyzstan\",\"Turkmenistan\",\"Algeria\",\"Morocco\",\"Azerbaijan\",\"Lebanon\",\"Indonesia\",\"China\",\"Vietnam\",\"Cameroon\",\"Bulgaria\",\"Ghana\",\"Nepal\",\"Jordan\",\"Benin\",\"Gabon\",\"South Africa\",\"Albania\",\"Venezuela\",\"Cambodia\",\"Senegal\",\"Niger\",\"Burkina Faso\",\"Armenia\",\"Iran\",\"Guinea\",\"Georgia\",\"Kenya\",\"Mauritania\",\"Tunisia\",\"Bangladesh\",\"Iraq\",\"Mali\",\"Sierra Leone\",\"Sri Lanka\",\"Myanmar\",\"Chad\",\"Ukraine\",\"Ethiopia\",\"Uganda\",\"Egypt\",\"Zambia\",\"Togo\",\"India\",\"Liberia\",\"Madagascar\",\"Burundi\",\"Zimbabwe\",\"Haiti\",\"Botswana\",\"Malawi\",\"Yemen\",\"Rwanda\",\"Tanzania\",\"Afghanistan\"],\"x\":[1.34,1.383,1.488,1.38,1.396,1.452,1.387,1.303,1.365,1.376,1.372,1.034,1.276,1.609,1.333,1.499,1.373,1.356,1.433,1.503,1.3,1.07,1.324,1.159,0.8,1.403,1.286,1.149,1.004,1.124,1.572,0.794,1.294,1.362,1.246,1.206,0.745,1.238,0.985,1.258,0.694,0.882,1.092,1.162,1.263,0.912,1.5,1.05,1.187,1.237,0.831,1.12,1.327,0.642,1.173,0.776,1.201,0.855,0.96,1.221,0.677,1.183,0.807,1.004,0.685,1.044,1.051,0.493,1.155,1.015,0.945,1.183,1.221,1.067,1.181,0.948,0.696,0.551,1.052,1.002,0.801,1.043,0.987,0.931,1.029,0.741,0.549,1.092,0.611,0.446,0.837,0.393,1.057,0.96,0.947,0.96,0.574,0.45,0.138,0.331,0.85,1.1,0.38,0.886,0.512,0.57,0.921,0.562,1.043,0.385,0.268,0.949,0.71,0.35,0.82,0.336,0.332,0.913,0.578,0.275,0.755,0.073,0.274,0.046,0.366,0.323,1.041,0.191,0.287,0.359,0.476,0.35],\"y\":[0.57104,0.57941,0.59609,0.56624,0.55211,0.58557,0.58218,0.58147,0.5737,0.54355,0.56837,0.55225,0.36432,0.5487,0.50036,0.54008,0.53466,0.51354,0.48163,0.56215,0.54994,0.37709,0.46562,0.37789,0.50379,0.37904,0.37545,0.48927,0.40425,0.54388,0.4877,0.37269,0.18827,0.47375,0.23391,0.4519,0.60848,0.18929,0.44735,0.53164,0.46582,0.14396,0.42284,0.36712,0.29507,0.4027,0.43166,0.49553,0.27996,0.41511,0.43597,0.46145,0.46761,0.26755,0.4052,0.50961,0.1977,0.46235,0.37502,0.44727,0.14622,0.32682,0.54854,0.15718,0.25202,0.40672,0.15111,0.43408,0.23907,0.52259,0.09511,0.23889,0.39031,0.29091,0.05822,0.35972,0.27854,0.40212,0.37408,0.21006,0.25646,0.35327,0.26228,0.39237,0.44012,0.55954,0.42736,0.21219,0.40973,0.37012,0.36023,0.39747,0.28098,0.42483,0.31866,0.19847,0.58852,0.31056,0.38041,0.3337,0.14037,0.22544,0.30953,0.32461,0.40576,0.1268,0.23553,0.39778,0.24856,0.27544,0.30685,0.50817,0.42692,0.12807,0.12859,0.36703,0.43653,0.18847,0.42662,0.34678,0.40285,0.25748,0.13684,0.0432,0.25429,0.12072,0.44089,0.4143,0.2287,0.5432,0.3176,0.1643],\"type\":\"scatter\"}],                        {\"template\":{\"data\":{\"histogram2dcontour\":[{\"type\":\"histogram2dcontour\",\"colorbar\":{\"outlinewidth\":0,\"ticks\":\"\"},\"colorscale\":[[0.0,\"#0d0887\"],[0.1111111111111111,\"#46039f\"],[0.2222222222222222,\"#7201a8\"],[0.3333333333333333,\"#9c179e\"],[0.4444444444444444,\"#bd3786\"],[0.5555555555555556,\"#d8576b\"],[0.6666666666666666,\"#ed7953\"],[0.7777777777777778,\"#fb9f3a\"],[0.8888888888888888,\"#fdca26\"],[1.0,\"#f0f921\"]]}],\"choropleth\":[{\"type\":\"choropleth\",\"colorbar\":{\"outlinewidth\":0,\"ticks\":\"\"}}],\"histogram2d\":[{\"type\":\"histogram2d\",\"colorbar\":{\"outlinewidth\":0,\"ticks\":\"\"},\"colorscale\":[[0.0,\"#0d0887\"],[0.1111111111111111,\"#46039f\"],[0.2222222222222222,\"#7201a8\"],[0.3333333333333333,\"#9c179e\"],[0.4444444444444444,\"#bd3786\"],[0.5555555555555556,\"#d8576b\"],[0.6666666666666666,\"#ed7953\"],[0.7777777777777778,\"#fb9f3a\"],[0.8888888888888888,\"#fdca26\"],[1.0,\"#f0f921\"]]}],\"heatmap\":[{\"type\":\"heatmap\",\"colorbar\":{\"outlinewidth\":0,\"ticks\":\"\"},\"colorscale\":[[0.0,\"#0d0887\"],[0.1111111111111111,\"#46039f\"],[0.2222222222222222,\"#7201a8\"],[0.3333333333333333,\"#9c179e\"],[0.4444444444444444,\"#bd3786\"],[0.5555555555555556,\"#d8576b\"],[0.6666666666666666,\"#ed7953\"],[0.7777777777777778,\"#fb9f3a\"],[0.8888888888888888,\"#fdca26\"],[1.0,\"#f0f921\"]]}],\"heatmapgl\":[{\"type\":\"heatmapgl\",\"colorbar\":{\"outlinewidth\":0,\"ticks\":\"\"},\"colorscale\":[[0.0,\"#0d0887\"],[0.1111111111111111,\"#46039f\"],[0.2222222222222222,\"#7201a8\"],[0.3333333333333333,\"#9c179e\"],[0.4444444444444444,\"#bd3786\"],[0.5555555555555556,\"#d8576b\"],[0.6666666666666666,\"#ed7953\"],[0.7777777777777778,\"#fb9f3a\"],[0.8888888888888888,\"#fdca26\"],[1.0,\"#f0f921\"]]}],\"contourcarpet\":[{\"type\":\"contourcarpet\",\"colorbar\":{\"outlinewidth\":0,\"ticks\":\"\"}}],\"contour\":[{\"type\":\"contour\",\"colorbar\":{\"outlinewidth\":0,\"ticks\":\"\"},\"colorscale\":[[0.0,\"#0d0887\"],[0.1111111111111111,\"#46039f\"],[0.2222222222222222,\"#7201a8\"],[0.3333333333333333,\"#9c179e\"],[0.4444444444444444,\"#bd3786\"],[0.5555555555555556,\"#d8576b\"],[0.6666666666666666,\"#ed7953\"],[0.7777777777777778,\"#fb9f3a\"],[0.8888888888888888,\"#fdca26\"],[1.0,\"#f0f921\"]]}],\"surface\":[{\"type\":\"surface\",\"colorbar\":{\"outlinewidth\":0,\"ticks\":\"\"},\"colorscale\":[[0.0,\"#0d0887\"],[0.1111111111111111,\"#46039f\"],[0.2222222222222222,\"#7201a8\"],[0.3333333333333333,\"#9c179e\"],[0.4444444444444444,\"#bd3786\"],[0.5555555555555556,\"#d8576b\"],[0.6666666666666666,\"#ed7953\"],[0.7777777777777778,\"#fb9f3a\"],[0.8888888888888888,\"#fdca26\"],[1.0,\"#f0f921\"]]}],\"mesh3d\":[{\"type\":\"mesh3d\",\"colorbar\":{\"outlinewidth\":0,\"ticks\":\"\"}}],\"scatter\":[{\"fillpattern\":{\"fillmode\":\"overlay\",\"size\":10,\"solidity\":0.2},\"type\":\"scatter\"}],\"parcoords\":[{\"type\":\"parcoords\",\"line\":{\"colorbar\":{\"outlinewidth\":0,\"ticks\":\"\"}}}],\"scatterpolargl\":[{\"type\":\"scatterpolargl\",\"marker\":{\"colorbar\":{\"outlinewidth\":0,\"ticks\":\"\"}}}],\"bar\":[{\"error_x\":{\"color\":\"#2a3f5f\"},\"error_y\":{\"color\":\"#2a3f5f\"},\"marker\":{\"line\":{\"color\":\"#E5ECF6\",\"width\":0.5},\"pattern\":{\"fillmode\":\"overlay\",\"size\":10,\"solidity\":0.2}},\"type\":\"bar\"}],\"scattergeo\":[{\"type\":\"scattergeo\",\"marker\":{\"colorbar\":{\"outlinewidth\":0,\"ticks\":\"\"}}}],\"scatterpolar\":[{\"type\":\"scatterpolar\",\"marker\":{\"colorbar\":{\"outlinewidth\":0,\"ticks\":\"\"}}}],\"histogram\":[{\"marker\":{\"pattern\":{\"fillmode\":\"overlay\",\"size\":10,\"solidity\":0.2}},\"type\":\"histogram\"}],\"scattergl\":[{\"type\":\"scattergl\",\"marker\":{\"colorbar\":{\"outlinewidth\":0,\"ticks\":\"\"}}}],\"scatter3d\":[{\"type\":\"scatter3d\",\"line\":{\"colorbar\":{\"outlinewidth\":0,\"ticks\":\"\"}},\"marker\":{\"colorbar\":{\"outlinewidth\":0,\"ticks\":\"\"}}}],\"scattermapbox\":[{\"type\":\"scattermapbox\",\"marker\":{\"colorbar\":{\"outlinewidth\":0,\"ticks\":\"\"}}}],\"scatterternary\":[{\"type\":\"scatterternary\",\"marker\":{\"colorbar\":{\"outlinewidth\":0,\"ticks\":\"\"}}}],\"scattercarpet\":[{\"type\":\"scattercarpet\",\"marker\":{\"colorbar\":{\"outlinewidth\":0,\"ticks\":\"\"}}}],\"carpet\":[{\"aaxis\":{\"endlinecolor\":\"#2a3f5f\",\"gridcolor\":\"white\",\"linecolor\":\"white\",\"minorgridcolor\":\"white\",\"startlinecolor\":\"#2a3f5f\"},\"baxis\":{\"endlinecolor\":\"#2a3f5f\",\"gridcolor\":\"white\",\"linecolor\":\"white\",\"minorgridcolor\":\"white\",\"startlinecolor\":\"#2a3f5f\"},\"type\":\"carpet\"}],\"table\":[{\"cells\":{\"fill\":{\"color\":\"#EBF0F8\"},\"line\":{\"color\":\"white\"}},\"header\":{\"fill\":{\"color\":\"#C8D4E3\"},\"line\":{\"color\":\"white\"}},\"type\":\"table\"}],\"barpolar\":[{\"marker\":{\"line\":{\"color\":\"#E5ECF6\",\"width\":0.5},\"pattern\":{\"fillmode\":\"overlay\",\"size\":10,\"solidity\":0.2}},\"type\":\"barpolar\"}],\"pie\":[{\"automargin\":true,\"type\":\"pie\"}]},\"layout\":{\"autotypenumbers\":\"strict\",\"colorway\":[\"#636efa\",\"#EF553B\",\"#00cc96\",\"#ab63fa\",\"#FFA15A\",\"#19d3f3\",\"#FF6692\",\"#B6E880\",\"#FF97FF\",\"#FECB52\"],\"font\":{\"color\":\"#2a3f5f\"},\"hovermode\":\"closest\",\"hoverlabel\":{\"align\":\"left\"},\"paper_bgcolor\":\"white\",\"plot_bgcolor\":\"#E5ECF6\",\"polar\":{\"bgcolor\":\"#E5ECF6\",\"angularaxis\":{\"gridcolor\":\"white\",\"linecolor\":\"white\",\"ticks\":\"\"},\"radialaxis\":{\"gridcolor\":\"white\",\"linecolor\":\"white\",\"ticks\":\"\"}},\"ternary\":{\"bgcolor\":\"#E5ECF6\",\"aaxis\":{\"gridcolor\":\"white\",\"linecolor\":\"white\",\"ticks\":\"\"},\"baxis\":{\"gridcolor\":\"white\",\"linecolor\":\"white\",\"ticks\":\"\"},\"caxis\":{\"gridcolor\":\"white\",\"linecolor\":\"white\",\"ticks\":\"\"}},\"coloraxis\":{\"colorbar\":{\"outlinewidth\":0,\"ticks\":\"\"}},\"colorscale\":{\"sequential\":[[0.0,\"#0d0887\"],[0.1111111111111111,\"#46039f\"],[0.2222222222222222,\"#7201a8\"],[0.3333333333333333,\"#9c179e\"],[0.4444444444444444,\"#bd3786\"],[0.5555555555555556,\"#d8576b\"],[0.6666666666666666,\"#ed7953\"],[0.7777777777777778,\"#fb9f3a\"],[0.8888888888888888,\"#fdca26\"],[1.0,\"#f0f921\"]],\"sequentialminus\":[[0.0,\"#0d0887\"],[0.1111111111111111,\"#46039f\"],[0.2222222222222222,\"#7201a8\"],[0.3333333333333333,\"#9c179e\"],[0.4444444444444444,\"#bd3786\"],[0.5555555555555556,\"#d8576b\"],[0.6666666666666666,\"#ed7953\"],[0.7777777777777778,\"#fb9f3a\"],[0.8888888888888888,\"#fdca26\"],[1.0,\"#f0f921\"]],\"diverging\":[[0,\"#8e0152\"],[0.1,\"#c51b7d\"],[0.2,\"#de77ae\"],[0.3,\"#f1b6da\"],[0.4,\"#fde0ef\"],[0.5,\"#f7f7f7\"],[0.6,\"#e6f5d0\"],[0.7,\"#b8e186\"],[0.8,\"#7fbc41\"],[0.9,\"#4d9221\"],[1,\"#276419\"]]},\"xaxis\":{\"gridcolor\":\"white\",\"linecolor\":\"white\",\"ticks\":\"\",\"title\":{\"standoff\":15},\"zerolinecolor\":\"white\",\"automargin\":true,\"zerolinewidth\":2},\"yaxis\":{\"gridcolor\":\"white\",\"linecolor\":\"white\",\"ticks\":\"\",\"title\":{\"standoff\":15},\"zerolinecolor\":\"white\",\"automargin\":true,\"zerolinewidth\":2},\"scene\":{\"xaxis\":{\"backgroundcolor\":\"#E5ECF6\",\"gridcolor\":\"white\",\"linecolor\":\"white\",\"showbackground\":true,\"ticks\":\"\",\"zerolinecolor\":\"white\",\"gridwidth\":2},\"yaxis\":{\"backgroundcolor\":\"#E5ECF6\",\"gridcolor\":\"white\",\"linecolor\":\"white\",\"showbackground\":true,\"ticks\":\"\",\"zerolinecolor\":\"white\",\"gridwidth\":2},\"zaxis\":{\"backgroundcolor\":\"#E5ECF6\",\"gridcolor\":\"white\",\"linecolor\":\"white\",\"showbackground\":true,\"ticks\":\"\",\"zerolinecolor\":\"white\",\"gridwidth\":2}},\"shapedefaults\":{\"line\":{\"color\":\"#2a3f5f\"}},\"annotationdefaults\":{\"arrowcolor\":\"#2a3f5f\",\"arrowhead\":0,\"arrowwidth\":1},\"geo\":{\"bgcolor\":\"white\",\"landcolor\":\"#E5ECF6\",\"subunitcolor\":\"white\",\"showland\":true,\"showlakes\":true,\"lakecolor\":\"white\"},\"title\":{\"x\":0.05},\"mapbox\":{\"style\":\"light\"}}},\"title\":{\"text\":\"GDP per capita en geluksscore\"},\"xaxis\":{\"title\":{\"text\":\"GDP per capita\"}},\"yaxis\":{\"title\":{\"text\":\"Vrijheid\"}}},                        {\"responsive\": true}                    ).then(function(){\n",
       "                            \n",
       "var gd = document.getElementById('31d449d1-eb1b-4230-b090-d1f85e7a1251');\n",
       "var x = new MutationObserver(function (mutations, observer) {{\n",
       "        var display = window.getComputedStyle(gd).display;\n",
       "        if (!display || display === 'none') {{\n",
       "            console.log([gd, 'removed!']);\n",
       "            Plotly.purge(gd);\n",
       "            observer.disconnect();\n",
       "        }}\n",
       "}});\n",
       "\n",
       "// Listen for the removal of the full notebook cells\n",
       "var notebookContainer = gd.closest('#notebook-container');\n",
       "if (notebookContainer) {{\n",
       "    x.observe(notebookContainer, {childList: true});\n",
       "}}\n",
       "\n",
       "// Listen for the clearing of the current output cell\n",
       "var outputEl = gd.closest('.output');\n",
       "if (outputEl) {{\n",
       "    x.observe(outputEl, {childList: true});\n",
       "}}\n",
       "\n",
       "                        })                };                });            </script>        </div>"
      ]
     },
     "metadata": {},
     "output_type": "display_data"
    }
   ],
   "source": [
    "import pandas as pd\n",
    "import plotly.graph_objects as go\n",
    "\n",
    "# Lees het CSV-bestand met gegevens over landen\n",
    "df = pd.read_csv(r\"C:\\Users\\tatum\\Downloads\\merged_df_happy_2019.csv\")\n",
    "\n",
    "# Creëer de grafiek met behulp van Plotly\n",
    "fig = go.Figure(data=go.Scatter(\n",
    "    x=df['GDP per capita'],\n",
    "    y=df['freedom'],\n",
    "    mode='markers',\n",
    "    text=df['Country'],\n",
    "    marker=dict(\n",
    "        size=df['happiness_score']*10,\n",
    "        color=df['happiness_score'],\n",
    "        colorscale=[[0, '#0000ff'], [0.25, '#9400d3'], [0.5, '#ff69b4'], [0.75, '#ffa500'], [1, '#ffff00']],\n",
    "        showscale=True,\n",
    "        colorbar=dict(\n",
    "            title='Geluksscore'\n",
    "        )\n",
    "    )\n",
    "))\n",
    "\n",
    "# Pas de opmaak van de grafiek aan\n",
    "fig.update_layout(\n",
    "    title='GDP per capita en geluksscore',\n",
    "    xaxis=dict(\n",
    "        title='GDP per capita'\n",
    "    ),\n",
    "    yaxis=dict(\n",
    "        title='Vrijheid'\n",
    "    )\n",
    ")\n",
    "\n",
    "# Toon de interactieve grafiek\n",
    "fig.show()\n"
   ]
  },
  {
   "cell_type": "raw",
   "id": "e32aebee",
   "metadata": {},
   "source": [
    "Grafiek 3: "
   ]
  },
  {
   "cell_type": "code",
   "execution_count": 53,
   "id": "ee7385be",
   "metadata": {
    "scrolled": true
   },
   "outputs": [
    {
     "data": {
      "application/vnd.plotly.v1+json": {
       "config": {
        "plotlyServerURL": "https://plot.ly"
       },
       "data": [
        {
         "boxmean": true,
         "boxpoints": "all",
         "jitter": 1,
         "marker": {
          "color": "#ff69b4"
         },
         "name": "Laag",
         "pointpos": -1.8,
         "type": "box",
         "y": [
          6.324,
          6.068,
          5.987,
          6.481,
          5.992,
          5.401,
          5.976,
          5.51,
          4.871,
          5.822,
          5.538,
          5.743,
          5.132,
          5.279,
          5.897,
          4.996,
          5.163,
          4.907,
          4.875,
          5.185,
          5.151,
          5.129,
          5.314,
          5.061,
          4.513,
          4.276,
          4.793,
          5.303,
          3.484,
          4.459,
          4.655,
          6.084,
          3.907,
          4.219,
          3.856,
          3.739,
          4.36,
          3.607,
          4.252,
          4.356,
          4.201,
          5.045,
          4.643,
          4.073,
          4.635,
          4.415,
          4.395,
          3.763,
          4.324,
          4.508,
          3.739,
          4.362,
          4.795,
          3.303,
          4.404,
          3.622,
          3.695,
          2.905,
          4.193,
          4.028,
          4.156,
          3.724,
          3.515,
          3.666,
          3.36
         ]
        },
        {
         "boxmean": true,
         "boxpoints": "all",
         "jitter": 1,
         "marker": {
          "color": "#9400d3"
         },
         "name": "Hoog",
         "pointpos": -1.8,
         "type": "box",
         "y": [
          7.413,
          7.526,
          7.498,
          7.501,
          7.339,
          7.509,
          7.291,
          7.334,
          7.404,
          7.119,
          7.313,
          7.087,
          7.267,
          6.871,
          6.725,
          6.907,
          6.994,
          6.929,
          7.104,
          6.573,
          6.488,
          6.778,
          6.478,
          6.705,
          6.379,
          6.361,
          6.701,
          6.952,
          6.545,
          6.739,
          5.977,
          6.218,
          6.078,
          5.835,
          5.813,
          5.768,
          6.65,
          5.528,
          5.546,
          6.239,
          6.474,
          5.56,
          5.517,
          5.648,
          5.921,
          5.919,
          5.145,
          5.123,
          5.856,
          5.177,
          5.615,
          5.161,
          5.488,
          5.155,
          5.389,
          6.005,
          5.802,
          5.033,
          5.658,
          6.355,
          5.291,
          5.245,
          4.217,
          4.121,
          4.813,
          4.575,
          3.974
         ]
        }
       ],
       "layout": {
        "boxmode": "group",
        "plot_bgcolor": "white",
        "template": {
         "data": {
          "bar": [
           {
            "error_x": {
             "color": "#2a3f5f"
            },
            "error_y": {
             "color": "#2a3f5f"
            },
            "marker": {
             "line": {
              "color": "#E5ECF6",
              "width": 0.5
             },
             "pattern": {
              "fillmode": "overlay",
              "size": 10,
              "solidity": 0.2
             }
            },
            "type": "bar"
           }
          ],
          "barpolar": [
           {
            "marker": {
             "line": {
              "color": "#E5ECF6",
              "width": 0.5
             },
             "pattern": {
              "fillmode": "overlay",
              "size": 10,
              "solidity": 0.2
             }
            },
            "type": "barpolar"
           }
          ],
          "carpet": [
           {
            "aaxis": {
             "endlinecolor": "#2a3f5f",
             "gridcolor": "white",
             "linecolor": "white",
             "minorgridcolor": "white",
             "startlinecolor": "#2a3f5f"
            },
            "baxis": {
             "endlinecolor": "#2a3f5f",
             "gridcolor": "white",
             "linecolor": "white",
             "minorgridcolor": "white",
             "startlinecolor": "#2a3f5f"
            },
            "type": "carpet"
           }
          ],
          "choropleth": [
           {
            "colorbar": {
             "outlinewidth": 0,
             "ticks": ""
            },
            "type": "choropleth"
           }
          ],
          "contour": [
           {
            "colorbar": {
             "outlinewidth": 0,
             "ticks": ""
            },
            "colorscale": [
             [
              0,
              "#0d0887"
             ],
             [
              0.1111111111111111,
              "#46039f"
             ],
             [
              0.2222222222222222,
              "#7201a8"
             ],
             [
              0.3333333333333333,
              "#9c179e"
             ],
             [
              0.4444444444444444,
              "#bd3786"
             ],
             [
              0.5555555555555556,
              "#d8576b"
             ],
             [
              0.6666666666666666,
              "#ed7953"
             ],
             [
              0.7777777777777778,
              "#fb9f3a"
             ],
             [
              0.8888888888888888,
              "#fdca26"
             ],
             [
              1,
              "#f0f921"
             ]
            ],
            "type": "contour"
           }
          ],
          "contourcarpet": [
           {
            "colorbar": {
             "outlinewidth": 0,
             "ticks": ""
            },
            "type": "contourcarpet"
           }
          ],
          "heatmap": [
           {
            "colorbar": {
             "outlinewidth": 0,
             "ticks": ""
            },
            "colorscale": [
             [
              0,
              "#0d0887"
             ],
             [
              0.1111111111111111,
              "#46039f"
             ],
             [
              0.2222222222222222,
              "#7201a8"
             ],
             [
              0.3333333333333333,
              "#9c179e"
             ],
             [
              0.4444444444444444,
              "#bd3786"
             ],
             [
              0.5555555555555556,
              "#d8576b"
             ],
             [
              0.6666666666666666,
              "#ed7953"
             ],
             [
              0.7777777777777778,
              "#fb9f3a"
             ],
             [
              0.8888888888888888,
              "#fdca26"
             ],
             [
              1,
              "#f0f921"
             ]
            ],
            "type": "heatmap"
           }
          ],
          "heatmapgl": [
           {
            "colorbar": {
             "outlinewidth": 0,
             "ticks": ""
            },
            "colorscale": [
             [
              0,
              "#0d0887"
             ],
             [
              0.1111111111111111,
              "#46039f"
             ],
             [
              0.2222222222222222,
              "#7201a8"
             ],
             [
              0.3333333333333333,
              "#9c179e"
             ],
             [
              0.4444444444444444,
              "#bd3786"
             ],
             [
              0.5555555555555556,
              "#d8576b"
             ],
             [
              0.6666666666666666,
              "#ed7953"
             ],
             [
              0.7777777777777778,
              "#fb9f3a"
             ],
             [
              0.8888888888888888,
              "#fdca26"
             ],
             [
              1,
              "#f0f921"
             ]
            ],
            "type": "heatmapgl"
           }
          ],
          "histogram": [
           {
            "marker": {
             "pattern": {
              "fillmode": "overlay",
              "size": 10,
              "solidity": 0.2
             }
            },
            "type": "histogram"
           }
          ],
          "histogram2d": [
           {
            "colorbar": {
             "outlinewidth": 0,
             "ticks": ""
            },
            "colorscale": [
             [
              0,
              "#0d0887"
             ],
             [
              0.1111111111111111,
              "#46039f"
             ],
             [
              0.2222222222222222,
              "#7201a8"
             ],
             [
              0.3333333333333333,
              "#9c179e"
             ],
             [
              0.4444444444444444,
              "#bd3786"
             ],
             [
              0.5555555555555556,
              "#d8576b"
             ],
             [
              0.6666666666666666,
              "#ed7953"
             ],
             [
              0.7777777777777778,
              "#fb9f3a"
             ],
             [
              0.8888888888888888,
              "#fdca26"
             ],
             [
              1,
              "#f0f921"
             ]
            ],
            "type": "histogram2d"
           }
          ],
          "histogram2dcontour": [
           {
            "colorbar": {
             "outlinewidth": 0,
             "ticks": ""
            },
            "colorscale": [
             [
              0,
              "#0d0887"
             ],
             [
              0.1111111111111111,
              "#46039f"
             ],
             [
              0.2222222222222222,
              "#7201a8"
             ],
             [
              0.3333333333333333,
              "#9c179e"
             ],
             [
              0.4444444444444444,
              "#bd3786"
             ],
             [
              0.5555555555555556,
              "#d8576b"
             ],
             [
              0.6666666666666666,
              "#ed7953"
             ],
             [
              0.7777777777777778,
              "#fb9f3a"
             ],
             [
              0.8888888888888888,
              "#fdca26"
             ],
             [
              1,
              "#f0f921"
             ]
            ],
            "type": "histogram2dcontour"
           }
          ],
          "mesh3d": [
           {
            "colorbar": {
             "outlinewidth": 0,
             "ticks": ""
            },
            "type": "mesh3d"
           }
          ],
          "parcoords": [
           {
            "line": {
             "colorbar": {
              "outlinewidth": 0,
              "ticks": ""
             }
            },
            "type": "parcoords"
           }
          ],
          "pie": [
           {
            "automargin": true,
            "type": "pie"
           }
          ],
          "scatter": [
           {
            "fillpattern": {
             "fillmode": "overlay",
             "size": 10,
             "solidity": 0.2
            },
            "type": "scatter"
           }
          ],
          "scatter3d": [
           {
            "line": {
             "colorbar": {
              "outlinewidth": 0,
              "ticks": ""
             }
            },
            "marker": {
             "colorbar": {
              "outlinewidth": 0,
              "ticks": ""
             }
            },
            "type": "scatter3d"
           }
          ],
          "scattercarpet": [
           {
            "marker": {
             "colorbar": {
              "outlinewidth": 0,
              "ticks": ""
             }
            },
            "type": "scattercarpet"
           }
          ],
          "scattergeo": [
           {
            "marker": {
             "colorbar": {
              "outlinewidth": 0,
              "ticks": ""
             }
            },
            "type": "scattergeo"
           }
          ],
          "scattergl": [
           {
            "marker": {
             "colorbar": {
              "outlinewidth": 0,
              "ticks": ""
             }
            },
            "type": "scattergl"
           }
          ],
          "scattermapbox": [
           {
            "marker": {
             "colorbar": {
              "outlinewidth": 0,
              "ticks": ""
             }
            },
            "type": "scattermapbox"
           }
          ],
          "scatterpolar": [
           {
            "marker": {
             "colorbar": {
              "outlinewidth": 0,
              "ticks": ""
             }
            },
            "type": "scatterpolar"
           }
          ],
          "scatterpolargl": [
           {
            "marker": {
             "colorbar": {
              "outlinewidth": 0,
              "ticks": ""
             }
            },
            "type": "scatterpolargl"
           }
          ],
          "scatterternary": [
           {
            "marker": {
             "colorbar": {
              "outlinewidth": 0,
              "ticks": ""
             }
            },
            "type": "scatterternary"
           }
          ],
          "surface": [
           {
            "colorbar": {
             "outlinewidth": 0,
             "ticks": ""
            },
            "colorscale": [
             [
              0,
              "#0d0887"
             ],
             [
              0.1111111111111111,
              "#46039f"
             ],
             [
              0.2222222222222222,
              "#7201a8"
             ],
             [
              0.3333333333333333,
              "#9c179e"
             ],
             [
              0.4444444444444444,
              "#bd3786"
             ],
             [
              0.5555555555555556,
              "#d8576b"
             ],
             [
              0.6666666666666666,
              "#ed7953"
             ],
             [
              0.7777777777777778,
              "#fb9f3a"
             ],
             [
              0.8888888888888888,
              "#fdca26"
             ],
             [
              1,
              "#f0f921"
             ]
            ],
            "type": "surface"
           }
          ],
          "table": [
           {
            "cells": {
             "fill": {
              "color": "#EBF0F8"
             },
             "line": {
              "color": "white"
             }
            },
            "header": {
             "fill": {
              "color": "#C8D4E3"
             },
             "line": {
              "color": "white"
             }
            },
            "type": "table"
           }
          ]
         },
         "layout": {
          "annotationdefaults": {
           "arrowcolor": "#2a3f5f",
           "arrowhead": 0,
           "arrowwidth": 1
          },
          "autotypenumbers": "strict",
          "coloraxis": {
           "colorbar": {
            "outlinewidth": 0,
            "ticks": ""
           }
          },
          "colorscale": {
           "diverging": [
            [
             0,
             "#8e0152"
            ],
            [
             0.1,
             "#c51b7d"
            ],
            [
             0.2,
             "#de77ae"
            ],
            [
             0.3,
             "#f1b6da"
            ],
            [
             0.4,
             "#fde0ef"
            ],
            [
             0.5,
             "#f7f7f7"
            ],
            [
             0.6,
             "#e6f5d0"
            ],
            [
             0.7,
             "#b8e186"
            ],
            [
             0.8,
             "#7fbc41"
            ],
            [
             0.9,
             "#4d9221"
            ],
            [
             1,
             "#276419"
            ]
           ],
           "sequential": [
            [
             0,
             "#0d0887"
            ],
            [
             0.1111111111111111,
             "#46039f"
            ],
            [
             0.2222222222222222,
             "#7201a8"
            ],
            [
             0.3333333333333333,
             "#9c179e"
            ],
            [
             0.4444444444444444,
             "#bd3786"
            ],
            [
             0.5555555555555556,
             "#d8576b"
            ],
            [
             0.6666666666666666,
             "#ed7953"
            ],
            [
             0.7777777777777778,
             "#fb9f3a"
            ],
            [
             0.8888888888888888,
             "#fdca26"
            ],
            [
             1,
             "#f0f921"
            ]
           ],
           "sequentialminus": [
            [
             0,
             "#0d0887"
            ],
            [
             0.1111111111111111,
             "#46039f"
            ],
            [
             0.2222222222222222,
             "#7201a8"
            ],
            [
             0.3333333333333333,
             "#9c179e"
            ],
            [
             0.4444444444444444,
             "#bd3786"
            ],
            [
             0.5555555555555556,
             "#d8576b"
            ],
            [
             0.6666666666666666,
             "#ed7953"
            ],
            [
             0.7777777777777778,
             "#fb9f3a"
            ],
            [
             0.8888888888888888,
             "#fdca26"
            ],
            [
             1,
             "#f0f921"
            ]
           ]
          },
          "colorway": [
           "#636efa",
           "#EF553B",
           "#00cc96",
           "#ab63fa",
           "#FFA15A",
           "#19d3f3",
           "#FF6692",
           "#B6E880",
           "#FF97FF",
           "#FECB52"
          ],
          "font": {
           "color": "#2a3f5f"
          },
          "geo": {
           "bgcolor": "white",
           "lakecolor": "white",
           "landcolor": "#E5ECF6",
           "showlakes": true,
           "showland": true,
           "subunitcolor": "white"
          },
          "hoverlabel": {
           "align": "left"
          },
          "hovermode": "closest",
          "mapbox": {
           "style": "light"
          },
          "paper_bgcolor": "white",
          "plot_bgcolor": "#E5ECF6",
          "polar": {
           "angularaxis": {
            "gridcolor": "white",
            "linecolor": "white",
            "ticks": ""
           },
           "bgcolor": "#E5ECF6",
           "radialaxis": {
            "gridcolor": "white",
            "linecolor": "white",
            "ticks": ""
           }
          },
          "scene": {
           "xaxis": {
            "backgroundcolor": "#E5ECF6",
            "gridcolor": "white",
            "gridwidth": 2,
            "linecolor": "white",
            "showbackground": true,
            "ticks": "",
            "zerolinecolor": "white"
           },
           "yaxis": {
            "backgroundcolor": "#E5ECF6",
            "gridcolor": "white",
            "gridwidth": 2,
            "linecolor": "white",
            "showbackground": true,
            "ticks": "",
            "zerolinecolor": "white"
           },
           "zaxis": {
            "backgroundcolor": "#E5ECF6",
            "gridcolor": "white",
            "gridwidth": 2,
            "linecolor": "white",
            "showbackground": true,
            "ticks": "",
            "zerolinecolor": "white"
           }
          },
          "shapedefaults": {
           "line": {
            "color": "#2a3f5f"
           }
          },
          "ternary": {
           "aaxis": {
            "gridcolor": "white",
            "linecolor": "white",
            "ticks": ""
           },
           "baxis": {
            "gridcolor": "white",
            "linecolor": "white",
            "ticks": ""
           },
           "bgcolor": "#E5ECF6",
           "caxis": {
            "gridcolor": "white",
            "linecolor": "white",
            "ticks": ""
           }
          },
          "title": {
           "x": 0.05
          },
          "xaxis": {
           "automargin": true,
           "gridcolor": "white",
           "linecolor": "white",
           "ticks": "",
           "title": {
            "standoff": 15
           },
           "zerolinecolor": "white",
           "zerolinewidth": 2
          },
          "yaxis": {
           "automargin": true,
           "gridcolor": "white",
           "linecolor": "white",
           "ticks": "",
           "title": {
            "standoff": 15
           },
           "zerolinecolor": "white",
           "zerolinewidth": 2
          }
         }
        },
        "title": {
         "text": "Geluksscore per GDP per capita groep"
        },
        "xaxis": {
         "title": {
          "text": "GDP per capita groep"
         }
        },
        "yaxis": {
         "title": {
          "text": "Geluksscore"
         }
        }
       }
      },
      "text/html": [
       "<div>                            <div id=\"7382f25d-5d74-4594-a184-c51a3bca710f\" class=\"plotly-graph-div\" style=\"height:525px; width:100%;\"></div>            <script type=\"text/javascript\">                require([\"plotly\"], function(Plotly) {                    window.PLOTLYENV=window.PLOTLYENV || {};                                    if (document.getElementById(\"7382f25d-5d74-4594-a184-c51a3bca710f\")) {                    Plotly.newPlot(                        \"7382f25d-5d74-4594-a184-c51a3bca710f\",                        [{\"boxmean\":true,\"boxpoints\":\"all\",\"jitter\":1,\"marker\":{\"color\":\"#ff69b4\"},\"name\":\"Laag\",\"pointpos\":-1.8,\"y\":[6.324,6.068,5.987,6.481,5.992,5.401,5.976,5.51,4.871,5.822,5.538,5.743,5.132,5.279,5.897,4.996,5.163,4.907,4.875,5.185,5.151,5.129,5.314,5.061,4.513,4.276,4.793,5.303,3.484,4.459,4.655,6.084,3.907,4.219,3.856,3.739,4.36,3.607,4.252,4.356,4.201,5.045,4.643,4.073,4.635,4.415,4.395,3.763,4.324,4.508,3.739,4.362,4.795,3.303,4.404,3.622,3.695,2.905,4.193,4.028,4.156,3.724,3.515,3.666,3.36],\"type\":\"box\"},{\"boxmean\":true,\"boxpoints\":\"all\",\"jitter\":1,\"marker\":{\"color\":\"#9400d3\"},\"name\":\"Hoog\",\"pointpos\":-1.8,\"y\":[7.413,7.526,7.498,7.501,7.339,7.509,7.291,7.334,7.404,7.119,7.313,7.087,7.267,6.871,6.725,6.907,6.994,6.929,7.104,6.573,6.488,6.778,6.478,6.705,6.379,6.361,6.701,6.952,6.545,6.739,5.977,6.218,6.078,5.835,5.813,5.768,6.65,5.528,5.546,6.239,6.474,5.56,5.517,5.648,5.921,5.919,5.145,5.123,5.856,5.177,5.615,5.161,5.488,5.155,5.389,6.005,5.802,5.033,5.658,6.355,5.291,5.245,4.217,4.121,4.813,4.575,3.974],\"type\":\"box\"}],                        {\"template\":{\"data\":{\"histogram2dcontour\":[{\"type\":\"histogram2dcontour\",\"colorbar\":{\"outlinewidth\":0,\"ticks\":\"\"},\"colorscale\":[[0.0,\"#0d0887\"],[0.1111111111111111,\"#46039f\"],[0.2222222222222222,\"#7201a8\"],[0.3333333333333333,\"#9c179e\"],[0.4444444444444444,\"#bd3786\"],[0.5555555555555556,\"#d8576b\"],[0.6666666666666666,\"#ed7953\"],[0.7777777777777778,\"#fb9f3a\"],[0.8888888888888888,\"#fdca26\"],[1.0,\"#f0f921\"]]}],\"choropleth\":[{\"type\":\"choropleth\",\"colorbar\":{\"outlinewidth\":0,\"ticks\":\"\"}}],\"histogram2d\":[{\"type\":\"histogram2d\",\"colorbar\":{\"outlinewidth\":0,\"ticks\":\"\"},\"colorscale\":[[0.0,\"#0d0887\"],[0.1111111111111111,\"#46039f\"],[0.2222222222222222,\"#7201a8\"],[0.3333333333333333,\"#9c179e\"],[0.4444444444444444,\"#bd3786\"],[0.5555555555555556,\"#d8576b\"],[0.6666666666666666,\"#ed7953\"],[0.7777777777777778,\"#fb9f3a\"],[0.8888888888888888,\"#fdca26\"],[1.0,\"#f0f921\"]]}],\"heatmap\":[{\"type\":\"heatmap\",\"colorbar\":{\"outlinewidth\":0,\"ticks\":\"\"},\"colorscale\":[[0.0,\"#0d0887\"],[0.1111111111111111,\"#46039f\"],[0.2222222222222222,\"#7201a8\"],[0.3333333333333333,\"#9c179e\"],[0.4444444444444444,\"#bd3786\"],[0.5555555555555556,\"#d8576b\"],[0.6666666666666666,\"#ed7953\"],[0.7777777777777778,\"#fb9f3a\"],[0.8888888888888888,\"#fdca26\"],[1.0,\"#f0f921\"]]}],\"heatmapgl\":[{\"type\":\"heatmapgl\",\"colorbar\":{\"outlinewidth\":0,\"ticks\":\"\"},\"colorscale\":[[0.0,\"#0d0887\"],[0.1111111111111111,\"#46039f\"],[0.2222222222222222,\"#7201a8\"],[0.3333333333333333,\"#9c179e\"],[0.4444444444444444,\"#bd3786\"],[0.5555555555555556,\"#d8576b\"],[0.6666666666666666,\"#ed7953\"],[0.7777777777777778,\"#fb9f3a\"],[0.8888888888888888,\"#fdca26\"],[1.0,\"#f0f921\"]]}],\"contourcarpet\":[{\"type\":\"contourcarpet\",\"colorbar\":{\"outlinewidth\":0,\"ticks\":\"\"}}],\"contour\":[{\"type\":\"contour\",\"colorbar\":{\"outlinewidth\":0,\"ticks\":\"\"},\"colorscale\":[[0.0,\"#0d0887\"],[0.1111111111111111,\"#46039f\"],[0.2222222222222222,\"#7201a8\"],[0.3333333333333333,\"#9c179e\"],[0.4444444444444444,\"#bd3786\"],[0.5555555555555556,\"#d8576b\"],[0.6666666666666666,\"#ed7953\"],[0.7777777777777778,\"#fb9f3a\"],[0.8888888888888888,\"#fdca26\"],[1.0,\"#f0f921\"]]}],\"surface\":[{\"type\":\"surface\",\"colorbar\":{\"outlinewidth\":0,\"ticks\":\"\"},\"colorscale\":[[0.0,\"#0d0887\"],[0.1111111111111111,\"#46039f\"],[0.2222222222222222,\"#7201a8\"],[0.3333333333333333,\"#9c179e\"],[0.4444444444444444,\"#bd3786\"],[0.5555555555555556,\"#d8576b\"],[0.6666666666666666,\"#ed7953\"],[0.7777777777777778,\"#fb9f3a\"],[0.8888888888888888,\"#fdca26\"],[1.0,\"#f0f921\"]]}],\"mesh3d\":[{\"type\":\"mesh3d\",\"colorbar\":{\"outlinewidth\":0,\"ticks\":\"\"}}],\"scatter\":[{\"fillpattern\":{\"fillmode\":\"overlay\",\"size\":10,\"solidity\":0.2},\"type\":\"scatter\"}],\"parcoords\":[{\"type\":\"parcoords\",\"line\":{\"colorbar\":{\"outlinewidth\":0,\"ticks\":\"\"}}}],\"scatterpolargl\":[{\"type\":\"scatterpolargl\",\"marker\":{\"colorbar\":{\"outlinewidth\":0,\"ticks\":\"\"}}}],\"bar\":[{\"error_x\":{\"color\":\"#2a3f5f\"},\"error_y\":{\"color\":\"#2a3f5f\"},\"marker\":{\"line\":{\"color\":\"#E5ECF6\",\"width\":0.5},\"pattern\":{\"fillmode\":\"overlay\",\"size\":10,\"solidity\":0.2}},\"type\":\"bar\"}],\"scattergeo\":[{\"type\":\"scattergeo\",\"marker\":{\"colorbar\":{\"outlinewidth\":0,\"ticks\":\"\"}}}],\"scatterpolar\":[{\"type\":\"scatterpolar\",\"marker\":{\"colorbar\":{\"outlinewidth\":0,\"ticks\":\"\"}}}],\"histogram\":[{\"marker\":{\"pattern\":{\"fillmode\":\"overlay\",\"size\":10,\"solidity\":0.2}},\"type\":\"histogram\"}],\"scattergl\":[{\"type\":\"scattergl\",\"marker\":{\"colorbar\":{\"outlinewidth\":0,\"ticks\":\"\"}}}],\"scatter3d\":[{\"type\":\"scatter3d\",\"line\":{\"colorbar\":{\"outlinewidth\":0,\"ticks\":\"\"}},\"marker\":{\"colorbar\":{\"outlinewidth\":0,\"ticks\":\"\"}}}],\"scattermapbox\":[{\"type\":\"scattermapbox\",\"marker\":{\"colorbar\":{\"outlinewidth\":0,\"ticks\":\"\"}}}],\"scatterternary\":[{\"type\":\"scatterternary\",\"marker\":{\"colorbar\":{\"outlinewidth\":0,\"ticks\":\"\"}}}],\"scattercarpet\":[{\"type\":\"scattercarpet\",\"marker\":{\"colorbar\":{\"outlinewidth\":0,\"ticks\":\"\"}}}],\"carpet\":[{\"aaxis\":{\"endlinecolor\":\"#2a3f5f\",\"gridcolor\":\"white\",\"linecolor\":\"white\",\"minorgridcolor\":\"white\",\"startlinecolor\":\"#2a3f5f\"},\"baxis\":{\"endlinecolor\":\"#2a3f5f\",\"gridcolor\":\"white\",\"linecolor\":\"white\",\"minorgridcolor\":\"white\",\"startlinecolor\":\"#2a3f5f\"},\"type\":\"carpet\"}],\"table\":[{\"cells\":{\"fill\":{\"color\":\"#EBF0F8\"},\"line\":{\"color\":\"white\"}},\"header\":{\"fill\":{\"color\":\"#C8D4E3\"},\"line\":{\"color\":\"white\"}},\"type\":\"table\"}],\"barpolar\":[{\"marker\":{\"line\":{\"color\":\"#E5ECF6\",\"width\":0.5},\"pattern\":{\"fillmode\":\"overlay\",\"size\":10,\"solidity\":0.2}},\"type\":\"barpolar\"}],\"pie\":[{\"automargin\":true,\"type\":\"pie\"}]},\"layout\":{\"autotypenumbers\":\"strict\",\"colorway\":[\"#636efa\",\"#EF553B\",\"#00cc96\",\"#ab63fa\",\"#FFA15A\",\"#19d3f3\",\"#FF6692\",\"#B6E880\",\"#FF97FF\",\"#FECB52\"],\"font\":{\"color\":\"#2a3f5f\"},\"hovermode\":\"closest\",\"hoverlabel\":{\"align\":\"left\"},\"paper_bgcolor\":\"white\",\"plot_bgcolor\":\"#E5ECF6\",\"polar\":{\"bgcolor\":\"#E5ECF6\",\"angularaxis\":{\"gridcolor\":\"white\",\"linecolor\":\"white\",\"ticks\":\"\"},\"radialaxis\":{\"gridcolor\":\"white\",\"linecolor\":\"white\",\"ticks\":\"\"}},\"ternary\":{\"bgcolor\":\"#E5ECF6\",\"aaxis\":{\"gridcolor\":\"white\",\"linecolor\":\"white\",\"ticks\":\"\"},\"baxis\":{\"gridcolor\":\"white\",\"linecolor\":\"white\",\"ticks\":\"\"},\"caxis\":{\"gridcolor\":\"white\",\"linecolor\":\"white\",\"ticks\":\"\"}},\"coloraxis\":{\"colorbar\":{\"outlinewidth\":0,\"ticks\":\"\"}},\"colorscale\":{\"sequential\":[[0.0,\"#0d0887\"],[0.1111111111111111,\"#46039f\"],[0.2222222222222222,\"#7201a8\"],[0.3333333333333333,\"#9c179e\"],[0.4444444444444444,\"#bd3786\"],[0.5555555555555556,\"#d8576b\"],[0.6666666666666666,\"#ed7953\"],[0.7777777777777778,\"#fb9f3a\"],[0.8888888888888888,\"#fdca26\"],[1.0,\"#f0f921\"]],\"sequentialminus\":[[0.0,\"#0d0887\"],[0.1111111111111111,\"#46039f\"],[0.2222222222222222,\"#7201a8\"],[0.3333333333333333,\"#9c179e\"],[0.4444444444444444,\"#bd3786\"],[0.5555555555555556,\"#d8576b\"],[0.6666666666666666,\"#ed7953\"],[0.7777777777777778,\"#fb9f3a\"],[0.8888888888888888,\"#fdca26\"],[1.0,\"#f0f921\"]],\"diverging\":[[0,\"#8e0152\"],[0.1,\"#c51b7d\"],[0.2,\"#de77ae\"],[0.3,\"#f1b6da\"],[0.4,\"#fde0ef\"],[0.5,\"#f7f7f7\"],[0.6,\"#e6f5d0\"],[0.7,\"#b8e186\"],[0.8,\"#7fbc41\"],[0.9,\"#4d9221\"],[1,\"#276419\"]]},\"xaxis\":{\"gridcolor\":\"white\",\"linecolor\":\"white\",\"ticks\":\"\",\"title\":{\"standoff\":15},\"zerolinecolor\":\"white\",\"automargin\":true,\"zerolinewidth\":2},\"yaxis\":{\"gridcolor\":\"white\",\"linecolor\":\"white\",\"ticks\":\"\",\"title\":{\"standoff\":15},\"zerolinecolor\":\"white\",\"automargin\":true,\"zerolinewidth\":2},\"scene\":{\"xaxis\":{\"backgroundcolor\":\"#E5ECF6\",\"gridcolor\":\"white\",\"linecolor\":\"white\",\"showbackground\":true,\"ticks\":\"\",\"zerolinecolor\":\"white\",\"gridwidth\":2},\"yaxis\":{\"backgroundcolor\":\"#E5ECF6\",\"gridcolor\":\"white\",\"linecolor\":\"white\",\"showbackground\":true,\"ticks\":\"\",\"zerolinecolor\":\"white\",\"gridwidth\":2},\"zaxis\":{\"backgroundcolor\":\"#E5ECF6\",\"gridcolor\":\"white\",\"linecolor\":\"white\",\"showbackground\":true,\"ticks\":\"\",\"zerolinecolor\":\"white\",\"gridwidth\":2}},\"shapedefaults\":{\"line\":{\"color\":\"#2a3f5f\"}},\"annotationdefaults\":{\"arrowcolor\":\"#2a3f5f\",\"arrowhead\":0,\"arrowwidth\":1},\"geo\":{\"bgcolor\":\"white\",\"landcolor\":\"#E5ECF6\",\"subunitcolor\":\"white\",\"showland\":true,\"showlakes\":true,\"lakecolor\":\"white\"},\"title\":{\"x\":0.05},\"mapbox\":{\"style\":\"light\"}}},\"title\":{\"text\":\"Geluksscore per GDP per capita groep\"},\"yaxis\":{\"title\":{\"text\":\"Geluksscore\"}},\"xaxis\":{\"title\":{\"text\":\"GDP per capita groep\"}},\"boxmode\":\"group\",\"plot_bgcolor\":\"white\"},                        {\"responsive\": true}                    ).then(function(){\n",
       "                            \n",
       "var gd = document.getElementById('7382f25d-5d74-4594-a184-c51a3bca710f');\n",
       "var x = new MutationObserver(function (mutations, observer) {{\n",
       "        var display = window.getComputedStyle(gd).display;\n",
       "        if (!display || display === 'none') {{\n",
       "            console.log([gd, 'removed!']);\n",
       "            Plotly.purge(gd);\n",
       "            observer.disconnect();\n",
       "        }}\n",
       "}});\n",
       "\n",
       "// Listen for the removal of the full notebook cells\n",
       "var notebookContainer = gd.closest('#notebook-container');\n",
       "if (notebookContainer) {{\n",
       "    x.observe(notebookContainer, {childList: true});\n",
       "}}\n",
       "\n",
       "// Listen for the clearing of the current output cell\n",
       "var outputEl = gd.closest('.output');\n",
       "if (outputEl) {{\n",
       "    x.observe(outputEl, {childList: true});\n",
       "}}\n",
       "\n",
       "                        })                };                });            </script>        </div>"
      ]
     },
     "metadata": {},
     "output_type": "display_data"
    }
   ],
   "source": [
    "import pandas as pd\n",
    "import plotly.graph_objects as go\n",
    "\n",
    "# Lees het CSV-bestand met gegevens over landen\n",
    "df = pd.read_csv(r\"C:\\Users\\tatum\\Downloads\\merged_df_happy_2019.csv\")\n",
    "\n",
    "# Kies een drempelwaarde voor GDP per capita\n",
    "threshold = 1\n",
    "\n",
    "# Maak een nieuwe kolom met de groepsnaam\n",
    "df['group'] = df['GDP per capita'].apply(lambda x: 'Laag' if x < threshold else 'Hoog')\n",
    "\n",
    "# Maak een lege figuur\n",
    "fig = go.Figure()\n",
    "\n",
    "# Voeg voor elke groep een boxplot toe voor geluksscore\n",
    "for group in ['Laag', 'Hoog']:\n",
    "    # Filter de dataframe op groep\n",
    "    df_group = df[df['group'] == group]\n",
    "    \n",
    "    # Voeg een boxplot toe voor geluksscore\n",
    "    fig.add_trace(go.Box(\n",
    "        y=df_group['happiness_score'],\n",
    "        name=group,\n",
    "        marker_color='#ff69b4' if group == 'Laag' else '#9400d3',\n",
    "        boxmean=True,\n",
    "        boxpoints='all',\n",
    "        jitter=1,\n",
    "        pointpos=-1.8\n",
    "    ))\n",
    "\n",
    "# Pas de opmaak van de grafiek aan\n",
    "fig.update_layout(\n",
    "    title='Geluksscore per GDP per capita groep',\n",
    "    yaxis=dict(\n",
    "        title='Geluksscore'\n",
    "    ),\n",
    "    xaxis=dict(\n",
    "        title='GDP per capita groep'\n",
    "    ),\n",
    "    boxmode='group',\n",
    "    plot_bgcolor='white'\n",
    ")\n",
    "\n",
    "# Toon de interactieve grafiek\n",
    "fig.show()\n"
   ]
  },
  {
   "cell_type": "code",
   "execution_count": null,
   "id": "fb5ce391",
   "metadata": {},
   "outputs": [],
   "source": []
  }
 ],
 "metadata": {
  "kernelspec": {
   "display_name": "Python 3 (ipykernel)",
   "language": "python",
   "name": "python3"
  },
  "language_info": {
   "codemirror_mode": {
    "name": "ipython",
    "version": 3
   },
   "file_extension": ".py",
   "mimetype": "text/x-python",
   "name": "python",
   "nbconvert_exporter": "python",
   "pygments_lexer": "ipython3",
   "version": "3.9.16"
  }
 },
 "nbformat": 4,
 "nbformat_minor": 5
}